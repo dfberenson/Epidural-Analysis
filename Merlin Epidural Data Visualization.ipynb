{
 "cells": [
  {
   "cell_type": "markdown",
   "metadata": {},
   "source": [
    "# Imports"
   ]
  },
  {
   "cell_type": "code",
   "execution_count": null,
   "metadata": {},
   "outputs": [],
   "source": [
    "import numpy as np\n",
    "import pandas as pd\n",
    "import matplotlib.pyplot as plt\n",
    "import seaborn as sns\n",
    "import statsmodels.formula.api as smf\n",
    "import modules.data_visualization_utils as dvu\n",
    "from importlib import reload\n",
    "\n",
    "# my_computer_fpath = \"C:\\\\Users\\\\dfber\\\\OneDrive - Mass General Brigham\\\\Epidural project\\\\Data\\\\\"\n",
    "my_computer_fpath = \"C:\\\\Users\\\\User\\\\OneDrive - Mass General Brigham\\\\Epidural project\\\\Data\\\\\""
   ]
  },
  {
   "cell_type": "markdown",
   "metadata": {},
   "source": [
    "# Load Data"
   ]
  },
  {
   "cell_type": "code",
   "execution_count": null,
   "metadata": {},
   "outputs": [],
   "source": [
    "df = pd.read_csv(my_computer_fpath + 'processed_and_imputed_merlin_data.csv') "
   ]
  },
  {
   "cell_type": "code",
   "execution_count": null,
   "metadata": {},
   "outputs": [],
   "source": [
    "# Filter the DataFrame to include only epidural-only catheter procedures\n",
    "neuraxial_catheter_df = df\n",
    "epidural_df = df[(df['true_procedure_type_incl_dpe'] == 'epidural') | (df['true_procedure_type_incl_dpe'] == 'dpe')]"
   ]
  },
  {
   "cell_type": "markdown",
   "metadata": {},
   "source": [
    "# Correlation Matrix"
   ]
  },
  {
   "cell_type": "code",
   "execution_count": null,
   "metadata": {},
   "outputs": [],
   "source": [
    "related_groups = {\n",
    "    'failure': ['failed_catheter','has_subsequent_neuraxial_catheter','has_subsequent_spinal','has_subsequent_airway'],\n",
    "    'timing': ['placement_to_delivery_hours','rom_thru_delivery_hours','rom_to_placement_hours'],\n",
    "    'maternal_age_gp': ['maternal_age_years','gravidity_2047','parity_2048'],\n",
    "    'multiple_gestation_and_labor_induction': ['multiple_gestation','labor_induction'],\n",
    "    'baby_size': ['gestational_age_weeks','baby_weight_2196'],\n",
    "    'maternal_size': ['bmi_end_pregnancy_2044', 'bmi_greater_than_40', 'maternal_weight_end_pregnancy_2045', 'bmi_before_pregnancy_2161'],\n",
    "    'team_composition': ['has_resident','has_anesthesiologist'],\n",
    "    'team_catheter_counts': ['current_anesthesiologist_catheter_count','current_resident_catheter_count','total_team_catheter_count'],\n",
    "    'bmi_and_experience': [\"high_bmi_and_highly_experienced_resident\",    \"high_bmi_and_lowly_experienced_resident\",    \"high_bmi_and_no_resident\",    \"high_bmi_and_highly_experienced_anesthesiologist\"],\n",
    "    'scoliosis_and_experience': [\"scoliosis_and_highly_experienced_resident\",    \"scoliosis_and_lowly_experienced_resident\",    \"scoliosis_and_no_resident\",    \"scoliosis_and_highly_experienced_anesthesiologist\"],\n",
    "    'back_group': ['high_bmi_and_scoliosis','has_scoliosis','has_dorsalgia','has_back_problems'],\n",
    "    'maternal_risk': ['prior_ob_cmi_scores_max','CS_hx','high_risk_current_pregnancy','high_risk_hx','iufd'],\n",
    "    'psychosocial_and_ses': ['composite_psychosocial_problems','only_private_insurance','maternal_language_english','marital_status_married_or_partner','country_of_origin_USA','employment_status_fulltime','composite_SES_advantage'],\n",
    "    'lor': ['lor_depth','predicted_lor_depth','unexpected_delta_lor','unexpected_delta_lor_squared'],\n",
    "    'pain_and_attempts': ['prior_pain_scores_max','paresthesias_present','number_of_neuraxial_attempts','number_of_spinal_attempts'],\n",
    "    'prior_catheters': ['prior_failed_catheters_this_enc','prior_failed_catheters_prev_enc','prior_all_catheters_all_enc']\n",
    "}"
   ]
  },
  {
   "cell_type": "code",
   "execution_count": null,
   "metadata": {},
   "outputs": [],
   "source": [
    "dvu.plot_correlation_heatmap_with_related_groups(neuraxial_catheter_df, drop_columns=['anes_procedure_encounter_id_2273','unique_pt_id'],additional_groups=related_groups,draw_group_boxes=True,draw_group_lines=True)"
   ]
  },
  {
   "cell_type": "markdown",
   "metadata": {},
   "source": [
    "# Drop any columns here?"
   ]
  },
  {
   "cell_type": "code",
   "execution_count": null,
   "metadata": {},
   "outputs": [],
   "source": [
    "# I did formerly but no longer do"
   ]
  },
  {
   "cell_type": "markdown",
   "metadata": {},
   "source": [
    "# Correlation Matrix 2"
   ]
  },
  {
   "cell_type": "code",
   "execution_count": null,
   "metadata": {},
   "outputs": [],
   "source": [
    "dvu.plot_correlation_heatmap_with_related_groups(neuraxial_catheter_df, drop_columns=['anes_procedure_encounter_id_2273','unique_pt_id'],additional_groups=related_groups,draw_group_boxes=True,draw_group_lines=True)"
   ]
  },
  {
   "cell_type": "markdown",
   "metadata": {},
   "source": [
    "# Data Visualization"
   ]
  },
  {
   "cell_type": "markdown",
   "metadata": {},
   "source": [
    "## Procedure Types"
   ]
  },
  {
   "cell_type": "code",
   "execution_count": null,
   "metadata": {},
   "outputs": [],
   "source": [
    "plt.hist(neuraxial_catheter_df['true_procedure_type_incl_dpe'])"
   ]
  },
  {
   "cell_type": "code",
   "execution_count": null,
   "metadata": {},
   "outputs": [],
   "source": [
    "dvu.plot_stacked_bar_histogram(neuraxial_catheter_df, index_col='true_procedure_type_incl_dpe', value_col='failed_catheter',\n",
    "                           sort_by=None, legend_labels=['Successful', 'Failed'])"
   ]
  },
  {
   "cell_type": "markdown",
   "metadata": {},
   "source": [
    "## Anesthesiologist Experience"
   ]
  },
  {
   "cell_type": "code",
   "execution_count": null,
   "metadata": {},
   "outputs": [],
   "source": [
    "reload(dvu)"
   ]
  },
  {
   "cell_type": "code",
   "execution_count": null,
   "metadata": {},
   "outputs": [],
   "source": [
    "dvu.plot_stacked_bar_histogram(neuraxial_catheter_df, index_col='anesthesiologist_experience_category', value_col='failed_catheter',custom_order=['no_anesthesiologist','low','moderate','high'])"
   ]
  },
  {
   "cell_type": "code",
   "execution_count": null,
   "metadata": {},
   "outputs": [],
   "source": [
    "dvu.plot_stacked_bar_histogram(neuraxial_catheter_df, index_col='resident_experience_category', value_col='failed_catheter',custom_order=['no_resident','low','high'])"
   ]
  },
  {
   "cell_type": "code",
   "execution_count": null,
   "metadata": {},
   "outputs": [],
   "source": [
    "dvu.plot_stacked_bar_histogram(neuraxial_catheter_df, index_col='anesthesiologist_experience_category',index_col_2='resident_experience_category', value_col='failed_catheter')"
   ]
  },
  {
   "cell_type": "code",
   "execution_count": null,
   "metadata": {},
   "outputs": [],
   "source": [
    "dvu.plot_violin_crosstab_anova(neuraxial_catheter_df, index_col='resident_experience_category', value_col='bmi_end_pregnancy_2044',custom_order=['no_resident','low','high'])"
   ]
  },
  {
   "cell_type": "markdown",
   "metadata": {},
   "source": [
    "## Delivery Site"
   ]
  },
  {
   "cell_type": "code",
   "execution_count": null,
   "metadata": {},
   "outputs": [],
   "source": []
  },
  {
   "cell_type": "code",
   "execution_count": null,
   "metadata": {},
   "outputs": [],
   "source": [
    "dvu.plot_stacked_bar_histogram(neuraxial_catheter_df, index_col='delivery_site', value_col='failed_catheter')"
   ]
  },
  {
   "cell_type": "code",
   "execution_count": null,
   "metadata": {},
   "outputs": [],
   "source": [
    "dvu.plot_stacked_bar_histogram(neuraxial_catheter_df, index_col='delivery_site', value_col='has_subsequent_neuraxial_catheter',\n",
    "                           sort_by=None, legend_labels=['Yes', 'No'])"
   ]
  },
  {
   "cell_type": "code",
   "execution_count": null,
   "metadata": {},
   "outputs": [],
   "source": [
    "dvu.plot_stacked_bar_histogram(neuraxial_catheter_df, index_col='delivery_site', value_col='has_subsequent_spinal',\n",
    "                           sort_by=None, legend_labels=['Yes', 'No'])"
   ]
  },
  {
   "cell_type": "code",
   "execution_count": null,
   "metadata": {},
   "outputs": [],
   "source": [
    "dvu.plot_stacked_bar_histogram(neuraxial_catheter_df, index_col='delivery_site', value_col='has_subsequent_airway',\n",
    "                           sort_by=None, legend_labels=['Yes', 'No'])"
   ]
  },
  {
   "cell_type": "code",
   "execution_count": null,
   "metadata": {},
   "outputs": [],
   "source": [
    "dvu.plot_violin_crosstab_anova(neuraxial_catheter_df, index_col='delivery_site', value_col='bmi_end_pregnancy_2044')"
   ]
  },
  {
   "cell_type": "markdown",
   "metadata": {},
   "source": [
    "## DPE"
   ]
  },
  {
   "cell_type": "code",
   "execution_count": null,
   "metadata": {},
   "outputs": [],
   "source": [
    "# prompt: create a pie chart of the fraction of DPE in epidural_df\n",
    "\n",
    "# Count DPE values, treating NaN and '' as \"no\"\n",
    "dpe_counts = epidural_df['true_procedure_type_incl_dpe'].value_counts()\n",
    "\n",
    "# Create the pie chart\n",
    "plt.figure(figsize=(8, 8))\n",
    "plt.pie(dpe_counts, labels=dpe_counts.index, autopct='%1.1f%%', startangle=90)\n",
    "plt.title('Fraction of DPE in Epidural Procedures')\n",
    "plt.axis('equal')  # Equal aspect ratio ensures that pie is drawn as a circle.\n",
    "plt.show()"
   ]
  },
  {
   "cell_type": "code",
   "execution_count": null,
   "metadata": {},
   "outputs": [],
   "source": [
    "dvu.plot_stacked_bar_histogram(neuraxial_catheter_df, index_col='delivery_site', value_col='true_procedure_type_incl_dpe', sort_by='intrathecal')"
   ]
  },
  {
   "cell_type": "code",
   "execution_count": null,
   "metadata": {},
   "outputs": [],
   "source": [
    "dvu.plot_stacked_bar_histogram(neuraxial_catheter_df, index_col='true_procedure_type_incl_dpe', value_col='failed_catheter')"
   ]
  },
  {
   "cell_type": "code",
   "execution_count": null,
   "metadata": {},
   "outputs": [],
   "source": [
    "reload(dvu)"
   ]
  },
  {
   "cell_type": "code",
   "execution_count": null,
   "metadata": {},
   "outputs": [],
   "source": [
    "dvu.plot_stacked_bar_histogram(neuraxial_catheter_df, index_col='delivery_site', index_col_2='true_procedure_type_incl_dpe',value_col='failed_catheter',sort_by='no_sort', title='Failed Catheter Rate by Delivery Site and Procedure Type')"
   ]
  },
  {
   "cell_type": "code",
   "execution_count": null,
   "metadata": {},
   "outputs": [],
   "source": [
    "c = pd.crosstab([df['delivery_site'], df['true_procedure_type_incl_dpe']], df['failed_catheter'])"
   ]
  },
  {
   "cell_type": "markdown",
   "metadata": {},
   "source": [
    "## Scoliosis and back problems"
   ]
  },
  {
   "cell_type": "code",
   "execution_count": null,
   "metadata": {},
   "outputs": [],
   "source": [
    "dvu.plot_stacked_bar_histogram(neuraxial_catheter_df, index_col='has_scoliosis', value_col='failed_catheter')"
   ]
  },
  {
   "cell_type": "code",
   "execution_count": null,
   "metadata": {},
   "outputs": [],
   "source": [
    "dvu.plot_stacked_bar_histogram(neuraxial_catheter_df, index_col='has_back_problems', value_col='failed_catheter')"
   ]
  },
  {
   "cell_type": "code",
   "execution_count": null,
   "metadata": {},
   "outputs": [],
   "source": [
    "dvu.plot_stacked_bar_histogram(neuraxial_catheter_df, index_col='has_dorsalgia', value_col='failed_catheter')"
   ]
  },
  {
   "cell_type": "markdown",
   "metadata": {},
   "source": [
    "## Fetal Presentation"
   ]
  },
  {
   "cell_type": "code",
   "execution_count": null,
   "metadata": {},
   "outputs": [],
   "source": [
    "dvu.plot_stacked_bar_histogram(neuraxial_catheter_df, index_col='fetal_presentation', value_col='failed_catheter')"
   ]
  },
  {
   "cell_type": "code",
   "execution_count": null,
   "metadata": {},
   "outputs": [],
   "source": [
    "dvu.plot_stacked_bar_histogram(neuraxial_catheter_df, index_col='fetal_position', value_col='failed_catheter')"
   ]
  },
  {
   "cell_type": "markdown",
   "metadata": {},
   "source": [
    "## Race and SES"
   ]
  },
  {
   "cell_type": "code",
   "execution_count": null,
   "metadata": {},
   "outputs": [],
   "source": [
    "columns_to_analyze = [\n",
    "    'maternal_race',\n",
    "    'composite_psychosocial_problems',\n",
    "    'only_private_insurance',\n",
    "    'maternal_language_english',\n",
    "    'marital_status_married_or_partner',\n",
    "    'country_of_origin_USA',\n",
    "    'employment_status_fulltime',\n",
    "    'composite_SES_advantage'\n",
    "]\n",
    "for col in columns_to_analyze:\n",
    "    dvu.plot_stacked_bar_histogram(neuraxial_catheter_df, index_col=col, value_col='failed_catheter')"
   ]
  },
  {
   "cell_type": "markdown",
   "metadata": {},
   "source": [
    "## Pain"
   ]
  },
  {
   "cell_type": "code",
   "execution_count": null,
   "metadata": {},
   "outputs": [],
   "source": [
    "dvu.plot_stacked_bar_histogram(neuraxial_catheter_df, index_col='prior_pain_scores_max', value_col='failed_catheter', sort_by='no_sort', title='Failed Catheter Rate by Prior Pain Score')"
   ]
  },
  {
   "cell_type": "markdown",
   "metadata": {},
   "source": [
    "## Gravidity and Parity"
   ]
  },
  {
   "cell_type": "code",
   "execution_count": null,
   "metadata": {},
   "outputs": [],
   "source": [
    "dvu.plot_stacked_bar_histogram(neuraxial_catheter_df, index_col='gravidity_2047', value_col='failed_catheter', sort_by='no_sort')"
   ]
  },
  {
   "cell_type": "code",
   "execution_count": null,
   "metadata": {},
   "outputs": [],
   "source": [
    "dvu.plot_stacked_bar_histogram(neuraxial_catheter_df, index_col='parity_2048', value_col='failed_catheter',  sort_by='no_sort')"
   ]
  },
  {
   "cell_type": "markdown",
   "metadata": {},
   "source": [
    "## Maternal Age"
   ]
  },
  {
   "cell_type": "code",
   "execution_count": null,
   "metadata": {},
   "outputs": [],
   "source": [
    "reload(dvu)"
   ]
  },
  {
   "cell_type": "code",
   "execution_count": null,
   "metadata": {},
   "outputs": [],
   "source": [
    "dvu.plot_binned_errorbar(neuraxial_catheter_df, x_axis='maternal_age_years', y_axis='failed_catheter', bin_size=1)"
   ]
  },
  {
   "cell_type": "markdown",
   "metadata": {},
   "source": [
    "## BMI / height / weight"
   ]
  },
  {
   "cell_type": "code",
   "execution_count": null,
   "metadata": {},
   "outputs": [],
   "source": [
    "dvu.plot_binned_errorbar(neuraxial_catheter_df, x_axis='bmi_end_pregnancy_2044', y_axis='failed_catheter', bin_size=1)"
   ]
  },
  {
   "cell_type": "code",
   "execution_count": null,
   "metadata": {},
   "outputs": [],
   "source": [
    "dvu.plot_binned_errorbar(neuraxial_catheter_df, x_axis='bmi_end_pregnancy_2044', y_axis='failed_catheter', bin_size=5)"
   ]
  },
  {
   "cell_type": "code",
   "execution_count": null,
   "metadata": {},
   "outputs": [],
   "source": [
    "dvu.plot_binned_errorbar(neuraxial_catheter_df, x_axis='maternal_weight_end_pregnancy_2045', y_axis='failed_catheter', bin_size=10)"
   ]
  },
  {
   "cell_type": "markdown",
   "metadata": {},
   "source": [
    "## Needle Type"
   ]
  },
  {
   "cell_type": "code",
   "execution_count": null,
   "metadata": {},
   "outputs": [],
   "source": [
    "dvu.plot_stacked_bar_histogram(neuraxial_catheter_df, index_col='epidural_needle_type', value_col='failed_catheter')"
   ]
  },
  {
   "cell_type": "markdown",
   "metadata": {},
   "source": [
    "## Paresthesias"
   ]
  },
  {
   "cell_type": "code",
   "execution_count": null,
   "metadata": {},
   "outputs": [],
   "source": [
    "dvu.plot_stacked_bar_histogram(neuraxial_catheter_df, index_col='paresthesias_present', value_col='failed_catheter')"
   ]
  },
  {
   "cell_type": "markdown",
   "metadata": {},
   "source": [
    "## Number of Attempts"
   ]
  },
  {
   "cell_type": "code",
   "execution_count": null,
   "metadata": {},
   "outputs": [],
   "source": [
    "dvu.plot_stacked_bar_histogram(neuraxial_catheter_df, index_col='number_of_neuraxial_attempts', value_col='failed_catheter')"
   ]
  },
  {
   "cell_type": "markdown",
   "metadata": {},
   "source": [
    "## Loss of Resistance Depth"
   ]
  },
  {
   "cell_type": "code",
   "execution_count": null,
   "metadata": {},
   "outputs": [],
   "source": [
    "dvu.plot_histogram(neuraxial_catheter_df, col='lor_depth', bin_space=0.5)"
   ]
  },
  {
   "cell_type": "code",
   "execution_count": null,
   "metadata": {},
   "outputs": [],
   "source": [
    "# Bin the lor_depth by 0.5\n",
    "neuraxial_catheter_df['lor_depth_bin'] = (neuraxial_catheter_df['lor_depth'] // 0.5) * 0.5\n",
    "\n",
    "# Plot the stacked bar histogram\n",
    "dvu.plot_stacked_bar_histogram(neuraxial_catheter_df, index_col='lor_depth_bin', value_col='failed_catheter',sort_by='no_sort', title='Failed Catheter Rate by LOR Depth')\n",
    "\n",
    "neuraxial_catheter_df.drop(columns=['lor_depth_bin'], inplace=True)"
   ]
  },
  {
   "cell_type": "code",
   "execution_count": null,
   "metadata": {},
   "outputs": [],
   "source": [
    "# prompt: Plot number of neuraxial attempts vs LOR depth on the x-axis. Add jiggle to both x and y axes\n",
    "\n",
    "df_plot = neuraxial_catheter_df.dropna(subset=['number_of_neuraxial_attempts', 'lor_depth'])\n",
    "\n",
    "# Add random jiggle to both x and y axes\n",
    "jiggle_x = np.random.normal(scale = 0.1, size=len(df_plot))\n",
    "jiggle_y = np.random.normal(scale = 0.1, size=len(df_plot))\n",
    "\n",
    "plt.figure(figsize=(10, 6))\n",
    "plt.scatter(df_plot['lor_depth'] + jiggle_x, df_plot['number_of_neuraxial_attempts'] + jiggle_y, alpha=0.5)\n",
    "plt.xlabel('LOR Depth')\n",
    "plt.ylabel('Number of Neuraxial Attempts')\n",
    "plt.title('Number of Neuraxial Attempts vs. LOR Depth with Jiggle')\n",
    "plt.show()\n"
   ]
  },
  {
   "cell_type": "code",
   "execution_count": null,
   "metadata": {},
   "outputs": [],
   "source": [
    "# Extract the data, dropping NaNs\n",
    "df_plot = neuraxial_catheter_df.dropna(subset=['lor_depth', 'number_of_neuraxial_attempts'])\n",
    "\n",
    "# Create a list of unique values in 'number_of_neuraxial_attempts'\n",
    "attempts = [1, 2, 3, 4]\n",
    "\n",
    "# Create histograms for each number_of_neuraxial_attempts\n",
    "plt.figure(figsize=(12, 8))\n",
    "\n",
    "for i, attempt in enumerate(attempts, start=1):\n",
    "    # Filter data for each attempt\n",
    "    subset = df_plot[df_plot['number_of_neuraxial_attempts'] == attempt]\n",
    "    \n",
    "    # Plot histogram for 'lor_depth'\n",
    "    plt.subplot(2, 2, i)\n",
    "    plt.hist(subset['lor_depth'], bins=20, color='skyblue', edgecolor='black')\n",
    "    plt.title(f'Histogram of LOR Depth for {attempt} Neuraxial Attempt(s)')\n",
    "    plt.xlabel('LOR Depth')\n",
    "    plt.ylabel('Frequency')\n",
    "\n",
    "plt.tight_layout()\n",
    "plt.show()\n"
   ]
  },
  {
   "cell_type": "code",
   "execution_count": null,
   "metadata": {},
   "outputs": [],
   "source": [
    "dvu.plot_violin_crosstab_anova(neuraxial_catheter_df, index_col='number_of_neuraxial_attempts', value_col='lor_depth')"
   ]
  },
  {
   "cell_type": "code",
   "execution_count": null,
   "metadata": {},
   "outputs": [],
   "source": [
    "dvu.plot_binned_errorbar(neuraxial_catheter_df, x_axis='number_of_neuraxial_attempts', y_axis='failed_catheter', bin_size=1)"
   ]
  },
  {
   "cell_type": "code",
   "execution_count": null,
   "metadata": {},
   "outputs": [],
   "source": [
    "dvu.plot_binned_errorbar(neuraxial_catheter_df, x_axis='lor_depth', y_axis='failed_catheter', bin_size=1)"
   ]
  },
  {
   "cell_type": "code",
   "execution_count": null,
   "metadata": {},
   "outputs": [],
   "source": [
    "reload(dvu)"
   ]
  },
  {
   "cell_type": "code",
   "execution_count": null,
   "metadata": {},
   "outputs": [],
   "source": [
    "dvu.plot_scatter(neuraxial_catheter_df, x_axis='bmi_end_pregnancy_2044', y_axis='lor_depth')"
   ]
  },
  {
   "cell_type": "code",
   "execution_count": null,
   "metadata": {},
   "outputs": [],
   "source": [
    "from scipy.stats import gaussian_kde\n",
    "\n",
    "# Extract the data, dropping NaNs\n",
    "df_plot = neuraxial_catheter_df.dropna(subset=['lor_depth', 'bmi_end_pregnancy_2044'])\n",
    "x = df_plot['bmi_end_pregnancy_2044'].values\n",
    "y = df_plot['lor_depth'].values\n",
    "\n",
    "# Perform kernel density estimation\n",
    "xy = np.vstack([x, y])\n",
    "kde = gaussian_kde(xy)\n",
    "\n",
    "# Define grid over data range\n",
    "xmin, xmax = x.min() - 1, x.max() + 1\n",
    "ymin, ymax = y.min() - 1, y.max() + 1\n",
    "X, Y = np.mgrid[xmin:xmax:100j, ymin:ymax:100j]\n",
    "positions = np.vstack([X.ravel(), Y.ravel()])\n",
    "Z = np.reshape(kde(positions).T, X.shape)\n",
    "\n",
    "# Create the contour plot\n",
    "plt.figure(figsize=(10, 6))\n",
    "plt.contourf(X, Y, Z, levels=15, cmap='viridis')\n",
    "plt.colorbar(label='Density')\n",
    "plt.xlabel('BMI')\n",
    "plt.ylabel('LOR Depth')\n",
    "plt.title('Contour Plot of LOR Depth vs. BMI (KDE)')\n",
    "plt.show()\n"
   ]
  },
  {
   "cell_type": "code",
   "execution_count": null,
   "metadata": {},
   "outputs": [],
   "source": [
    "\n",
    "# Drop rows with NaNs\n",
    "df_plot = neuraxial_catheter_df.dropna(\n",
    "    subset=['lor_depth', 'bmi_end_pregnancy_2044', 'failed_catheter']\n",
    ")\n",
    "\n",
    "# Separate the data by failed_catheter category\n",
    "df_0 = df_plot[df_plot['failed_catheter'] == 0]\n",
    "df_1 = df_plot[df_plot['failed_catheter'] == 1]\n",
    "\n",
    "plt.figure(figsize=(10, 6))\n",
    "\n",
    "# Scatter plot for failed_catheter = 0\n",
    "plt.scatter(\n",
    "    df_0['bmi_end_pregnancy_2044'],\n",
    "    df_0['lor_depth'],\n",
    "    s=10, \n",
    "    alpha=0.7,\n",
    "    color='blue',\n",
    "    label='Failed Catheter = 0'\n",
    ")\n",
    "\n",
    "# Scatter plot for failed_catheter = 1\n",
    "plt.scatter(\n",
    "    df_1['bmi_end_pregnancy_2044'],\n",
    "    df_1['lor_depth'],\n",
    "    s=10, \n",
    "    alpha=0.7,\n",
    "    color='orange',\n",
    "    label='Failed Catheter = 1'\n",
    ")\n",
    "\n",
    "plt.scatter(neuraxial_catheter_df['bmi_end_pregnancy_2044'], neuraxial_catheter_df['predicted_lor_depth'], s=10, alpha=1, color='black', label='Predicted')\n",
    "\n",
    "# --- Calculate and plot regression line for failed_catheter = 0 ---\n",
    "p0 = np.polyfit(df_0['bmi_end_pregnancy_2044'], df_0['lor_depth'], deg=1)  # slope, intercept\n",
    "slope_0, intercept_0 = p0\n",
    "print(f\"For failed_catheter=0, slope = {slope_0:.2f}, intercept = {intercept_0:.2f}\")\n",
    "\n",
    "x_vals_0 = np.linspace(df_0['bmi_end_pregnancy_2044'].min(), df_0['bmi_end_pregnancy_2044'].max(), 100)\n",
    "y_vals_0 = np.polyval(p0, x_vals_0)\n",
    "plt.plot(x_vals_0, y_vals_0, color='blue', linewidth=2)\n",
    "\n",
    "# --- Calculate and plot regression line for failed_catheter = 1 ---\n",
    "p1 = np.polyfit(df_1['bmi_end_pregnancy_2044'], df_1['lor_depth'], deg=1)\n",
    "slope_1, intercept_1 = p1\n",
    "print(f\"For failed_catheter=1, slope = {slope_1:.2f}, intercept = {intercept_1:.2f}\")\n",
    "\n",
    "x_vals_1 = np.linspace(df_1['bmi_end_pregnancy_2044'].min(), df_1['bmi_end_pregnancy_2044'].max(), 100)\n",
    "y_vals_1 = np.polyval(p1, x_vals_1)\n",
    "plt.plot(x_vals_1, y_vals_1, color='orange', linewidth=2)\n",
    "\n",
    "# Labels and legend\n",
    "plt.xlabel('BMI')\n",
    "plt.ylabel('LOR Depth')\n",
    "plt.title('LOR Depth vs. BMI')\n",
    "plt.legend()\n",
    "\n",
    "plt.show()"
   ]
  },
  {
   "cell_type": "markdown",
   "metadata": {},
   "source": [
    "## Gestational Age and Weight"
   ]
  },
  {
   "cell_type": "code",
   "execution_count": null,
   "metadata": {},
   "outputs": [],
   "source": [
    "reload(dvu)"
   ]
  },
  {
   "cell_type": "code",
   "execution_count": null,
   "metadata": {},
   "outputs": [],
   "source": [
    "dvu.plot_histogram(neuraxial_catheter_df, col='gestational_age_weeks', bin_space=1)"
   ]
  },
  {
   "cell_type": "code",
   "execution_count": null,
   "metadata": {},
   "outputs": [],
   "source": [
    "dvu.plot_binned_errorbar(neuraxial_catheter_df, x_axis='gestational_age_weeks', y_axis='failed_catheter', bin_size=1)"
   ]
  },
  {
   "cell_type": "code",
   "execution_count": null,
   "metadata": {},
   "outputs": [],
   "source": [
    "dvu.plot_histogram(neuraxial_catheter_df, col='baby_weight_2196', bin_space=0.1, xtick_space=0.5, xlabel='Baby Weight (kg)')"
   ]
  },
  {
   "cell_type": "code",
   "execution_count": null,
   "metadata": {},
   "outputs": [],
   "source": [
    "dvu.plot_binned_errorbar(neuraxial_catheter_df, x_axis='baby_weight_2196', y_axis='failed_catheter', bin_size=0.2)"
   ]
  },
  {
   "cell_type": "markdown",
   "metadata": {},
   "source": [
    "## Prior failed catheters"
   ]
  },
  {
   "cell_type": "code",
   "execution_count": null,
   "metadata": {},
   "outputs": [],
   "source": [
    "dvu.plot_stacked_bar_histogram(neuraxial_catheter_df, index_col='prior_failed_catheters_this_enc', value_col='failed_catheter')"
   ]
  },
  {
   "cell_type": "code",
   "execution_count": null,
   "metadata": {},
   "outputs": [],
   "source": [
    "dvu.plot_binned_errorbar(neuraxial_catheter_df, x_axis='prior_failed_catheters_this_enc', y_axis='failed_catheter', bin_size=1)"
   ]
  },
  {
   "cell_type": "markdown",
   "metadata": {},
   "source": [
    "## Placement to Delivery Time"
   ]
  },
  {
   "cell_type": "code",
   "execution_count": null,
   "metadata": {},
   "outputs": [],
   "source": [
    "dvu.plot_binned_errorbar(neuraxial_catheter_df, x_axis='placement_to_delivery_hours', y_axis='failed_catheter', bin_size=2)"
   ]
  }
 ],
 "metadata": {
  "kernelspec": {
   "display_name": "Python 3",
   "language": "python",
   "name": "python3"
  },
  "language_info": {
   "codemirror_mode": {
    "name": "ipython",
    "version": 3
   },
   "file_extension": ".py",
   "mimetype": "text/x-python",
   "name": "python",
   "nbconvert_exporter": "python",
   "pygments_lexer": "ipython3",
   "version": "3.13.1"
  }
 },
 "nbformat": 4,
 "nbformat_minor": 2
}
