{
 "cells": [
  {
   "cell_type": "code",
   "execution_count": 1,
   "metadata": {},
   "outputs": [],
   "source": [
    "# prompt: Import libraries\n",
    "\n",
    "import pandas as pd\n",
    "import numpy as np\n",
    "import re\n",
    "import datetime\n",
    "import matplotlib.pyplot as plt\n"
   ]
  },
  {
   "cell_type": "code",
   "execution_count": null,
   "metadata": {},
   "outputs": [],
   "source": [
    "# Load the pickled DataFrame\n",
    "# complete_data = pd.read_pickle(\"C:\\\\Users\\\\dfber\\\\OneDrive - Mass General Brigham\\\\Epidural project\\\\Data\\\\processed_merlin_data.pkl\")\n",
    "complete_data = pd.read_pickle(\"C:\\\\Users\\\\User\\\\OneDrive - Mass General Brigham\\\\Epidural project\\\\Data\\\\processed_merlin_data.pkl\")\n",
    "\n",
    "# Now you can work with the DataFrame\n",
    "complete_data.head()"
   ]
  },
  {
   "cell_type": "code",
   "execution_count": 3,
   "metadata": {},
   "outputs": [],
   "source": [
    "df = complete_data.copy()"
   ]
  },
  {
   "cell_type": "code",
   "execution_count": 2,
   "metadata": {},
   "outputs": [],
   "source": [
    "s = pd.Series([20, 21, 12],\n",
    "              index=['London', 'New York', 'Helsinki'])"
   ]
  },
  {
   "cell_type": "code",
   "execution_count": null,
   "metadata": {},
   "outputs": [],
   "source": [
    "s"
   ]
  },
  {
   "cell_type": "code",
   "execution_count": 13,
   "metadata": {},
   "outputs": [],
   "source": [
    "def subtract_custom_value(x, custom_value=5):\n",
    "    return x - custom_value"
   ]
  },
  {
   "cell_type": "code",
   "execution_count": null,
   "metadata": {},
   "outputs": [],
   "source": [
    "subtract_custom_value(5)"
   ]
  },
  {
   "cell_type": "code",
   "execution_count": null,
   "metadata": {},
   "outputs": [],
   "source": [
    "s.apply(lambda x: subtract_custom_value(x))"
   ]
  },
  {
   "cell_type": "code",
   "execution_count": null,
   "metadata": {},
   "outputs": [],
   "source": [
    "s.apply(subtract_custom_value, custom_value=10)"
   ]
  },
  {
   "cell_type": "markdown",
   "metadata": {},
   "source": [
    "# Manually analyze some successes and failures"
   ]
  },
  {
   "cell_type": "code",
   "execution_count": null,
   "metadata": {},
   "outputs": [],
   "source": [
    "raw_identified_data = pd.read_csv(\"C:\\\\Users\\\\User\\OneDrive - Mass General Brigham\\\\Epidural project\\\\Data\\\\Full Identified raw anesthesia_procedure_notes.csv\")"
   ]
  },
  {
   "cell_type": "code",
   "execution_count": null,
   "metadata": {},
   "outputs": [],
   "source": [
    "raw_identified_data.loc[raw_identified_data['NoteID'] == '2362576456']"
   ]
  },
  {
   "cell_type": "code",
   "execution_count": 6,
   "metadata": {},
   "outputs": [],
   "source": [
    "# Create a mapping of 'NoteID' to 'epic_pmrn' from raw_identified_data\n",
    "note_to_mrn = raw_identified_data.set_index('NoteID')['epic_pmrn'].to_dict()\n",
    "note_to_purpose = raw_identified_data.set_index('NoteID')['NotePurposeDSC'].to_dict()\n",
    "\n",
    "# Use the mapping to create the new 'mrn' column in df\n",
    "df['epic_pmrn'] = df['anes_procedure_note_id_2260'].map(note_to_mrn)\n",
    "df['NotePurposeDSC'] = df['anes_procedure_note_id_2260'].map(note_to_purpose)"
   ]
  },
  {
   "cell_type": "code",
   "execution_count": 7,
   "metadata": {},
   "outputs": [],
   "source": [
    "# prompt: Choose 10 random failed_catheters and 10 random non-failed_catheters\n",
    "\n",
    "# Assuming 'df' is your DataFrame and it contains a column 'failed_catheter'\n",
    "failed_catheters = df[df['failed_catheter'] == 1]\n",
    "non_failed_catheters = df[df['failed_catheter'] == 0]\n",
    "\n",
    "# Randomly choose 10 failed catheters\n",
    "random_failed_catheters = failed_catheters.sample(n=10, random_state=42)  # random_state for reproducibility\n",
    "chosen_failed_catheter_encounter_ids = ['3324914343','3272008150','3234765502','3305371022','3216449190','3186345033','3493903332','3285273066','3320528828','3191160118']\n",
    "chosen_failed_catheters = df[df['anes_procedure_encounter_id_2273'].isin(chosen_failed_catheter_encounter_ids)]\n",
    "\n",
    "# Randomly choose 10 non-failed catheters\n",
    "random_non_failed_catheters = non_failed_catheters.sample(n=10, random_state=42) # random_state for reproducibility"
   ]
  },
  {
   "cell_type": "code",
   "execution_count": 8,
   "metadata": {},
   "outputs": [],
   "source": [
    "column_names = [\n",
    "    'epic_pmrn',\n",
    "    \"best_timestamp\",\n",
    "    \"failed_catheter\",\n",
    "    \"true_procedure_type\",\n",
    "    \"NotePurposeDSC\",\n",
    "    \"Regulated_Anesthesiologist_Name\",\n",
    "    \"Regulated_Resident_Name\",\n",
    "    \"anes_procedure_encounter_id_2273\",\n",
    "    \"anes_procedure_note_id_2260\",\n",
    "    \"subsequent_proof_of_failure_note_id\",\n",
    "]"
   ]
  },
  {
   "cell_type": "code",
   "execution_count": null,
   "metadata": {},
   "outputs": [],
   "source": [
    "df['true_procedure_type'].value_counts()"
   ]
  },
  {
   "cell_type": "code",
   "execution_count": null,
   "metadata": {},
   "outputs": [],
   "source": [
    "random_failed_catheters[column_names]"
   ]
  },
  {
   "cell_type": "code",
   "execution_count": null,
   "metadata": {},
   "outputs": [],
   "source": [
    "chosen_failed_catheters[column_names]"
   ]
  },
  {
   "cell_type": "code",
   "execution_count": null,
   "metadata": {},
   "outputs": [],
   "source": [
    "random_non_failed_catheters[column_names]"
   ]
  },
  {
   "cell_type": "code",
   "execution_count": null,
   "metadata": {},
   "outputs": [],
   "source": [
    "df[df['anes_procedure_encounter_id_2273'] == '3191160118'][column_names]"
   ]
  },
  {
   "cell_type": "code",
   "execution_count": 14,
   "metadata": {},
   "outputs": [],
   "source": [
    "# Filter the DataFrame for failed catheters and delivery location 'mgh'\n",
    "random_failed_catheters_mgh = df[(df['failed_catheter'] == True) & (df['delivery_site_2188'] == 'mgh')].sample(n=10, random_state=42)\n",
    "\n",
    "# Display the chosen sample\n",
    "random_failed_catheters_mgh[column_names]\n",
    "chosen_failed_catheters_mgh_encounter_ids = [\"3268447806\", \"3396191507\", \"3258959083\", \"3581696894\", \"3271964781\", \"3583787789\", \"3402989492\", \"3476124055\", \"3304131417\", \"3522418740\"]\n",
    "chosen_failed_catheter_mgh_note_ids = ['2903598031', '6426160113', '2535157730', '11282242570',\n",
    "       '3002237621', '11340428769', '6612736939', '8559605944',\n",
    "       '3947063203', '9788012155']"
   ]
  },
  {
   "cell_type": "code",
   "execution_count": null,
   "metadata": {},
   "outputs": [],
   "source": [
    "df[df['anes_procedure_encounter_id_2273'].isin(chosen_failed_catheters_mgh_encounter_ids)][column_names]"
   ]
  },
  {
   "cell_type": "code",
   "execution_count": null,
   "metadata": {},
   "outputs": [],
   "source": [
    "df[df['anes_procedure_note_id_2260'].isin(chosen_failed_catheter_mgh_note_ids)][column_names]"
   ]
  },
  {
   "cell_type": "code",
   "execution_count": null,
   "metadata": {},
   "outputs": [],
   "source": [
    "random_failed_catheters_mgh[column_names]"
   ]
  },
  {
   "cell_type": "code",
   "execution_count": null,
   "metadata": {},
   "outputs": [],
   "source": []
  },
  {
   "cell_type": "markdown",
   "metadata": {},
   "source": [
    "# Look at cases where a failure is replaced by the same anesthesia team\n",
    "\n",
    "Encounter_ID 3607123568 is an example where the same attending/resident team did the index procedure and the replacement (in this case because the epidural migrated out)"
   ]
  },
  {
   "cell_type": "code",
   "execution_count": 18,
   "metadata": {},
   "outputs": [],
   "source": [
    "def check_if_replacement_has_same_anesthesia_team(row, df):\n",
    "    if row['is_neuraxial_catheter'] and row['failed_catheter']:\n",
    "        this_anesthesiologist = row['Regulated_Anesthesiologist_Name']\n",
    "        this_resident = row['Regulated_Resident_Name']\n",
    "        subsequent_procedures = row['subsequent_proof_of_failure_note_id'].replace('\\'','').replace('[','').replace(']','').split(',')\n",
    "        for note_id in subsequent_procedures:\n",
    "            replacing_anesthesiologist = df[(df['anes_procedure_note_id_2260'] == note_id) & (df['is_neuraxial_catheter'] == True)]['Regulated_Anesthesiologist_Name']\n",
    "            replacing_resident = df[(df['anes_procedure_note_id_2260'] == note_id) & (df['is_neuraxial_catheter'] == True)]['Regulated_Resident_Name']\n",
    "            if (this_anesthesiologist == replacing_anesthesiologist).any() and (this_resident == replacing_resident).any():\n",
    "                # print()\n",
    "                # print('new note')\n",
    "                # print(this_anesthesiologist)\n",
    "                # print(this_resident)\n",
    "                # print(replacing_anesthesiologist)\n",
    "                # print(replacing_resident)\n",
    "                # print(this_anesthesiologist == replacing_anesthesiologist)\n",
    "                # print(this_resident == replacing_resident)\n",
    "                row['replaced_by_same_team'] = True\n"
   ]
  },
  {
   "cell_type": "code",
   "execution_count": null,
   "metadata": {},
   "outputs": [],
   "source": [
    "df[df['failed_catheter']].apply(lambda x: check_if_replacement_has_same_anesthesia_team(x, df), axis=1)"
   ]
  }
 ],
 "metadata": {
  "kernelspec": {
   "display_name": "Python 3",
   "language": "python",
   "name": "python3"
  },
  "language_info": {
   "codemirror_mode": {
    "name": "ipython",
    "version": 3
   },
   "file_extension": ".py",
   "mimetype": "text/x-python",
   "name": "python",
   "nbconvert_exporter": "python",
   "pygments_lexer": "ipython3",
   "version": "3.13.1"
  }
 },
 "nbformat": 4,
 "nbformat_minor": 2
}
