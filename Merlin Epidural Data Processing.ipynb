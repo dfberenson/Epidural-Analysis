{
 "cells": [
  {
   "cell_type": "markdown",
   "metadata": {
    "id": "BkobyQHnHmfr"
   },
   "source": [
    "# Imports"
   ]
  },
  {
   "cell_type": "code",
   "execution_count": 14,
   "metadata": {
    "executionInfo": {
     "elapsed": 1510,
     "status": "ok",
     "timestamp": 1736530922442,
     "user": {
      "displayName": "Daniel Berenson",
      "userId": "01641759045451756668"
     },
     "user_tz": 300
    },
    "id": "aEvYxZF4wEa5"
   },
   "outputs": [],
   "source": [
    "# prompt: Import libraries and open CSV\n",
    "\n",
    "import pandas as pd\n",
    "import numpy as np\n",
    "import re\n",
    "import datetime\n",
    "import matplotlib.pyplot as plt\n",
    "import random\n",
    "import modules.testing as testing\n",
    "import modules.data_cleaning_utils as dcu\n",
    "from importlib import reload\n",
    "\n",
    "# my_computer_fpath = \"C:\\\\Users\\\\dfber\\\\OneDrive - Mass General Brigham\\\\Epidural project\\\\Data\\\\\"\n",
    "my_computer_fpath = \"C:\\\\Users\\\\User\\\\OneDrive - Mass General Brigham\\\\Epidural project\\\\Data\\\\\""
   ]
  },
  {
   "cell_type": "code",
   "execution_count": null,
   "metadata": {},
   "outputs": [
    {
     "name": "stderr",
     "output_type": "stream",
     "text": [
      "C:\\Users\\User\\AppData\\Local\\Temp\\ipykernel_1612\\3984142744.py:7: DtypeWarning: Columns (18,110) have mixed types. Specify dtype option on import or set low_memory=False.\n",
      "  raw_df = pd.read_csv(file_path)\n"
     ]
    },
    {
     "data": {
      "text/html": [
       "<div>\n",
       "<style scoped>\n",
       "    .dataframe tbody tr th:only-of-type {\n",
       "        vertical-align: middle;\n",
       "    }\n",
       "\n",
       "    .dataframe tbody tr th {\n",
       "        vertical-align: top;\n",
       "    }\n",
       "\n",
       "    .dataframe thead th {\n",
       "        text-align: right;\n",
       "    }\n",
       "</style>\n",
       "<table border=\"1\" class=\"dataframe\">\n",
       "  <thead>\n",
       "    <tr style=\"text-align: right;\">\n",
       "      <th></th>\n",
       "      <th>id</th>\n",
       "      <th>epic_pmrn</th>\n",
       "      <th>delivery_date</th>\n",
       "      <th>delivery_time</th>\n",
       "      <th>pregnancy_outcome</th>\n",
       "      <th>newborn_gestational_age</th>\n",
       "      <th>gestational_age_2052</th>\n",
       "      <th>anesthesia_epidural_2062</th>\n",
       "      <th>anesthesia_general_2063</th>\n",
       "      <th>anesthesia_local_2064</th>\n",
       "      <th>anesthesia_pudendal_2065</th>\n",
       "      <th>anesthesia_spinal_2066</th>\n",
       "      <th>delivery_site_2188</th>\n",
       "      <th>induction_oxytocin_2189</th>\n",
       "      <th>induction_cervical_balloon_2190</th>\n",
       "      <th>induction_misoprostol_2191</th>\n",
       "      <th>induction_arom_2192</th>\n",
       "      <th>induction_foley_easy_2193</th>\n",
       "      <th>induction_attempted_2194</th>\n",
       "      <th>baby_weight_2196</th>\n",
       "      <th>secs_rom_thru_delivery_2197</th>\n",
       "      <th>tolac_attempted_2233</th>\n",
       "      <th>fetal_presentation_category_2243</th>\n",
       "      <th>fetal_presentation_subcategory_2244</th>\n",
       "      <th>fetal_presentation_subcategory_2245</th>\n",
       "      <th>fetal_presentation_laterality_2246</th>\n",
       "      <th>fetal_presentation_position_2247</th>\n",
       "      <th>bmi_end_pregnancy_2044</th>\n",
       "      <th>bmi_end_pregnancy_units_2044</th>\n",
       "      <th>bmi_end_pregnancy_datetime_2044</th>\n",
       "      <th>maternal_weight_end_pregnancy_2045</th>\n",
       "      <th>maternal_weight_end_pregnancy_units_2045</th>\n",
       "      <th>maternal_weight_end_pregnancy_datetime_2045</th>\n",
       "      <th>maternal_height_2046</th>\n",
       "      <th>maternal_height_units_2046</th>\n",
       "      <th>maternal_height_datetime_2046</th>\n",
       "      <th>bmi_throughout_pregnancy_2160</th>\n",
       "      <th>bmi_throughout_pregnancy_units_2160</th>\n",
       "      <th>bmi_throughout_pregnancy_datetime_2160</th>\n",
       "      <th>bmi_before_pregnancy_2161</th>\n",
       "      <th>bmi_before_pregnancy_units_2161</th>\n",
       "      <th>bmi_before_pregnancy_datetime_2161</th>\n",
       "      <th>weight_throughout_pregnancy_2162</th>\n",
       "      <th>weight_throughout_pregnancy_units_2162</th>\n",
       "      <th>weight_throughout_pregnancy_datetime_2162</th>\n",
       "      <th>weight_before_pregnancy_2163</th>\n",
       "      <th>weight_before_pregnancy_units_2163</th>\n",
       "      <th>weight_before_pregnancy_datetime_2163</th>\n",
       "      <th>bmi_throughout_pregnancy_2164</th>\n",
       "      <th>bmi_throughout_pregnancy_units_2164</th>\n",
       "      <th>bmi_throughout_pregnancy_datetime_2164</th>\n",
       "      <th>timeseries_intrapartum_sbp_2228</th>\n",
       "      <th>timeseries_intrapartum_sbp_units_2228</th>\n",
       "      <th>timeseries_intrapartum_sbp_datetime_2228</th>\n",
       "      <th>timeseries_intrapartum_dbp_2229</th>\n",
       "      <th>timeseries_intrapartum_dbp_units_2229</th>\n",
       "      <th>timeseries_intrapartum_dbp_datetime_2229</th>\n",
       "      <th>timeseries_intrapartum_hr_2241</th>\n",
       "      <th>timeseries_intrapartum_hr_units_2241</th>\n",
       "      <th>timeseries_intrapartum_hr_datetime_2241</th>\n",
       "      <th>timeseries_intrapartum_pain_score_2242</th>\n",
       "      <th>timeseries_intrapartum_pain_score_units_2242</th>\n",
       "      <th>timeseries_intrapartum_pain_score_datetime_2242</th>\n",
       "      <th>icd_coagulation_disorders_2049</th>\n",
       "      <th>icd_scoliosis_2053</th>\n",
       "      <th>icd_spinal_fusion_2056</th>\n",
       "      <th>icd_congenital_deformity_spine_2059</th>\n",
       "      <th>icd_ra_and_sctds_2086</th>\n",
       "      <th>icd_kyphosis_and_lordosis_2089</th>\n",
       "      <th>icd_spinal_osteochondrosis_2092</th>\n",
       "      <th>icd_spondylopathies_and_deforming_dorsopathies_2095</th>\n",
       "      <th>icd_intervertebral_disc_disorders_2098</th>\n",
       "      <th>icd_ehlers_minus_danlos_2101</th>\n",
       "      <th>icd_dorsalgia_2104</th>\n",
       "      <th>icd_other_chronic_pain_2107</th>\n",
       "      <th>icd_ivf_2124</th>\n",
       "      <th>icd_multiple_gestation_2127</th>\n",
       "      <th>icd_c_minus_section_hx_2130</th>\n",
       "      <th>icd_high_risk_current_2133</th>\n",
       "      <th>icd_high_risk_hx_2136</th>\n",
       "      <th>drug_abuse_during_parent_2144</th>\n",
       "      <th>alcohol_before_parent_2151</th>\n",
       "      <th>high_risk_social_problems_parent_2154</th>\n",
       "      <th>high_risk_insufficient_antenatal_care_parent_2157</th>\n",
       "      <th>icd_pet_w_sf_2172</th>\n",
       "      <th>icd_pet_wout_sf_2175</th>\n",
       "      <th>icd_major_mental_health_disorder_2178</th>\n",
       "      <th>icd_preterm_birth_2181</th>\n",
       "      <th>icd_macrosomia_2195</th>\n",
       "      <th>icd_iufd_2200</th>\n",
       "      <th>education_problems_2203</th>\n",
       "      <th>employment_problems_2206</th>\n",
       "      <th>adverse_occupational_2209</th>\n",
       "      <th>housing_problems_2212</th>\n",
       "      <th>adjustment_problems_2215</th>\n",
       "      <th>relationship_problems_2218</th>\n",
       "      <th>other_psychosocial_2221</th>\n",
       "      <th>breech_2225</th>\n",
       "      <th>spontaneous_labor_2230</th>\n",
       "      <th>icd_spondylitis_icd_minus_9_720_2234</th>\n",
       "      <th>icd_spondylosis_icd_minus_9_721_2235</th>\n",
       "      <th>icd_other_dorsopathies_icd_minus_9_724_2236</th>\n",
       "      <th>icd_other_dorsopathies_icd_minus_10_m43_2237</th>\n",
       "      <th>icd_spondylitis_icd_minus_10_m45_minus_46_2238</th>\n",
       "      <th>icd_spondylosis_icd_minus_10_m47_2239</th>\n",
       "      <th>icd_other_spondylopathies_idc_minus_10_m48_minus_2240</th>\n",
       "      <th>public_insurance_2114</th>\n",
       "      <th>private_insurance_2115</th>\n",
       "      <th>zipcode_2185</th>\n",
       "      <th>meds_intrapartum_fentanyl_2165</th>\n",
       "      <th>meds_intrapartum_hydromorphone_2166</th>\n",
       "      <th>meds_intrapartum_morphine_2167</th>\n",
       "      <th>meds_intrapartum_nalbuphine_2168</th>\n",
       "      <th>meds_intrapartum_acetaminophen_2169</th>\n",
       "      <th>meds_intrapartum_ibuprofen_2170</th>\n",
       "      <th>meds_intrapartum_ketorolac_2171</th>\n",
       "      <th>smoker_during_pregnancy_parent_2117</th>\n",
       "      <th>smoker_before_pregnancy_parent_2120</th>\n",
       "      <th>drug_abuse_before_parent_2142</th>\n",
       "      <th>alcohol_during_parent_2147</th>\n",
       "      <th>maternal_race_2111</th>\n",
       "      <th>maternal_ethnicity_2112</th>\n",
       "      <th>gravidity_2047</th>\n",
       "      <th>parity_2048</th>\n",
       "      <th>anes_procedure_type_2253</th>\n",
       "      <th>anes_procedure_start_dts_2254</th>\n",
       "      <th>anes_procedure_anesthesiologist_2255</th>\n",
       "      <th>anes_procedure_resident_2256</th>\n",
       "      <th>anes_procedure_pt_position_2257</th>\n",
       "      <th>anes_procedure_approach_2258</th>\n",
       "      <th>anes_procedure_location_2259</th>\n",
       "      <th>anes_procedure_note_id_2260</th>\n",
       "      <th>anes_procedure_dos_dts_2261</th>\n",
       "      <th>anes_procedure_dpe_2262</th>\n",
       "      <th>anes_procedure_epidural_needle_2263</th>\n",
       "      <th>anes_procedure_epidural_needle_gauge_2264</th>\n",
       "      <th>anes_procedure_lor_depth_2265</th>\n",
       "      <th>anes_procedure_catheter_depth_2266</th>\n",
       "      <th>anes_procedure_spinal_needle_type_2267</th>\n",
       "      <th>anes_procedure_spinal_needle_gauge_2268</th>\n",
       "      <th>anes_procedure_spinal_needle_length_2269</th>\n",
       "      <th>anes_procedure_paresthesias_2270</th>\n",
       "      <th>anes_procedure_note_text_2271</th>\n",
       "      <th>anes_procedure_encounter_id_2273</th>\n",
       "      <th>maternal_dob_2043</th>\n",
       "      <th>maternal_language_2113</th>\n",
       "      <th>marital_status_2184</th>\n",
       "      <th>country_of_origin_2186</th>\n",
       "      <th>employment_status_2187</th>\n",
       "    </tr>\n",
       "  </thead>\n",
       "  <tbody>\n",
       "    <tr>\n",
       "      <th>0</th>\n",
       "      <td>1</td>\n",
       "      <td>10048619033</td>\n",
       "      <td>2018-01-31</td>\n",
       "      <td>11:55:00-05:00</td>\n",
       "      <td>term</td>\n",
       "      <td>276.0</td>\n",
       "      <td>276.0</td>\n",
       "      <td>False</td>\n",
       "      <td>False</td>\n",
       "      <td>False</td>\n",
       "      <td>False</td>\n",
       "      <td>False</td>\n",
       "      <td>mgh</td>\n",
       "      <td>False</td>\n",
       "      <td>False</td>\n",
       "      <td>False</td>\n",
       "      <td>False</td>\n",
       "      <td>False</td>\n",
       "      <td>False</td>\n",
       "      <td>3.824917</td>\n",
       "      <td>17700.0</td>\n",
       "      <td>NaN</td>\n",
       "      <td>cephalic</td>\n",
       "      <td>vertex</td>\n",
       "      <td>vertex</td>\n",
       "      <td>NaN</td>\n",
       "      <td>NaN</td>\n",
       "      <td>26.1</td>\n",
       "      <td>kg/m2</td>\n",
       "      <td>2018-01-26 15:39:00-0500</td>\n",
       "      <td>75.296333</td>\n",
       "      <td>kg</td>\n",
       "      <td>2018-01-26 15:39:00-0500</td>\n",
       "      <td>37.00</td>\n",
       "      <td>celsius</td>\n",
       "      <td>2024-01-03 18:25:00-0500</td>\n",
       "      <td>21.8|22.5|23.2|24.1|24.6|25.4|25.4|25.5|25.8|2...</td>\n",
       "      <td>kg/m2|kg/m2|kg/m2|kg/m2|kg/m2|kg/m2|kg/m2|kg/m...</td>\n",
       "      <td>2017-07-14 13:28:00-0400|2017-08-18 13:28:00-0...</td>\n",
       "      <td>21.5</td>\n",
       "      <td>kg/m2</td>\n",
       "      <td>2016-12-02 16:04:00-0500</td>\n",
       "      <td>63.04933943|65.31730128|67.13167076|69.8532249...</td>\n",
       "      <td>kg|kg|kg|kg|kg|kg|kg|kg|kg|kg|kg|kg</td>\n",
       "      <td>2017-07-14 13:28:00-0400|2017-08-18 13:28:00-0...</td>\n",
       "      <td>62.142155</td>\n",
       "      <td>kg</td>\n",
       "      <td>2016-12-02 16:04:00-0500</td>\n",
       "      <td>21.8|22.5|23.2|24.1|24.6|25.4|25.4|25.5|25.8|2...</td>\n",
       "      <td>kg/m2|kg/m2|kg/m2|kg/m2|kg/m2|kg/m2|kg/m2|kg/m...</td>\n",
       "      <td>2017-07-14 13:28:00-0400|2017-08-18 13:28:00-0...</td>\n",
       "      <td>117.0</td>\n",
       "      <td>mmHg</td>\n",
       "      <td>2018-01-30 19:39:00-0500</td>\n",
       "      <td>69.0</td>\n",
       "      <td>mmHg</td>\n",
       "      <td>2018-01-30 19:39:00-0500</td>\n",
       "      <td>76.0|76.0</td>\n",
       "      <td>bpm|bpm</td>\n",
       "      <td>2018-01-30 19:45:00-0500|2018-01-30 19:45:00-0500</td>\n",
       "      <td>10.0</td>\n",
       "      <td>pain</td>\n",
       "      <td>2018-01-30 19:45:00-0500</td>\n",
       "      <td>False</td>\n",
       "      <td>False</td>\n",
       "      <td>False</td>\n",
       "      <td>False</td>\n",
       "      <td>False</td>\n",
       "      <td>False</td>\n",
       "      <td>True</td>\n",
       "      <td>False</td>\n",
       "      <td>False</td>\n",
       "      <td>False</td>\n",
       "      <td>True</td>\n",
       "      <td>True</td>\n",
       "      <td>False</td>\n",
       "      <td>False</td>\n",
       "      <td>False</td>\n",
       "      <td>False</td>\n",
       "      <td>False</td>\n",
       "      <td>False</td>\n",
       "      <td>False</td>\n",
       "      <td>False</td>\n",
       "      <td>False</td>\n",
       "      <td>False</td>\n",
       "      <td>False</td>\n",
       "      <td>True</td>\n",
       "      <td>False</td>\n",
       "      <td>False</td>\n",
       "      <td>False</td>\n",
       "      <td>False</td>\n",
       "      <td>False</td>\n",
       "      <td>False</td>\n",
       "      <td>False</td>\n",
       "      <td>False</td>\n",
       "      <td>False</td>\n",
       "      <td>False</td>\n",
       "      <td>True</td>\n",
       "      <td>False</td>\n",
       "      <td>False</td>\n",
       "      <td>False</td>\n",
       "      <td>False</td>\n",
       "      <td>False</td>\n",
       "      <td>False</td>\n",
       "      <td>False</td>\n",
       "      <td>False</td>\n",
       "      <td>Private|Private|Private</td>\n",
       "      <td>Private|Private|Private</td>\n",
       "      <td>02035</td>\n",
       "      <td>NaN</td>\n",
       "      <td>NaN</td>\n",
       "      <td>NaN</td>\n",
       "      <td>NaN</td>\n",
       "      <td>NaN</td>\n",
       "      <td>NaN</td>\n",
       "      <td>NaN</td>\n",
       "      <td>False</td>\n",
       "      <td>False</td>\n",
       "      <td>False</td>\n",
       "      <td>False</td>\n",
       "      <td>White</td>\n",
       "      <td>Not Hispanic</td>\n",
       "      <td>3.0</td>\n",
       "      <td>0.0|2.0</td>\n",
       "      <td>NaN</td>\n",
       "      <td>NaN</td>\n",
       "      <td>NaN</td>\n",
       "      <td>NaN</td>\n",
       "      <td>NaN</td>\n",
       "      <td>NaN</td>\n",
       "      <td>NaN</td>\n",
       "      <td>NaN</td>\n",
       "      <td>NaN</td>\n",
       "      <td>NaN</td>\n",
       "      <td>NaN</td>\n",
       "      <td>NaN</td>\n",
       "      <td>NaN</td>\n",
       "      <td>NaN</td>\n",
       "      <td>NaN</td>\n",
       "      <td>NaN</td>\n",
       "      <td>NaN</td>\n",
       "      <td>NaN</td>\n",
       "      <td>NaN</td>\n",
       "      <td>NaN</td>\n",
       "      <td>1984-06-25</td>\n",
       "      <td>english</td>\n",
       "      <td>married</td>\n",
       "      <td>united states</td>\n",
       "      <td>not employed</td>\n",
       "    </tr>\n",
       "    <tr>\n",
       "      <th>1</th>\n",
       "      <td>2</td>\n",
       "      <td>10048003501</td>\n",
       "      <td>2018-01-31</td>\n",
       "      <td>03:02:24-05:00</td>\n",
       "      <td>term</td>\n",
       "      <td>279.0</td>\n",
       "      <td>279.0</td>\n",
       "      <td>True</td>\n",
       "      <td>False</td>\n",
       "      <td>False</td>\n",
       "      <td>False</td>\n",
       "      <td>False</td>\n",
       "      <td>mgh</td>\n",
       "      <td>True</td>\n",
       "      <td>True</td>\n",
       "      <td>False</td>\n",
       "      <td>False</td>\n",
       "      <td>False</td>\n",
       "      <td>False</td>\n",
       "      <td>2.639907</td>\n",
       "      <td>24444.0</td>\n",
       "      <td>False</td>\n",
       "      <td>cephalic</td>\n",
       "      <td>vertex</td>\n",
       "      <td>vertex</td>\n",
       "      <td>right</td>\n",
       "      <td>transverse</td>\n",
       "      <td>27.7</td>\n",
       "      <td>kg/m2</td>\n",
       "      <td>2018-01-29 09:53:00-0500</td>\n",
       "      <td>64.410117</td>\n",
       "      <td>kg</td>\n",
       "      <td>2018-01-29 09:53:00-0500</td>\n",
       "      <td>65.00</td>\n",
       "      <td>mmHg</td>\n",
       "      <td>2024-03-22 09:17:00-0400</td>\n",
       "      <td>23.6|24.4|25.0|26.2|27.1|27.3|27.9|27.5|27.9|2...</td>\n",
       "      <td>kg/m2|kg/m2|kg/m2|kg/m2|kg/m2|kg/m2|kg/m2|kg/m...</td>\n",
       "      <td>2017-07-08 15:11:00-0400|2017-08-07 09:29:00-0...</td>\n",
       "      <td>23.2</td>\n",
       "      <td>kg/m2</td>\n",
       "      <td>2016-11-12 14:54:00-0500</td>\n",
       "      <td>54.88467677|56.69904625|58.05982336|60.7813775...</td>\n",
       "      <td>kg|kg|kg|kg|kg|kg|kg|kg|kg|kg|kg|kg</td>\n",
       "      <td>2017-07-08 15:11:00-0400|2017-08-07 09:29:00-0...</td>\n",
       "      <td>53.977492</td>\n",
       "      <td>kg</td>\n",
       "      <td>2016-11-12 14:54:00-0500</td>\n",
       "      <td>23.6|24.4|25.0|26.2|27.1|27.3|27.9|27.5|27.9|2...</td>\n",
       "      <td>kg/m2|kg/m2|kg/m2|kg/m2|kg/m2|kg/m2|kg/m2|kg/m...</td>\n",
       "      <td>2017-07-08 15:11:00-0400|2017-08-07 09:29:00-0...</td>\n",
       "      <td>110.0|136.0|116.0|117.0</td>\n",
       "      <td>mmHg|mmHg|mmHg|mmHg</td>\n",
       "      <td>2018-01-29 09:53:00-0500|2018-01-30 19:50:00-0...</td>\n",
       "      <td>60.0|87.0|79.0|82.0</td>\n",
       "      <td>mmHg|mmHg|mmHg|mmHg</td>\n",
       "      <td>2018-01-29 09:53:00-0500|2018-01-30 19:50:00-0...</td>\n",
       "      <td>108.0|126.0|153.0|81.0|82.0</td>\n",
       "      <td>bpm|bpm|bpm|bpm|bpm</td>\n",
       "      <td>2018-01-29 09:53:00-0500|2018-01-29 09:53:00-0...</td>\n",
       "      <td>0.0|0.0</td>\n",
       "      <td>pain|pain</td>\n",
       "      <td>2018-01-30 19:00:00-0500|2018-01-30 23:00:00-0500</td>\n",
       "      <td>False</td>\n",
       "      <td>False</td>\n",
       "      <td>False</td>\n",
       "      <td>False</td>\n",
       "      <td>False</td>\n",
       "      <td>False</td>\n",
       "      <td>False</td>\n",
       "      <td>False</td>\n",
       "      <td>False</td>\n",
       "      <td>False</td>\n",
       "      <td>False</td>\n",
       "      <td>False</td>\n",
       "      <td>False</td>\n",
       "      <td>False</td>\n",
       "      <td>False</td>\n",
       "      <td>True</td>\n",
       "      <td>True</td>\n",
       "      <td>False</td>\n",
       "      <td>False</td>\n",
       "      <td>False</td>\n",
       "      <td>False</td>\n",
       "      <td>False</td>\n",
       "      <td>False</td>\n",
       "      <td>False</td>\n",
       "      <td>False</td>\n",
       "      <td>False</td>\n",
       "      <td>False</td>\n",
       "      <td>False</td>\n",
       "      <td>False</td>\n",
       "      <td>False</td>\n",
       "      <td>False</td>\n",
       "      <td>False</td>\n",
       "      <td>False</td>\n",
       "      <td>False</td>\n",
       "      <td>False</td>\n",
       "      <td>False</td>\n",
       "      <td>False</td>\n",
       "      <td>False</td>\n",
       "      <td>False</td>\n",
       "      <td>False</td>\n",
       "      <td>False</td>\n",
       "      <td>False</td>\n",
       "      <td>False</td>\n",
       "      <td>Private|Private</td>\n",
       "      <td>Private|Private</td>\n",
       "      <td>03087</td>\n",
       "      <td>NaN</td>\n",
       "      <td>NaN</td>\n",
       "      <td>NaN</td>\n",
       "      <td>NaN</td>\n",
       "      <td>NaN</td>\n",
       "      <td>NaN</td>\n",
       "      <td>NaN</td>\n",
       "      <td>False</td>\n",
       "      <td>False</td>\n",
       "      <td>False</td>\n",
       "      <td>False</td>\n",
       "      <td>White</td>\n",
       "      <td>Not Hispanic</td>\n",
       "      <td>2.0|3.0</td>\n",
       "      <td>0.0</td>\n",
       "      <td>epidural</td>\n",
       "      <td>2018-01-31 01:35:00-0500</td>\n",
       "      <td>NaN</td>\n",
       "      <td>jackson, jaleesa</td>\n",
       "      <td>sitting</td>\n",
       "      <td>midline</td>\n",
       "      <td>l2-3</td>\n",
       "      <td>1774177104</td>\n",
       "      <td>2018-01-31 06:35:00-0500</td>\n",
       "      <td>NaN</td>\n",
       "      <td>weiss</td>\n",
       "      <td>NaN</td>\n",
       "      <td>5.0</td>\n",
       "      <td>10.0</td>\n",
       "      <td>NaN</td>\n",
       "      <td>NaN</td>\n",
       "      <td>NaN</td>\n",
       "      <td>no</td>\n",
       "      <td>NaN</td>\n",
       "      <td>3180955539</td>\n",
       "      <td>1977-10-27</td>\n",
       "      <td>english</td>\n",
       "      <td>married</td>\n",
       "      <td>united states</td>\n",
       "      <td>full time</td>\n",
       "    </tr>\n",
       "    <tr>\n",
       "      <th>2</th>\n",
       "      <td>3</td>\n",
       "      <td>10063210025</td>\n",
       "      <td>2015-08-01</td>\n",
       "      <td>00:30:00-04:00</td>\n",
       "      <td>term</td>\n",
       "      <td>280.0</td>\n",
       "      <td>280.0</td>\n",
       "      <td>True</td>\n",
       "      <td>False</td>\n",
       "      <td>False</td>\n",
       "      <td>False</td>\n",
       "      <td>False</td>\n",
       "      <td>bwh</td>\n",
       "      <td>False</td>\n",
       "      <td>False</td>\n",
       "      <td>False</td>\n",
       "      <td>False</td>\n",
       "      <td>False</td>\n",
       "      <td>False</td>\n",
       "      <td>3.486991</td>\n",
       "      <td>23400.0</td>\n",
       "      <td>NaN</td>\n",
       "      <td>cephalic</td>\n",
       "      <td>vertex</td>\n",
       "      <td>vertex</td>\n",
       "      <td>left</td>\n",
       "      <td>anterior</td>\n",
       "      <td>NaN</td>\n",
       "      <td>NaN</td>\n",
       "      <td>NaN</td>\n",
       "      <td>79.287946</td>\n",
       "      <td>kg</td>\n",
       "      <td>2014-11-10 08:55:00-0500</td>\n",
       "      <td>0.00</td>\n",
       "      <td>risk</td>\n",
       "      <td>2022-02-08 14:58:00-0500</td>\n",
       "      <td>NaN</td>\n",
       "      <td>NaN</td>\n",
       "      <td>NaN</td>\n",
       "      <td>34.0</td>\n",
       "      <td>kg/m2</td>\n",
       "      <td>2014-02-18 14:50:00-0500</td>\n",
       "      <td>79.287946276</td>\n",
       "      <td>kg</td>\n",
       "      <td>2014-11-10 08:55:00-0500</td>\n",
       "      <td>78.471480</td>\n",
       "      <td>kg</td>\n",
       "      <td>2014-06-27 08:17:00-0400</td>\n",
       "      <td>NaN</td>\n",
       "      <td>NaN</td>\n",
       "      <td>NaN</td>\n",
       "      <td>NaN</td>\n",
       "      <td>NaN</td>\n",
       "      <td>NaN</td>\n",
       "      <td>NaN</td>\n",
       "      <td>NaN</td>\n",
       "      <td>NaN</td>\n",
       "      <td>NaN</td>\n",
       "      <td>NaN</td>\n",
       "      <td>NaN</td>\n",
       "      <td>NaN</td>\n",
       "      <td>NaN</td>\n",
       "      <td>NaN</td>\n",
       "      <td>False</td>\n",
       "      <td>False</td>\n",
       "      <td>False</td>\n",
       "      <td>False</td>\n",
       "      <td>False</td>\n",
       "      <td>False</td>\n",
       "      <td>False</td>\n",
       "      <td>False</td>\n",
       "      <td>False</td>\n",
       "      <td>False</td>\n",
       "      <td>False</td>\n",
       "      <td>True</td>\n",
       "      <td>False</td>\n",
       "      <td>False</td>\n",
       "      <td>False</td>\n",
       "      <td>False</td>\n",
       "      <td>NaN</td>\n",
       "      <td>False</td>\n",
       "      <td>NaN</td>\n",
       "      <td>False</td>\n",
       "      <td>False</td>\n",
       "      <td>False</td>\n",
       "      <td>False</td>\n",
       "      <td>False</td>\n",
       "      <td>False</td>\n",
       "      <td>False</td>\n",
       "      <td>False</td>\n",
       "      <td>False</td>\n",
       "      <td>False</td>\n",
       "      <td>False</td>\n",
       "      <td>False</td>\n",
       "      <td>False</td>\n",
       "      <td>False</td>\n",
       "      <td>False</td>\n",
       "      <td>False</td>\n",
       "      <td>False</td>\n",
       "      <td>False</td>\n",
       "      <td>False</td>\n",
       "      <td>False</td>\n",
       "      <td>False</td>\n",
       "      <td>False</td>\n",
       "      <td>False</td>\n",
       "      <td>False</td>\n",
       "      <td>Private|Private</td>\n",
       "      <td>Private|Private</td>\n",
       "      <td>01880</td>\n",
       "      <td>NaN</td>\n",
       "      <td>NaN</td>\n",
       "      <td>NaN</td>\n",
       "      <td>NaN</td>\n",
       "      <td>NaN</td>\n",
       "      <td>NaN</td>\n",
       "      <td>NaN</td>\n",
       "      <td>False</td>\n",
       "      <td>NaN</td>\n",
       "      <td>NaN</td>\n",
       "      <td>False</td>\n",
       "      <td>White</td>\n",
       "      <td>Not Hispanic</td>\n",
       "      <td>NaN</td>\n",
       "      <td>NaN</td>\n",
       "      <td>epidural/intrathecal</td>\n",
       "      <td>2015-08-01 11:21:00-0400</td>\n",
       "      <td>podovei, mihaela</td>\n",
       "      <td>lee, jennifer e</td>\n",
       "      <td>sitting</td>\n",
       "      <td>midline</td>\n",
       "      <td>l3-4</td>\n",
       "      <td>449965495</td>\n",
       "      <td>2015-08-01 15:21:00-0400</td>\n",
       "      <td>NaN</td>\n",
       "      <td>NaN</td>\n",
       "      <td>NaN</td>\n",
       "      <td>NaN</td>\n",
       "      <td>NaN</td>\n",
       "      <td>NaN</td>\n",
       "      <td>NaN</td>\n",
       "      <td>NaN</td>\n",
       "      <td>transient</td>\n",
       "      <td>Right sided paresthesia with the catheter thre...</td>\n",
       "      <td>3081234798</td>\n",
       "      <td>1981-01-31</td>\n",
       "      <td>english</td>\n",
       "      <td>married</td>\n",
       "      <td>united states</td>\n",
       "      <td>full time</td>\n",
       "    </tr>\n",
       "    <tr>\n",
       "      <th>3</th>\n",
       "      <td>4</td>\n",
       "      <td>10055528323</td>\n",
       "      <td>2015-08-04</td>\n",
       "      <td>18:19:56-04:00</td>\n",
       "      <td>term</td>\n",
       "      <td>273.0</td>\n",
       "      <td>273.0</td>\n",
       "      <td>False</td>\n",
       "      <td>False</td>\n",
       "      <td>False</td>\n",
       "      <td>False</td>\n",
       "      <td>False</td>\n",
       "      <td>bwh</td>\n",
       "      <td>False</td>\n",
       "      <td>False</td>\n",
       "      <td>False</td>\n",
       "      <td>False</td>\n",
       "      <td>False</td>\n",
       "      <td>False</td>\n",
       "      <td>3.316894</td>\n",
       "      <td>NaN</td>\n",
       "      <td>NaN</td>\n",
       "      <td>NaN</td>\n",
       "      <td>NaN</td>\n",
       "      <td>NaN</td>\n",
       "      <td>NaN</td>\n",
       "      <td>NaN</td>\n",
       "      <td>NaN</td>\n",
       "      <td>NaN</td>\n",
       "      <td>NaN</td>\n",
       "      <td>68.999337</td>\n",
       "      <td>kg</td>\n",
       "      <td>2015-08-04 11:06:00-0400</td>\n",
       "      <td>3.50</td>\n",
       "      <td>risk</td>\n",
       "      <td>2016-08-09 03:42:00-0400</td>\n",
       "      <td>NaN</td>\n",
       "      <td>NaN</td>\n",
       "      <td>NaN</td>\n",
       "      <td>23.0</td>\n",
       "      <td>kg/m2</td>\n",
       "      <td>2013-06-21 10:22:00-0400</td>\n",
       "      <td>63.95652417|65.77089365|66.67807839|66.2244860...</td>\n",
       "      <td>kg|kg|kg|kg|kg|kg|kg|kg|kg</td>\n",
       "      <td>2015-03-15 10:35:00-0400|2015-04-25 10:00:00-0...</td>\n",
       "      <td>62.822543</td>\n",
       "      <td>kg</td>\n",
       "      <td>2013-06-21 10:22:00-0400</td>\n",
       "      <td>NaN</td>\n",
       "      <td>NaN</td>\n",
       "      <td>NaN</td>\n",
       "      <td>120.0</td>\n",
       "      <td>mmHg</td>\n",
       "      <td>2015-08-01 09:36:00-0400</td>\n",
       "      <td>70.0</td>\n",
       "      <td>mmHg</td>\n",
       "      <td>2015-08-01 09:36:00-0400</td>\n",
       "      <td>108.42|135.53|144.56</td>\n",
       "      <td>bpm|bpm|bpm</td>\n",
       "      <td>2015-08-01 09:36:00-0400|2015-08-01 09:36:00-0...</td>\n",
       "      <td>NaN</td>\n",
       "      <td>NaN</td>\n",
       "      <td>NaN</td>\n",
       "      <td>False</td>\n",
       "      <td>False</td>\n",
       "      <td>False</td>\n",
       "      <td>False</td>\n",
       "      <td>False</td>\n",
       "      <td>False</td>\n",
       "      <td>False</td>\n",
       "      <td>False</td>\n",
       "      <td>False</td>\n",
       "      <td>False</td>\n",
       "      <td>False</td>\n",
       "      <td>False</td>\n",
       "      <td>False</td>\n",
       "      <td>False</td>\n",
       "      <td>True</td>\n",
       "      <td>False</td>\n",
       "      <td>NaN</td>\n",
       "      <td>False</td>\n",
       "      <td>NaN</td>\n",
       "      <td>False</td>\n",
       "      <td>False</td>\n",
       "      <td>False</td>\n",
       "      <td>False</td>\n",
       "      <td>False</td>\n",
       "      <td>False</td>\n",
       "      <td>False</td>\n",
       "      <td>False</td>\n",
       "      <td>False</td>\n",
       "      <td>False</td>\n",
       "      <td>False</td>\n",
       "      <td>False</td>\n",
       "      <td>False</td>\n",
       "      <td>False</td>\n",
       "      <td>False</td>\n",
       "      <td>False</td>\n",
       "      <td>False</td>\n",
       "      <td>False</td>\n",
       "      <td>False</td>\n",
       "      <td>False</td>\n",
       "      <td>False</td>\n",
       "      <td>False</td>\n",
       "      <td>False</td>\n",
       "      <td>False</td>\n",
       "      <td>Private|Private</td>\n",
       "      <td>Private|Private</td>\n",
       "      <td>78704</td>\n",
       "      <td>NaN</td>\n",
       "      <td>NaN</td>\n",
       "      <td>NaN</td>\n",
       "      <td>NaN</td>\n",
       "      <td>NaN</td>\n",
       "      <td>NaN</td>\n",
       "      <td>NaN</td>\n",
       "      <td>False</td>\n",
       "      <td>NaN</td>\n",
       "      <td>NaN</td>\n",
       "      <td>False</td>\n",
       "      <td>White</td>\n",
       "      <td>Unavailable</td>\n",
       "      <td>NaN</td>\n",
       "      <td>NaN</td>\n",
       "      <td>intrathecal</td>\n",
       "      <td>2015-08-04 01:44:00-0400</td>\n",
       "      <td>camann, william</td>\n",
       "      <td>lee, jason s</td>\n",
       "      <td>sitting</td>\n",
       "      <td>midline</td>\n",
       "      <td>l3-4</td>\n",
       "      <td>455233081</td>\n",
       "      <td>2015-08-04 17:55:00-0400</td>\n",
       "      <td>NaN</td>\n",
       "      <td>NaN</td>\n",
       "      <td>NaN</td>\n",
       "      <td>NaN</td>\n",
       "      <td>NaN</td>\n",
       "      <td>NaN</td>\n",
       "      <td>NaN</td>\n",
       "      <td>NaN</td>\n",
       "      <td>no</td>\n",
       "      <td>NaN</td>\n",
       "      <td>3081648579</td>\n",
       "      <td>1976-02-29</td>\n",
       "      <td>english</td>\n",
       "      <td>married</td>\n",
       "      <td>NaN</td>\n",
       "      <td>full time</td>\n",
       "    </tr>\n",
       "    <tr>\n",
       "      <th>4</th>\n",
       "      <td>5</td>\n",
       "      <td>10078242548</td>\n",
       "      <td>2015-08-30</td>\n",
       "      <td>16:08:00-04:00</td>\n",
       "      <td>term</td>\n",
       "      <td>288.0</td>\n",
       "      <td>288.0</td>\n",
       "      <td>True</td>\n",
       "      <td>False</td>\n",
       "      <td>False</td>\n",
       "      <td>False</td>\n",
       "      <td>False</td>\n",
       "      <td>bwh</td>\n",
       "      <td>False</td>\n",
       "      <td>False</td>\n",
       "      <td>False</td>\n",
       "      <td>False</td>\n",
       "      <td>False</td>\n",
       "      <td>False</td>\n",
       "      <td>3.288544</td>\n",
       "      <td>17880.0</td>\n",
       "      <td>NaN</td>\n",
       "      <td>cephalic</td>\n",
       "      <td>vertex</td>\n",
       "      <td>vertex</td>\n",
       "      <td>NaN</td>\n",
       "      <td>NaN</td>\n",
       "      <td>28.2</td>\n",
       "      <td>kg/m2</td>\n",
       "      <td>2015-08-29 15:35:00-0400</td>\n",
       "      <td>73.935556</td>\n",
       "      <td>kg</td>\n",
       "      <td>2015-08-29 15:35:00-0400</td>\n",
       "      <td>160.14</td>\n",
       "      <td>bpm</td>\n",
       "      <td>2024-05-05 10:06:00-0400</td>\n",
       "      <td>22.0|27.5|27.3|28.0|28.2</td>\n",
       "      <td>kg/m2|kg/m2|kg/m2|kg/m2|kg/m2</td>\n",
       "      <td>2015-02-14 09:33:00-0500|2015-07-30 20:16:00-0...</td>\n",
       "      <td>21.0</td>\n",
       "      <td>kg/m2</td>\n",
       "      <td>2012-03-25 14:15:00-0400</td>\n",
       "      <td>58.05982336|62.14215469|72.5747792|72.12118683...</td>\n",
       "      <td>kg|kg|kg|kg|kg|kg|kg|kg|kg|kg|kg|kg</td>\n",
       "      <td>2015-02-14 09:33:00-0500|2015-03-31 13:12:00-0...</td>\n",
       "      <td>53.977492</td>\n",
       "      <td>kg</td>\n",
       "      <td>2013-04-28 16:49:00-0400</td>\n",
       "      <td>22.0|27.5|27.3|28.0|28.2</td>\n",
       "      <td>kg/m2|kg/m2|kg/m2|kg/m2|kg/m2</td>\n",
       "      <td>2015-02-14 09:33:00-0500|2015-07-30 20:16:00-0...</td>\n",
       "      <td>132.0|132.0|132.0|112.0|133.0</td>\n",
       "      <td>mmHg|mmHg|mmHg|mmHg|mmHg</td>\n",
       "      <td>2015-08-29 13:46:00-0400|2015-08-29 13:50:00-0...</td>\n",
       "      <td>71.0|71.0|74.0|80.0|62.0</td>\n",
       "      <td>mmHg|mmHg|mmHg|mmHg|mmHg</td>\n",
       "      <td>2015-08-29 13:46:00-0400|2015-08-29 13:50:00-0...</td>\n",
       "      <td>145.5|123.0|123.0|145.5|116.4|121.0|140.0|140....</td>\n",
       "      <td>bpm|bpm|bpm|bpm|bpm|bpm|bpm|bpm|bpm|bpm|bpm|bp...</td>\n",
       "      <td>2015-08-29 13:46:00-0400|2015-08-29 13:46:00-0...</td>\n",
       "      <td>0.0|0.0|0.0|70.0|70.0|70.0|70.0</td>\n",
       "      <td>pain|pain|pain|pain|pain|pain|pain</td>\n",
       "      <td>2015-08-29 15:00:00-0400|2015-08-29 17:30:00-0...</td>\n",
       "      <td>False</td>\n",
       "      <td>False</td>\n",
       "      <td>False</td>\n",
       "      <td>False</td>\n",
       "      <td>False</td>\n",
       "      <td>False</td>\n",
       "      <td>False</td>\n",
       "      <td>False</td>\n",
       "      <td>False</td>\n",
       "      <td>False</td>\n",
       "      <td>True</td>\n",
       "      <td>False</td>\n",
       "      <td>False</td>\n",
       "      <td>False</td>\n",
       "      <td>False</td>\n",
       "      <td>False</td>\n",
       "      <td>NaN</td>\n",
       "      <td>False</td>\n",
       "      <td>NaN</td>\n",
       "      <td>False</td>\n",
       "      <td>False</td>\n",
       "      <td>False</td>\n",
       "      <td>False</td>\n",
       "      <td>False</td>\n",
       "      <td>False</td>\n",
       "      <td>False</td>\n",
       "      <td>False</td>\n",
       "      <td>False</td>\n",
       "      <td>False</td>\n",
       "      <td>False</td>\n",
       "      <td>False</td>\n",
       "      <td>False</td>\n",
       "      <td>False</td>\n",
       "      <td>False</td>\n",
       "      <td>False</td>\n",
       "      <td>False</td>\n",
       "      <td>False</td>\n",
       "      <td>False</td>\n",
       "      <td>False</td>\n",
       "      <td>False</td>\n",
       "      <td>False</td>\n",
       "      <td>False</td>\n",
       "      <td>False</td>\n",
       "      <td>Public</td>\n",
       "      <td>Other Public</td>\n",
       "      <td>02132</td>\n",
       "      <td>NaN</td>\n",
       "      <td>NaN</td>\n",
       "      <td>NaN</td>\n",
       "      <td>NaN</td>\n",
       "      <td>NaN</td>\n",
       "      <td>NaN</td>\n",
       "      <td>NaN</td>\n",
       "      <td>False</td>\n",
       "      <td>NaN</td>\n",
       "      <td>NaN</td>\n",
       "      <td>False</td>\n",
       "      <td>White</td>\n",
       "      <td>Hispanic</td>\n",
       "      <td>1.0</td>\n",
       "      <td>NaN</td>\n",
       "      <td>epidural/intrathecal</td>\n",
       "      <td>2015-08-30 03:25:00-0400</td>\n",
       "      <td>cappiello, eric c</td>\n",
       "      <td>kwon, albert h</td>\n",
       "      <td>sitting</td>\n",
       "      <td>midline</td>\n",
       "      <td>l4-5</td>\n",
       "      <td>490247226</td>\n",
       "      <td>2015-08-30 07:40:00-0400</td>\n",
       "      <td>NaN</td>\n",
       "      <td>weiss</td>\n",
       "      <td>NaN</td>\n",
       "      <td>4.0</td>\n",
       "      <td>9.0</td>\n",
       "      <td>NaN</td>\n",
       "      <td>NaN</td>\n",
       "      <td>NaN</td>\n",
       "      <td>no</td>\n",
       "      <td>NaN</td>\n",
       "      <td>3084361541</td>\n",
       "      <td>1995-05-14</td>\n",
       "      <td>english</td>\n",
       "      <td>single</td>\n",
       "      <td>united states</td>\n",
       "      <td>not employed</td>\n",
       "    </tr>\n",
       "  </tbody>\n",
       "</table>\n",
       "</div>"
      ],
      "text/plain": [
       "   id    epic_pmrn delivery_date   delivery_time pregnancy_outcome  \\\n",
       "0   1  10048619033    2018-01-31  11:55:00-05:00              term   \n",
       "1   2  10048003501    2018-01-31  03:02:24-05:00              term   \n",
       "2   3  10063210025    2015-08-01  00:30:00-04:00              term   \n",
       "3   4  10055528323    2015-08-04  18:19:56-04:00              term   \n",
       "4   5  10078242548    2015-08-30  16:08:00-04:00              term   \n",
       "\n",
       "   newborn_gestational_age  gestational_age_2052 anesthesia_epidural_2062  \\\n",
       "0                    276.0                 276.0                    False   \n",
       "1                    279.0                 279.0                     True   \n",
       "2                    280.0                 280.0                     True   \n",
       "3                    273.0                 273.0                    False   \n",
       "4                    288.0                 288.0                     True   \n",
       "\n",
       "  anesthesia_general_2063 anesthesia_local_2064 anesthesia_pudendal_2065  \\\n",
       "0                   False                 False                    False   \n",
       "1                   False                 False                    False   \n",
       "2                   False                 False                    False   \n",
       "3                   False                 False                    False   \n",
       "4                   False                 False                    False   \n",
       "\n",
       "  anesthesia_spinal_2066 delivery_site_2188  induction_oxytocin_2189  \\\n",
       "0                  False                mgh                    False   \n",
       "1                  False                mgh                     True   \n",
       "2                  False                bwh                    False   \n",
       "3                  False                bwh                    False   \n",
       "4                  False                bwh                    False   \n",
       "\n",
       "   induction_cervical_balloon_2190  induction_misoprostol_2191  \\\n",
       "0                            False                       False   \n",
       "1                             True                       False   \n",
       "2                            False                       False   \n",
       "3                            False                       False   \n",
       "4                            False                       False   \n",
       "\n",
       "   induction_arom_2192  induction_foley_easy_2193 induction_attempted_2194  \\\n",
       "0                False                      False                    False   \n",
       "1                False                      False                    False   \n",
       "2                False                      False                    False   \n",
       "3                False                      False                    False   \n",
       "4                False                      False                    False   \n",
       "\n",
       "   baby_weight_2196  secs_rom_thru_delivery_2197 tolac_attempted_2233  \\\n",
       "0          3.824917                      17700.0                  NaN   \n",
       "1          2.639907                      24444.0                False   \n",
       "2          3.486991                      23400.0                  NaN   \n",
       "3          3.316894                          NaN                  NaN   \n",
       "4          3.288544                      17880.0                  NaN   \n",
       "\n",
       "  fetal_presentation_category_2243 fetal_presentation_subcategory_2244  \\\n",
       "0                         cephalic                              vertex   \n",
       "1                         cephalic                              vertex   \n",
       "2                         cephalic                              vertex   \n",
       "3                              NaN                                 NaN   \n",
       "4                         cephalic                              vertex   \n",
       "\n",
       "  fetal_presentation_subcategory_2245 fetal_presentation_laterality_2246  \\\n",
       "0                              vertex                                NaN   \n",
       "1                              vertex                              right   \n",
       "2                              vertex                               left   \n",
       "3                                 NaN                                NaN   \n",
       "4                              vertex                                NaN   \n",
       "\n",
       "  fetal_presentation_position_2247  bmi_end_pregnancy_2044  \\\n",
       "0                              NaN                    26.1   \n",
       "1                       transverse                    27.7   \n",
       "2                         anterior                     NaN   \n",
       "3                              NaN                     NaN   \n",
       "4                              NaN                    28.2   \n",
       "\n",
       "  bmi_end_pregnancy_units_2044 bmi_end_pregnancy_datetime_2044  \\\n",
       "0                        kg/m2        2018-01-26 15:39:00-0500   \n",
       "1                        kg/m2        2018-01-29 09:53:00-0500   \n",
       "2                          NaN                             NaN   \n",
       "3                          NaN                             NaN   \n",
       "4                        kg/m2        2015-08-29 15:35:00-0400   \n",
       "\n",
       "   maternal_weight_end_pregnancy_2045  \\\n",
       "0                           75.296333   \n",
       "1                           64.410117   \n",
       "2                           79.287946   \n",
       "3                           68.999337   \n",
       "4                           73.935556   \n",
       "\n",
       "  maternal_weight_end_pregnancy_units_2045  \\\n",
       "0                                       kg   \n",
       "1                                       kg   \n",
       "2                                       kg   \n",
       "3                                       kg   \n",
       "4                                       kg   \n",
       "\n",
       "  maternal_weight_end_pregnancy_datetime_2045  maternal_height_2046  \\\n",
       "0                    2018-01-26 15:39:00-0500                 37.00   \n",
       "1                    2018-01-29 09:53:00-0500                 65.00   \n",
       "2                    2014-11-10 08:55:00-0500                  0.00   \n",
       "3                    2015-08-04 11:06:00-0400                  3.50   \n",
       "4                    2015-08-29 15:35:00-0400                160.14   \n",
       "\n",
       "  maternal_height_units_2046 maternal_height_datetime_2046  \\\n",
       "0                    celsius      2024-01-03 18:25:00-0500   \n",
       "1                       mmHg      2024-03-22 09:17:00-0400   \n",
       "2                       risk      2022-02-08 14:58:00-0500   \n",
       "3                       risk      2016-08-09 03:42:00-0400   \n",
       "4                        bpm      2024-05-05 10:06:00-0400   \n",
       "\n",
       "                       bmi_throughout_pregnancy_2160  \\\n",
       "0  21.8|22.5|23.2|24.1|24.6|25.4|25.4|25.5|25.8|2...   \n",
       "1  23.6|24.4|25.0|26.2|27.1|27.3|27.9|27.5|27.9|2...   \n",
       "2                                                NaN   \n",
       "3                                                NaN   \n",
       "4                           22.0|27.5|27.3|28.0|28.2   \n",
       "\n",
       "                 bmi_throughout_pregnancy_units_2160  \\\n",
       "0  kg/m2|kg/m2|kg/m2|kg/m2|kg/m2|kg/m2|kg/m2|kg/m...   \n",
       "1  kg/m2|kg/m2|kg/m2|kg/m2|kg/m2|kg/m2|kg/m2|kg/m...   \n",
       "2                                                NaN   \n",
       "3                                                NaN   \n",
       "4                      kg/m2|kg/m2|kg/m2|kg/m2|kg/m2   \n",
       "\n",
       "              bmi_throughout_pregnancy_datetime_2160  \\\n",
       "0  2017-07-14 13:28:00-0400|2017-08-18 13:28:00-0...   \n",
       "1  2017-07-08 15:11:00-0400|2017-08-07 09:29:00-0...   \n",
       "2                                                NaN   \n",
       "3                                                NaN   \n",
       "4  2015-02-14 09:33:00-0500|2015-07-30 20:16:00-0...   \n",
       "\n",
       "   bmi_before_pregnancy_2161 bmi_before_pregnancy_units_2161  \\\n",
       "0                       21.5                           kg/m2   \n",
       "1                       23.2                           kg/m2   \n",
       "2                       34.0                           kg/m2   \n",
       "3                       23.0                           kg/m2   \n",
       "4                       21.0                           kg/m2   \n",
       "\n",
       "  bmi_before_pregnancy_datetime_2161  \\\n",
       "0           2016-12-02 16:04:00-0500   \n",
       "1           2016-11-12 14:54:00-0500   \n",
       "2           2014-02-18 14:50:00-0500   \n",
       "3           2013-06-21 10:22:00-0400   \n",
       "4           2012-03-25 14:15:00-0400   \n",
       "\n",
       "                    weight_throughout_pregnancy_2162  \\\n",
       "0  63.04933943|65.31730128|67.13167076|69.8532249...   \n",
       "1  54.88467677|56.69904625|58.05982336|60.7813775...   \n",
       "2                                       79.287946276   \n",
       "3  63.95652417|65.77089365|66.67807839|66.2244860...   \n",
       "4  58.05982336|62.14215469|72.5747792|72.12118683...   \n",
       "\n",
       "  weight_throughout_pregnancy_units_2162  \\\n",
       "0    kg|kg|kg|kg|kg|kg|kg|kg|kg|kg|kg|kg   \n",
       "1    kg|kg|kg|kg|kg|kg|kg|kg|kg|kg|kg|kg   \n",
       "2                                     kg   \n",
       "3             kg|kg|kg|kg|kg|kg|kg|kg|kg   \n",
       "4    kg|kg|kg|kg|kg|kg|kg|kg|kg|kg|kg|kg   \n",
       "\n",
       "           weight_throughout_pregnancy_datetime_2162  \\\n",
       "0  2017-07-14 13:28:00-0400|2017-08-18 13:28:00-0...   \n",
       "1  2017-07-08 15:11:00-0400|2017-08-07 09:29:00-0...   \n",
       "2                           2014-11-10 08:55:00-0500   \n",
       "3  2015-03-15 10:35:00-0400|2015-04-25 10:00:00-0...   \n",
       "4  2015-02-14 09:33:00-0500|2015-03-31 13:12:00-0...   \n",
       "\n",
       "   weight_before_pregnancy_2163 weight_before_pregnancy_units_2163  \\\n",
       "0                     62.142155                                 kg   \n",
       "1                     53.977492                                 kg   \n",
       "2                     78.471480                                 kg   \n",
       "3                     62.822543                                 kg   \n",
       "4                     53.977492                                 kg   \n",
       "\n",
       "  weight_before_pregnancy_datetime_2163  \\\n",
       "0              2016-12-02 16:04:00-0500   \n",
       "1              2016-11-12 14:54:00-0500   \n",
       "2              2014-06-27 08:17:00-0400   \n",
       "3              2013-06-21 10:22:00-0400   \n",
       "4              2013-04-28 16:49:00-0400   \n",
       "\n",
       "                       bmi_throughout_pregnancy_2164  \\\n",
       "0  21.8|22.5|23.2|24.1|24.6|25.4|25.4|25.5|25.8|2...   \n",
       "1  23.6|24.4|25.0|26.2|27.1|27.3|27.9|27.5|27.9|2...   \n",
       "2                                                NaN   \n",
       "3                                                NaN   \n",
       "4                           22.0|27.5|27.3|28.0|28.2   \n",
       "\n",
       "                 bmi_throughout_pregnancy_units_2164  \\\n",
       "0  kg/m2|kg/m2|kg/m2|kg/m2|kg/m2|kg/m2|kg/m2|kg/m...   \n",
       "1  kg/m2|kg/m2|kg/m2|kg/m2|kg/m2|kg/m2|kg/m2|kg/m...   \n",
       "2                                                NaN   \n",
       "3                                                NaN   \n",
       "4                      kg/m2|kg/m2|kg/m2|kg/m2|kg/m2   \n",
       "\n",
       "              bmi_throughout_pregnancy_datetime_2164  \\\n",
       "0  2017-07-14 13:28:00-0400|2017-08-18 13:28:00-0...   \n",
       "1  2017-07-08 15:11:00-0400|2017-08-07 09:29:00-0...   \n",
       "2                                                NaN   \n",
       "3                                                NaN   \n",
       "4  2015-02-14 09:33:00-0500|2015-07-30 20:16:00-0...   \n",
       "\n",
       "  timeseries_intrapartum_sbp_2228 timeseries_intrapartum_sbp_units_2228  \\\n",
       "0                           117.0                                  mmHg   \n",
       "1         110.0|136.0|116.0|117.0                   mmHg|mmHg|mmHg|mmHg   \n",
       "2                             NaN                                   NaN   \n",
       "3                           120.0                                  mmHg   \n",
       "4   132.0|132.0|132.0|112.0|133.0              mmHg|mmHg|mmHg|mmHg|mmHg   \n",
       "\n",
       "            timeseries_intrapartum_sbp_datetime_2228  \\\n",
       "0                           2018-01-30 19:39:00-0500   \n",
       "1  2018-01-29 09:53:00-0500|2018-01-30 19:50:00-0...   \n",
       "2                                                NaN   \n",
       "3                           2015-08-01 09:36:00-0400   \n",
       "4  2015-08-29 13:46:00-0400|2015-08-29 13:50:00-0...   \n",
       "\n",
       "  timeseries_intrapartum_dbp_2229 timeseries_intrapartum_dbp_units_2229  \\\n",
       "0                            69.0                                  mmHg   \n",
       "1             60.0|87.0|79.0|82.0                   mmHg|mmHg|mmHg|mmHg   \n",
       "2                             NaN                                   NaN   \n",
       "3                            70.0                                  mmHg   \n",
       "4        71.0|71.0|74.0|80.0|62.0              mmHg|mmHg|mmHg|mmHg|mmHg   \n",
       "\n",
       "            timeseries_intrapartum_dbp_datetime_2229  \\\n",
       "0                           2018-01-30 19:39:00-0500   \n",
       "1  2018-01-29 09:53:00-0500|2018-01-30 19:50:00-0...   \n",
       "2                                                NaN   \n",
       "3                           2015-08-01 09:36:00-0400   \n",
       "4  2015-08-29 13:46:00-0400|2015-08-29 13:50:00-0...   \n",
       "\n",
       "                      timeseries_intrapartum_hr_2241  \\\n",
       "0                                          76.0|76.0   \n",
       "1                        108.0|126.0|153.0|81.0|82.0   \n",
       "2                                                NaN   \n",
       "3                               108.42|135.53|144.56   \n",
       "4  145.5|123.0|123.0|145.5|116.4|121.0|140.0|140....   \n",
       "\n",
       "                timeseries_intrapartum_hr_units_2241  \\\n",
       "0                                            bpm|bpm   \n",
       "1                                bpm|bpm|bpm|bpm|bpm   \n",
       "2                                                NaN   \n",
       "3                                        bpm|bpm|bpm   \n",
       "4  bpm|bpm|bpm|bpm|bpm|bpm|bpm|bpm|bpm|bpm|bpm|bp...   \n",
       "\n",
       "             timeseries_intrapartum_hr_datetime_2241  \\\n",
       "0  2018-01-30 19:45:00-0500|2018-01-30 19:45:00-0500   \n",
       "1  2018-01-29 09:53:00-0500|2018-01-29 09:53:00-0...   \n",
       "2                                                NaN   \n",
       "3  2015-08-01 09:36:00-0400|2015-08-01 09:36:00-0...   \n",
       "4  2015-08-29 13:46:00-0400|2015-08-29 13:46:00-0...   \n",
       "\n",
       "  timeseries_intrapartum_pain_score_2242  \\\n",
       "0                                   10.0   \n",
       "1                                0.0|0.0   \n",
       "2                                    NaN   \n",
       "3                                    NaN   \n",
       "4        0.0|0.0|0.0|70.0|70.0|70.0|70.0   \n",
       "\n",
       "  timeseries_intrapartum_pain_score_units_2242  \\\n",
       "0                                         pain   \n",
       "1                                    pain|pain   \n",
       "2                                          NaN   \n",
       "3                                          NaN   \n",
       "4           pain|pain|pain|pain|pain|pain|pain   \n",
       "\n",
       "     timeseries_intrapartum_pain_score_datetime_2242  \\\n",
       "0                           2018-01-30 19:45:00-0500   \n",
       "1  2018-01-30 19:00:00-0500|2018-01-30 23:00:00-0500   \n",
       "2                                                NaN   \n",
       "3                                                NaN   \n",
       "4  2015-08-29 15:00:00-0400|2015-08-29 17:30:00-0...   \n",
       "\n",
       "  icd_coagulation_disorders_2049 icd_scoliosis_2053 icd_spinal_fusion_2056  \\\n",
       "0                          False              False                  False   \n",
       "1                          False              False                  False   \n",
       "2                          False              False                  False   \n",
       "3                          False              False                  False   \n",
       "4                          False              False                  False   \n",
       "\n",
       "  icd_congenital_deformity_spine_2059 icd_ra_and_sctds_2086  \\\n",
       "0                               False                 False   \n",
       "1                               False                 False   \n",
       "2                               False                 False   \n",
       "3                               False                 False   \n",
       "4                               False                 False   \n",
       "\n",
       "  icd_kyphosis_and_lordosis_2089 icd_spinal_osteochondrosis_2092  \\\n",
       "0                          False                            True   \n",
       "1                          False                           False   \n",
       "2                          False                           False   \n",
       "3                          False                           False   \n",
       "4                          False                           False   \n",
       "\n",
       "  icd_spondylopathies_and_deforming_dorsopathies_2095  \\\n",
       "0                                              False    \n",
       "1                                              False    \n",
       "2                                              False    \n",
       "3                                              False    \n",
       "4                                              False    \n",
       "\n",
       "  icd_intervertebral_disc_disorders_2098 icd_ehlers_minus_danlos_2101  \\\n",
       "0                                  False                        False   \n",
       "1                                  False                        False   \n",
       "2                                  False                        False   \n",
       "3                                  False                        False   \n",
       "4                                  False                        False   \n",
       "\n",
       "  icd_dorsalgia_2104 icd_other_chronic_pain_2107 icd_ivf_2124  \\\n",
       "0               True                        True        False   \n",
       "1              False                       False        False   \n",
       "2              False                        True        False   \n",
       "3              False                       False        False   \n",
       "4               True                       False        False   \n",
       "\n",
       "  icd_multiple_gestation_2127 icd_c_minus_section_hx_2130  \\\n",
       "0                       False                       False   \n",
       "1                       False                       False   \n",
       "2                       False                       False   \n",
       "3                       False                        True   \n",
       "4                       False                       False   \n",
       "\n",
       "  icd_high_risk_current_2133 icd_high_risk_hx_2136  \\\n",
       "0                      False                 False   \n",
       "1                       True                  True   \n",
       "2                      False                   NaN   \n",
       "3                      False                   NaN   \n",
       "4                      False                   NaN   \n",
       "\n",
       "  drug_abuse_during_parent_2144 alcohol_before_parent_2151  \\\n",
       "0                         False                      False   \n",
       "1                         False                      False   \n",
       "2                         False                        NaN   \n",
       "3                         False                        NaN   \n",
       "4                         False                        NaN   \n",
       "\n",
       "  high_risk_social_problems_parent_2154  \\\n",
       "0                                 False   \n",
       "1                                 False   \n",
       "2                                 False   \n",
       "3                                 False   \n",
       "4                                 False   \n",
       "\n",
       "  high_risk_insufficient_antenatal_care_parent_2157 icd_pet_w_sf_2172  \\\n",
       "0                                             False             False   \n",
       "1                                             False             False   \n",
       "2                                             False             False   \n",
       "3                                             False             False   \n",
       "4                                             False             False   \n",
       "\n",
       "  icd_pet_wout_sf_2175 icd_major_mental_health_disorder_2178  \\\n",
       "0                False                                  True   \n",
       "1                False                                 False   \n",
       "2                False                                 False   \n",
       "3                False                                 False   \n",
       "4                False                                 False   \n",
       "\n",
       "  icd_preterm_birth_2181 icd_macrosomia_2195 icd_iufd_2200  \\\n",
       "0                  False               False         False   \n",
       "1                  False               False         False   \n",
       "2                  False               False         False   \n",
       "3                  False               False         False   \n",
       "4                  False               False         False   \n",
       "\n",
       "  education_problems_2203 employment_problems_2206 adverse_occupational_2209  \\\n",
       "0                   False                    False                     False   \n",
       "1                   False                    False                     False   \n",
       "2                   False                    False                     False   \n",
       "3                   False                    False                     False   \n",
       "4                   False                    False                     False   \n",
       "\n",
       "  housing_problems_2212 adjustment_problems_2215 relationship_problems_2218  \\\n",
       "0                 False                    False                      False   \n",
       "1                 False                    False                      False   \n",
       "2                 False                    False                      False   \n",
       "3                 False                    False                      False   \n",
       "4                 False                    False                      False   \n",
       "\n",
       "  other_psychosocial_2221 breech_2225 spontaneous_labor_2230  \\\n",
       "0                   False        True                  False   \n",
       "1                   False       False                  False   \n",
       "2                   False       False                  False   \n",
       "3                   False       False                  False   \n",
       "4                   False       False                  False   \n",
       "\n",
       "  icd_spondylitis_icd_minus_9_720_2234 icd_spondylosis_icd_minus_9_721_2235  \\\n",
       "0                                False                                False   \n",
       "1                                False                                False   \n",
       "2                                False                                False   \n",
       "3                                False                                False   \n",
       "4                                False                                False   \n",
       "\n",
       "  icd_other_dorsopathies_icd_minus_9_724_2236  \\\n",
       "0                                       False   \n",
       "1                                       False   \n",
       "2                                       False   \n",
       "3                                       False   \n",
       "4                                       False   \n",
       "\n",
       "  icd_other_dorsopathies_icd_minus_10_m43_2237  \\\n",
       "0                                        False   \n",
       "1                                        False   \n",
       "2                                        False   \n",
       "3                                        False   \n",
       "4                                        False   \n",
       "\n",
       "  icd_spondylitis_icd_minus_10_m45_minus_46_2238  \\\n",
       "0                                          False   \n",
       "1                                          False   \n",
       "2                                          False   \n",
       "3                                          False   \n",
       "4                                          False   \n",
       "\n",
       "  icd_spondylosis_icd_minus_10_m47_2239  \\\n",
       "0                                 False   \n",
       "1                                 False   \n",
       "2                                 False   \n",
       "3                                 False   \n",
       "4                                 False   \n",
       "\n",
       "  icd_other_spondylopathies_idc_minus_10_m48_minus_2240  \\\n",
       "0                                              False      \n",
       "1                                              False      \n",
       "2                                              False      \n",
       "3                                              False      \n",
       "4                                              False      \n",
       "\n",
       "     public_insurance_2114   private_insurance_2115 zipcode_2185  \\\n",
       "0  Private|Private|Private  Private|Private|Private        02035   \n",
       "1          Private|Private          Private|Private        03087   \n",
       "2          Private|Private          Private|Private        01880   \n",
       "3          Private|Private          Private|Private        78704   \n",
       "4                   Public             Other Public        02132   \n",
       "\n",
       "  meds_intrapartum_fentanyl_2165 meds_intrapartum_hydromorphone_2166  \\\n",
       "0                            NaN                                 NaN   \n",
       "1                            NaN                                 NaN   \n",
       "2                            NaN                                 NaN   \n",
       "3                            NaN                                 NaN   \n",
       "4                            NaN                                 NaN   \n",
       "\n",
       "  meds_intrapartum_morphine_2167  meds_intrapartum_nalbuphine_2168  \\\n",
       "0                            NaN                               NaN   \n",
       "1                            NaN                               NaN   \n",
       "2                            NaN                               NaN   \n",
       "3                            NaN                               NaN   \n",
       "4                            NaN                               NaN   \n",
       "\n",
       "  meds_intrapartum_acetaminophen_2169 meds_intrapartum_ibuprofen_2170  \\\n",
       "0                                 NaN                             NaN   \n",
       "1                                 NaN                             NaN   \n",
       "2                                 NaN                             NaN   \n",
       "3                                 NaN                             NaN   \n",
       "4                                 NaN                             NaN   \n",
       "\n",
       "   meds_intrapartum_ketorolac_2171 smoker_during_pregnancy_parent_2117  \\\n",
       "0                              NaN                               False   \n",
       "1                              NaN                               False   \n",
       "2                              NaN                               False   \n",
       "3                              NaN                               False   \n",
       "4                              NaN                               False   \n",
       "\n",
       "  smoker_before_pregnancy_parent_2120 drug_abuse_before_parent_2142  \\\n",
       "0                               False                         False   \n",
       "1                               False                         False   \n",
       "2                                 NaN                           NaN   \n",
       "3                                 NaN                           NaN   \n",
       "4                                 NaN                           NaN   \n",
       "\n",
       "  alcohol_during_parent_2147 maternal_race_2111 maternal_ethnicity_2112  \\\n",
       "0                      False              White            Not Hispanic   \n",
       "1                      False              White            Not Hispanic   \n",
       "2                      False              White            Not Hispanic   \n",
       "3                      False              White             Unavailable   \n",
       "4                      False              White                Hispanic   \n",
       "\n",
       "  gravidity_2047 parity_2048 anes_procedure_type_2253  \\\n",
       "0            3.0     0.0|2.0                      NaN   \n",
       "1        2.0|3.0         0.0                 epidural   \n",
       "2            NaN         NaN     epidural/intrathecal   \n",
       "3            NaN         NaN              intrathecal   \n",
       "4            1.0         NaN     epidural/intrathecal   \n",
       "\n",
       "  anes_procedure_start_dts_2254 anes_procedure_anesthesiologist_2255  \\\n",
       "0                           NaN                                  NaN   \n",
       "1      2018-01-31 01:35:00-0500                                  NaN   \n",
       "2      2015-08-01 11:21:00-0400                     podovei, mihaela   \n",
       "3      2015-08-04 01:44:00-0400                      camann, william   \n",
       "4      2015-08-30 03:25:00-0400                    cappiello, eric c   \n",
       "\n",
       "  anes_procedure_resident_2256 anes_procedure_pt_position_2257  \\\n",
       "0                          NaN                             NaN   \n",
       "1             jackson, jaleesa                         sitting   \n",
       "2              lee, jennifer e                         sitting   \n",
       "3                 lee, jason s                         sitting   \n",
       "4               kwon, albert h                         sitting   \n",
       "\n",
       "  anes_procedure_approach_2258 anes_procedure_location_2259  \\\n",
       "0                          NaN                          NaN   \n",
       "1                      midline                         l2-3   \n",
       "2                      midline                         l3-4   \n",
       "3                      midline                         l3-4   \n",
       "4                      midline                         l4-5   \n",
       "\n",
       "  anes_procedure_note_id_2260 anes_procedure_dos_dts_2261  \\\n",
       "0                         NaN                         NaN   \n",
       "1                  1774177104    2018-01-31 06:35:00-0500   \n",
       "2                   449965495    2015-08-01 15:21:00-0400   \n",
       "3                   455233081    2015-08-04 17:55:00-0400   \n",
       "4                   490247226    2015-08-30 07:40:00-0400   \n",
       "\n",
       "  anes_procedure_dpe_2262 anes_procedure_epidural_needle_2263  \\\n",
       "0                     NaN                                 NaN   \n",
       "1                     NaN                               weiss   \n",
       "2                     NaN                                 NaN   \n",
       "3                     NaN                                 NaN   \n",
       "4                     NaN                               weiss   \n",
       "\n",
       "  anes_procedure_epidural_needle_gauge_2264 anes_procedure_lor_depth_2265  \\\n",
       "0                                       NaN                           NaN   \n",
       "1                                       NaN                           5.0   \n",
       "2                                       NaN                           NaN   \n",
       "3                                       NaN                           NaN   \n",
       "4                                       NaN                           4.0   \n",
       "\n",
       "  anes_procedure_catheter_depth_2266 anes_procedure_spinal_needle_type_2267  \\\n",
       "0                                NaN                                    NaN   \n",
       "1                               10.0                                    NaN   \n",
       "2                                NaN                                    NaN   \n",
       "3                                NaN                                    NaN   \n",
       "4                                9.0                                    NaN   \n",
       "\n",
       "  anes_procedure_spinal_needle_gauge_2268  \\\n",
       "0                                     NaN   \n",
       "1                                     NaN   \n",
       "2                                     NaN   \n",
       "3                                     NaN   \n",
       "4                                     NaN   \n",
       "\n",
       "  anes_procedure_spinal_needle_length_2269 anes_procedure_paresthesias_2270  \\\n",
       "0                                      NaN                              NaN   \n",
       "1                                      NaN                               no   \n",
       "2                                      NaN                        transient   \n",
       "3                                      NaN                               no   \n",
       "4                                      NaN                               no   \n",
       "\n",
       "                       anes_procedure_note_text_2271  \\\n",
       "0                                                NaN   \n",
       "1                                                NaN   \n",
       "2  Right sided paresthesia with the catheter thre...   \n",
       "3                                                NaN   \n",
       "4                                                NaN   \n",
       "\n",
       "  anes_procedure_encounter_id_2273 maternal_dob_2043 maternal_language_2113  \\\n",
       "0                              NaN        1984-06-25                english   \n",
       "1                       3180955539        1977-10-27                english   \n",
       "2                       3081234798        1981-01-31                english   \n",
       "3                       3081648579        1976-02-29                english   \n",
       "4                       3084361541        1995-05-14                english   \n",
       "\n",
       "  marital_status_2184 country_of_origin_2186 employment_status_2187  \n",
       "0             married          united states           not employed  \n",
       "1             married          united states              full time  \n",
       "2             married          united states              full time  \n",
       "3             married                    NaN              full time  \n",
       "4              single          united states           not employed  "
      ]
     },
     "execution_count": 57,
     "metadata": {},
     "output_type": "execute_result"
    }
   ],
   "source": [
    "# Data from October Merlin pull\n",
    "file_path = my_computer_fpath + \"e26f9ccc-68a4-42b4-9d0d-508a83026a1c.csv\"\n",
    "delivery_datetime_is_incorrect = True\n",
    "procedure_datetime_is_incorrect = True\n",
    "\n",
    "# # Data from January Merin pull\n",
    "# file_path = my_computer_fpath + \"befa2320-c0e0-476c-b66c-7fd2fb90179e.csv\"\n",
    "delivery_datetime_is_incorrect = False\n",
    "procedure_datetime_is_incorrect = True\n",
    "\n",
    "raw_df = pd.read_csv(file_path)\n",
    "df = raw_df.copy()\n",
    "pd.set_option(\"display.max_columns\", None)\n",
    "df.head()"
   ]
  },
  {
   "cell_type": "markdown",
   "metadata": {
    "id": "BLFyVswb3COk"
   },
   "source": [
    "# Initial Data Cleaning"
   ]
  },
  {
   "cell_type": "code",
   "execution_count": 58,
   "metadata": {},
   "outputs": [],
   "source": [
    "anes_procedure_cols: list = [\n",
    "    'anes_procedure_type_2253', \n",
    "    'anes_procedure_start_dts_2254', \n",
    "    'anes_procedure_anesthesiologist_2255', \n",
    "    'anes_procedure_resident_2256', \n",
    "    'anes_procedure_pt_position_2257', \n",
    "    'anes_procedure_approach_2258', \n",
    "    'anes_procedure_location_2259', \n",
    "    'anes_procedure_note_id_2260', \n",
    "    'anes_procedure_dos_dts_2261', \n",
    "    'anes_procedure_dpe_2262', \n",
    "    'anes_procedure_epidural_needle_2263', \n",
    "    'anes_procedure_epidural_needle_gauge_2264', \n",
    "    'anes_procedure_lor_depth_2265', \n",
    "    'anes_procedure_catheter_depth_2266', \n",
    "    'anes_procedure_spinal_needle_type_2267', \n",
    "    'anes_procedure_spinal_needle_gauge_2268', \n",
    "    'anes_procedure_spinal_needle_length_2269', \n",
    "    'anes_procedure_paresthesias_2270', \n",
    "    'anes_procedure_note_text_2271',\n",
    "    'anes_procedure_encounter_id_2273'\n",
    "]"
   ]
  },
  {
   "cell_type": "code",
   "execution_count": 59,
   "metadata": {},
   "outputs": [],
   "source": [
    "# Explode |-separated notes\n",
    "df = dcu.explode_separated_procedure_notes(df, anes_procedure_cols=anes_procedure_cols, delimiter=\"|\")"
   ]
  },
  {
   "cell_type": "code",
   "execution_count": 60,
   "metadata": {},
   "outputs": [
    {
     "data": {
      "text/plain": [
       "anes_procedure_type_2253\n",
       "epidural                84673\n",
       "spinal                  27207\n",
       "                        17924\n",
       "cse                     14219\n",
       "epidural/intrathecal    10786\n",
       "airway                   3419\n",
       "intrathecal               136\n",
       "Name: count, dtype: int64"
      ]
     },
     "execution_count": 60,
     "metadata": {},
     "output_type": "execute_result"
    }
   ],
   "source": [
    "# Count number of procedures by type\n",
    "# Note that other procedure types, including Blood Patch but also A-lines,\n",
    "# nerve blocks, and POCUS orders, are currently parsed by Merlin to NaN\n",
    "df['anes_procedure_type_2253'].value_counts(dropna=False)"
   ]
  },
  {
   "cell_type": "code",
   "execution_count": 74,
   "metadata": {},
   "outputs": [
    {
     "data": {
      "text/plain": [
       "<module 'modules.data_cleaning_utils' from 'c:\\\\Users\\\\User\\\\Documents\\\\GitHub\\\\Epidural-Analysis\\\\modules\\\\data_cleaning_utils.py'>"
      ]
     },
     "execution_count": 74,
     "metadata": {},
     "output_type": "execute_result"
    }
   ],
   "source": [
    "reload(dcu)"
   ]
  },
  {
   "cell_type": "code",
   "execution_count": 84,
   "metadata": {},
   "outputs": [],
   "source": [
    "# Bring in RAW info\n",
    "# This is needed at the moment to get the NotePurposeDSC (to help eliminate near-duplicate notes)\n",
    "# and also to RegEx the Number of Attempts\n",
    "\n",
    "raw_info_fpath = my_computer_fpath + \"Full Identified raw anesthesia_procedure_notes.csv\"\n",
    "df = dcu.add_raw_info(df, raw_info_fpath, processed_note_id_col = 'anes_procedure_note_id_2260', raw_info_cols = ['NotePurposeDSC','NoteTXT'])\n",
    "df = dcu.regex_note_text(df, desired_col = 'number_of_neuraxial_attempts')"
   ]
  },
  {
   "cell_type": "markdown",
   "metadata": {
    "id": "3ISNBfVtIQUV"
   },
   "source": [
    "## Handle datetime issues\n",
    "\n",
    "Bug: Merlin is bringing anes_procedure_dos_dts_2261 as Eastern times when in fact they are UTC. I resolve this by editing the raw strings before conversion to datetime objects.\n",
    "\n",
    "Bug: The same WAS true for delivery_time before it was corrected in Merlin in January. I resolve this by editing the raw strings before conversion to datetime objects.\n",
    "\n",
    "Bug: Because delivery_date is stored separately from delivery_time, if the UTC change causes the time to go to the next day, this is NOT reflected in the updated delivery_date.\n",
    "\n",
    "Bug: Merlin ignores AM/PM in anes_procedure_start_dts_2254 and assumes all entries are AM. I resolve this (for now) by ignoring these written start times and just using dos_dts"
   ]
  },
  {
   "cell_type": "markdown",
   "metadata": {},
   "source": [
    "Validated times:\n",
    "https://partnershealthcare-my.sharepoint.com/:x:/r/personal/dberenson_bwh_harvard_edu/_layouts/15/Doc.aspx?sourcedoc=%7BD674A3E1-815E-46B8-9AA4-16558C09411A%7D&file=Manually%20Verified%20Catheters.xlsx&action=default&mobileredirect=true&wdOrigin=OUTLOOK-METAOS.FILEBROWSER.FILES-FOLDER"
   ]
  },
  {
   "cell_type": "code",
   "execution_count": 62,
   "metadata": {},
   "outputs": [
    {
     "data": {
      "text/html": [
       "<div>\n",
       "<style scoped>\n",
       "    .dataframe tbody tr th:only-of-type {\n",
       "        vertical-align: middle;\n",
       "    }\n",
       "\n",
       "    .dataframe tbody tr th {\n",
       "        vertical-align: top;\n",
       "    }\n",
       "\n",
       "    .dataframe thead th {\n",
       "        text-align: right;\n",
       "    }\n",
       "</style>\n",
       "<table border=\"1\" class=\"dataframe\">\n",
       "  <thead>\n",
       "    <tr style=\"text-align: right;\">\n",
       "      <th></th>\n",
       "      <th>delivery_date</th>\n",
       "      <th>delivery_time</th>\n",
       "      <th>anes_procedure_start_dts_2254</th>\n",
       "      <th>anes_procedure_dos_dts_2261</th>\n",
       "    </tr>\n",
       "  </thead>\n",
       "  <tbody>\n",
       "    <tr>\n",
       "      <th>599</th>\n",
       "      <td>2019-11-24</td>\n",
       "      <td>07:49:00-04:00</td>\n",
       "      <td>2019-11-23 10:50:00-0500</td>\n",
       "      <td>2019-11-24 03:07:00-0500</td>\n",
       "    </tr>\n",
       "  </tbody>\n",
       "</table>\n",
       "</div>"
      ],
      "text/plain": [
       "    delivery_date   delivery_time anes_procedure_start_dts_2254  \\\n",
       "599    2019-11-24  07:49:00-04:00      2019-11-23 10:50:00-0500   \n",
       "\n",
       "    anes_procedure_dos_dts_2261  \n",
       "599    2019-11-24 03:07:00-0500  "
      ]
     },
     "execution_count": 62,
     "metadata": {},
     "output_type": "execute_result"
    }
   ],
   "source": [
    "df.loc[df['anes_procedure_note_id_2260'] == '2981389717',['delivery_date','delivery_time','anes_procedure_start_dts_2254','anes_procedure_dos_dts_2261']]"
   ]
  },
  {
   "cell_type": "code",
   "execution_count": 112,
   "metadata": {},
   "outputs": [
    {
     "ename": "NameError",
     "evalue": "name 'delivery_datetime_is_incorrect' is not defined",
     "output_type": "error",
     "traceback": [
      "\u001b[1;31m---------------------------------------------------------------------------\u001b[0m",
      "\u001b[1;31mNameError\u001b[0m                                 Traceback (most recent call last)",
      "Cell \u001b[1;32mIn[112], line 1\u001b[0m\n\u001b[1;32m----> 1\u001b[0m \u001b[38;5;28;01mif\u001b[39;00m \u001b[43mdelivery_datetime_is_incorrect\u001b[49m:\n\u001b[0;32m      2\u001b[0m     df \u001b[38;5;241m=\u001b[39m fix_delivery_datetime(df)\n",
      "\u001b[1;31mNameError\u001b[0m: name 'delivery_datetime_is_incorrect' is not defined"
     ]
    }
   ],
   "source": [
    "if delivery_datetime_is_incorrect:\n",
    "    df = dcu.fix_delivery_datetime(df)\n",
    "else:\n",
    "    df = dcu.add_delivery_datetime(df)"
   ]
  },
  {
   "cell_type": "code",
   "execution_count": 24,
   "metadata": {},
   "outputs": [],
   "source": [
    "df['maternal_dob'] = pd.to_datetime(df['maternal_dob_2043'],utc=True)"
   ]
  },
  {
   "cell_type": "code",
   "execution_count": null,
   "metadata": {},
   "outputs": [],
   "source": [
    "if procedure_datetime_is_incorrect:\n",
    "    df = dcu.fix_procedure_datetime(df)"
   ]
  },
  {
   "cell_type": "code",
   "execution_count": null,
   "metadata": {
    "colab": {
     "base_uri": "https://localhost:8080/",
     "height": 241
    },
    "executionInfo": {
     "elapsed": 8,
     "status": "ok",
     "timestamp": 1736530971128,
     "user": {
      "displayName": "Daniel Berenson",
      "userId": "01641759045451756668"
     },
     "user_tz": 300
    },
    "id": "wvOG3uHacl8a",
    "outputId": "8073b0ad-ce09-4bf8-b263-4e33328c614c"
   },
   "outputs": [],
   "source": [
    "df['anes_procedure_dos_dts_2261'].head()"
   ]
  },
  {
   "cell_type": "code",
   "execution_count": 26,
   "metadata": {
    "executionInfo": {
     "elapsed": 233,
     "status": "ok",
     "timestamp": 1736530971354,
     "user": {
      "displayName": "Daniel Berenson",
      "userId": "01641759045451756668"
     },
     "user_tz": 300
    },
    "id": "7wXrBA3dqi9-"
   },
   "outputs": [],
   "source": [
    "df['dos_dts_tz_stripped'] = df['anes_procedure_dos_dts_2261'].str.replace(r'[+-]\\d{2}:*\\d{2}$', '+0000', regex=True)"
   ]
  },
  {
   "cell_type": "code",
   "execution_count": null,
   "metadata": {
    "colab": {
     "base_uri": "https://localhost:8080/",
     "height": 241
    },
    "executionInfo": {
     "elapsed": 8,
     "status": "ok",
     "timestamp": 1736530971354,
     "user": {
      "displayName": "Daniel Berenson",
      "userId": "01641759045451756668"
     },
     "user_tz": 300
    },
    "id": "Xr3WN2fPqt0s",
    "outputId": "02555a21-792e-4eb9-f467-48cacf199f08"
   },
   "outputs": [],
   "source": [
    "df['dos_dts_tz_stripped'].head()"
   ]
  },
  {
   "cell_type": "code",
   "execution_count": 28,
   "metadata": {
    "executionInfo": {
     "elapsed": 192,
     "status": "ok",
     "timestamp": 1736530971541,
     "user": {
      "displayName": "Daniel Berenson",
      "userId": "01641759045451756668"
     },
     "user_tz": 300
    },
    "id": "DCHq2py6nN7m"
   },
   "outputs": [],
   "source": [
    "df['dos_dts'] = pd.to_datetime(df['dos_dts_tz_stripped'])"
   ]
  },
  {
   "cell_type": "code",
   "execution_count": null,
   "metadata": {
    "colab": {
     "base_uri": "https://localhost:8080/",
     "height": 261
    },
    "executionInfo": {
     "elapsed": 7,
     "status": "ok",
     "timestamp": 1736530971541,
     "user": {
      "displayName": "Daniel Berenson",
      "userId": "01641759045451756668"
     },
     "user_tz": 300
    },
    "id": "SmhS28lCbYIn",
    "outputId": "09720cfa-430c-4aa9-fdb8-9cfdee75f903"
   },
   "outputs": [],
   "source": [
    "df[['dos_dts','anes_procedure_dos_dts_2261']].head()"
   ]
  },
  {
   "cell_type": "code",
   "execution_count": 30,
   "metadata": {
    "executionInfo": {
     "elapsed": 312,
     "status": "ok",
     "timestamp": 1736530972209,
     "user": {
      "displayName": "Daniel Berenson",
      "userId": "01641759045451756668"
     },
     "user_tz": 300
    },
    "id": "59dC3WB-ZH8-"
   },
   "outputs": [],
   "source": [
    "df['start_dts'] = pd.to_datetime(df['anes_procedure_start_dts_2254'],format='mixed',utc=True)"
   ]
  },
  {
   "cell_type": "code",
   "execution_count": null,
   "metadata": {
    "colab": {
     "base_uri": "https://localhost:8080/",
     "height": 458
    },
    "executionInfo": {
     "elapsed": 185,
     "status": "ok",
     "timestamp": 1736530972393,
     "user": {
      "displayName": "Daniel Berenson",
      "userId": "01641759045451756668"
     },
     "user_tz": 300
    },
    "id": "giGm_VZXdG5i",
    "outputId": "eec08e3c-c2d3-494f-ccb7-301cd698e376"
   },
   "outputs": [],
   "source": [
    "# Extract the time part of the 'start_dts' column to check whether it covers all 24 h or only 12 h due to AM/PM bug\n",
    "df[df['start_dts'].notna()]['start_dts'].dt.time.sort_values()\n"
   ]
  },
  {
   "cell_type": "code",
   "execution_count": 32,
   "metadata": {
    "executionInfo": {
     "elapsed": 8,
     "status": "ok",
     "timestamp": 1736530972394,
     "user": {
      "displayName": "Daniel Berenson",
      "userId": "01641759045451756668"
     },
     "user_tz": 300
    },
    "id": "ohVRiD_RRohx"
   },
   "outputs": [],
   "source": [
    "# This code has been changed to avoid the AM/PM bug\n",
    "\n",
    "# df['best_timestamp'] = df['start_dts'].fillna(df['dos_dts'])\n",
    "df['best_timestamp'] = df['dos_dts']"
   ]
  },
  {
   "cell_type": "code",
   "execution_count": null,
   "metadata": {},
   "outputs": [],
   "source": [
    "df['best_timestamp'].head()"
   ]
  },
  {
   "cell_type": "markdown",
   "metadata": {
    "id": "8JPfIBsGQjpd"
   },
   "source": [
    "## Handle near-duplicate notes\n",
    "\n",
    "There is also a column \"NotePurposeDSC\" in the raw EDW data that can be \"ADDENDUM\" or \"NORMAL\" or blank. When there are duplicate notes, the first one will be blank and subsequent ones will be ADDENDUM. I use this fact upstream and delete all the ones that are blank.\n",
    "\n",
    "IMPORTANT: It turns out to be the case that there are sometimes, genuinely in Epic, two procedures done within only a few mins of each other - and these represent a repeat procedure, not a duplicate note. Therefore I now only call notes duplicates if their timestamps EXACTLY match (minute_offset == 0)"
   ]
  },
  {
   "cell_type": "code",
   "execution_count": null,
   "metadata": {},
   "outputs": [],
   "source": [
    "# Drop near-duplicate notes with blank NotePurposeDSC\n",
    "df = df.dropna(subset=['NotePurposeDSC'])"
   ]
  },
  {
   "cell_type": "code",
   "execution_count": null,
   "metadata": {
    "colab": {
     "base_uri": "https://localhost:8080/",
     "height": 167
    },
    "executionInfo": {
     "elapsed": 196,
     "status": "ok",
     "timestamp": 1736530972582,
     "user": {
      "displayName": "Daniel Berenson",
      "userId": "01641759045451756668"
     },
     "user_tz": 300
    },
    "id": "NWaRarfN02K-",
    "outputId": "ae5481b2-a589-4186-dbae-c795cb6b4fbc"
   },
   "outputs": [],
   "source": [
    "# test behavior on a known double-note\n",
    "df.loc[df['anes_procedure_note_id_2260'] == '1188076153']"
   ]
  },
  {
   "cell_type": "code",
   "execution_count": 35,
   "metadata": {
    "executionInfo": {
     "elapsed": 6,
     "status": "ok",
     "timestamp": 1736530972582,
     "user": {
      "displayName": "Daniel Berenson",
      "userId": "01641759045451756668"
     },
     "user_tz": 300
    },
    "id": "mnHDJKKiRXbP"
   },
   "outputs": [],
   "source": [
    "# test behavior on a known near-duplicate note\n",
    "df[df['anes_procedure_note_id_2260'] == '2250605132']\n",
    "known_near_duplicate_encounter_id = df[df['anes_procedure_note_id_2260'] == '2250605132']['anes_procedure_encounter_id_2273'].iloc[0]\n"
   ]
  },
  {
   "cell_type": "code",
   "execution_count": null,
   "metadata": {
    "colab": {
     "base_uri": "https://localhost:8080/",
     "height": 167
    },
    "executionInfo": {
     "elapsed": 647,
     "status": "ok",
     "timestamp": 1736530973222,
     "user": {
      "displayName": "Daniel Berenson",
      "userId": "01641759045451756668"
     },
     "user_tz": 300
    },
    "id": "TOPEviTcRkZh",
    "outputId": "aec51ac4-9ffc-4f1e-ba14-2d8e3f0c661f"
   },
   "outputs": [],
   "source": [
    "known_near_duplicate_group = df.groupby('anes_procedure_encounter_id_2273').get_group(known_near_duplicate_encounter_id)\n",
    "known_near_duplicate_group"
   ]
  },
  {
   "cell_type": "code",
   "execution_count": 37,
   "metadata": {
    "executionInfo": {
     "elapsed": 3,
     "status": "ok",
     "timestamp": 1736530973223,
     "user": {
      "displayName": "Daniel Berenson",
      "userId": "01641759045451756668"
     },
     "user_tz": 300
    },
    "id": "JSG6sdjYiQUt"
   },
   "outputs": [],
   "source": [
    "# prompt: add 'best_timestamp', 'dos_dts', and 'start_dts' to anes_procedure_cols\n",
    "\n",
    "anes_procedure_cols.extend(['best_timestamp', 'dos_dts', 'start_dts'])"
   ]
  },
  {
   "cell_type": "code",
   "execution_count": 38,
   "metadata": {
    "executionInfo": {
     "elapsed": 2,
     "status": "ok",
     "timestamp": 1736530973223,
     "user": {
      "displayName": "Daniel Berenson",
      "userId": "01641759045451756668"
     },
     "user_tz": 300
    },
    "id": "HYmiFDuGhkWU"
   },
   "outputs": [],
   "source": [
    "# need to narrow operations to a smaller group of columns for efficiency\n",
    "\n",
    "df_anes_procedure_cols = df[anes_procedure_cols]"
   ]
  },
  {
   "cell_type": "code",
   "execution_count": 39,
   "metadata": {
    "executionInfo": {
     "elapsed": 2,
     "status": "ok",
     "timestamp": 1736530973223,
     "user": {
      "displayName": "Daniel Berenson",
      "userId": "01641759045451756668"
     },
     "user_tz": 300
    },
    "id": "eu4qZbZoSOzk"
   },
   "outputs": [],
   "source": [
    "# Functions to label near_duplicate procedures\n",
    "\n",
    "# Compare two rows and return True if their timestamps are within minute_offset\n",
    "# and their compare_cols match\n",
    "def check_if_near_duplicate(row1, row2, compare_cols, minute_offset):\n",
    "  for col in compare_cols:\n",
    "    if not pd.isnull(row1[col]) and not pd.isnull(row2[col]):\n",
    "      if row1[col] != row2[col]:\n",
    "        return False\n",
    "  if abs(row1['best_timestamp'] - row2['best_timestamp']) > pd.Timedelta(minutes=minute_offset):\n",
    "    # if abs(row1['best_timestamp'] - row2['best_timestamp']) < pd.Timedelta(minutes=60):\n",
    "    #   print(row1['anes_procedure_note_id_2260'], row2['anes_procedure_note_id_2260'], row1['best_timestamp'], row2['best_timestamp'])\n",
    "    return False\n",
    "  return True\n",
    "\n",
    "\n",
    "# Label near_duplicate notes within an encounter using the check_if_near_duplicate function\n",
    "def label_near_duplicate_notes(encounter):\n",
    "\n",
    "  indices = encounter.index.tolist()\n",
    "\n",
    "  for i in range(len(indices)):\n",
    "    base_idx = indices[i]\n",
    "    base_row = encounter.loc[base_idx]\n",
    "    has_near_duplicate = 0\n",
    "    near_duplicates = [base_row['anes_procedure_note_id_2260']]\n",
    "\n",
    "    for j in range(len(indices)):\n",
    "      if i == j:\n",
    "        continue # don't identify self-duplicates\n",
    "      compare_idx = indices[j]\n",
    "      compare_row = encounter.loc[compare_idx]\n",
    "\n",
    "\n",
    "      if check_if_near_duplicate(base_row, compare_row, ['anes_procedure_type_2253'], minute_offset = 0):\n",
    "        has_near_duplicate = 1\n",
    "        near_duplicates.append(compare_row['anes_procedure_note_id_2260'])\n",
    "\n",
    "    encounter.at[base_idx, 'has_near_duplicate'] = has_near_duplicate\n",
    "    encounter.at[base_idx, 'near_duplicate_note_ids'] = str(sorted(near_duplicates))\n",
    "\n",
    "  return encounter\n"
   ]
  },
  {
   "cell_type": "code",
   "execution_count": null,
   "metadata": {
    "colab": {
     "base_uri": "https://localhost:8080/"
    },
    "executionInfo": {
     "elapsed": 101110,
     "status": "ok",
     "timestamp": 1736531074331,
     "user": {
      "displayName": "Daniel Berenson",
      "userId": "01641759045451756668"
     },
     "user_tz": 300
    },
    "id": "xEMrr-2XVCCh",
    "outputId": "483342da-f140-4e9a-8dc5-7f6732b07474"
   },
   "outputs": [],
   "source": [
    "# Label near_duplicate procedures\n",
    "# Takes ~2 mins\n",
    "\n",
    "df_anes_procedure_cols['has_near_duplicate'] = 0\n",
    "df_anes_procedure_cols['near_duplicate_note_ids'] = None\n",
    "df_anes_procedure_cols = df_anes_procedure_cols.groupby('anes_procedure_encounter_id_2273').apply(label_near_duplicate_notes, include_groups = False)\n",
    "df_anes_procedure_cols = df_anes_procedure_cols.reset_index('anes_procedure_encounter_id_2273')"
   ]
  },
  {
   "cell_type": "code",
   "execution_count": 41,
   "metadata": {
    "executionInfo": {
     "elapsed": 12,
     "status": "ok",
     "timestamp": 1736531074332,
     "user": {
      "displayName": "Daniel Berenson",
      "userId": "01641759045451756668"
     },
     "user_tz": 300
    },
    "id": "G85sWqU4lqPU"
   },
   "outputs": [],
   "source": [
    "# prompt: sort df_anes_procedure_cols by index\n",
    "\n",
    "df_anes_procedure_cols = df_anes_procedure_cols.sort_index()"
   ]
  },
  {
   "cell_type": "code",
   "execution_count": 42,
   "metadata": {
    "executionInfo": {
     "elapsed": 202,
     "status": "ok",
     "timestamp": 1736531074693,
     "user": {
      "displayName": "Daniel Berenson",
      "userId": "01641759045451756668"
     },
     "user_tz": 300
    },
    "id": "x2GqpOxYjtZX"
   },
   "outputs": [],
   "source": [
    "# Count blank columns\n",
    "df_anes_procedure_cols['blank_anes_procedure_element_col_counts'] = df_anes_procedure_cols[anes_procedure_cols].isnull().sum(axis=1)"
   ]
  },
  {
   "cell_type": "code",
   "execution_count": 43,
   "metadata": {
    "executionInfo": {
     "elapsed": 81883,
     "status": "ok",
     "timestamp": 1736531156575,
     "user": {
      "displayName": "Daniel Berenson",
      "userId": "01641759045451756668"
     },
     "user_tz": 300
    },
    "id": "hQS2Po3LY2ML"
   },
   "outputs": [],
   "source": [
    "# Within a group of duplicates, label the one with the fewest blank columns as NOT the worse duplicate (i.e., the best)\n",
    "# Takes ~2 mins\n",
    "def label_worse_near_duplicates(near_duplicate_set):\n",
    "  near_duplicate_set.at[near_duplicate_set['blank_anes_procedure_element_col_counts'].idxmin(), 'is_worse_near_duplicate'] = 0\n",
    "  return near_duplicate_set\n",
    "\n",
    "df_anes_procedure_cols['is_worse_near_duplicate'] = df_anes_procedure_cols['has_near_duplicate']\n",
    "df_anes_procedure_cols = df_anes_procedure_cols.groupby('near_duplicate_note_ids').apply(label_worse_near_duplicates, include_groups = False)\n",
    "df_anes_procedure_cols = df_anes_procedure_cols.reset_index('near_duplicate_note_ids')"
   ]
  },
  {
   "cell_type": "code",
   "execution_count": null,
   "metadata": {
    "colab": {
     "base_uri": "https://localhost:8080/",
     "height": 167
    },
    "executionInfo": {
     "elapsed": 511,
     "status": "ok",
     "timestamp": 1736531157076,
     "user": {
      "displayName": "Daniel Berenson",
      "userId": "01641759045451756668"
     },
     "user_tz": 300
    },
    "id": "RityoHtEpCUt",
    "outputId": "05a5e03d-0594-45d6-9308-7d4337556887"
   },
   "outputs": [],
   "source": [
    "known_near_duplicate_group = df_anes_procedure_cols.groupby('anes_procedure_encounter_id_2273').get_group(known_near_duplicate_encounter_id)\n",
    "known_near_duplicate_group"
   ]
  },
  {
   "cell_type": "code",
   "execution_count": null,
   "metadata": {
    "colab": {
     "base_uri": "https://localhost:8080/",
     "height": 167
    },
    "executionInfo": {
     "elapsed": 9,
     "status": "ok",
     "timestamp": 1736531157077,
     "user": {
      "displayName": "Daniel Berenson",
      "userId": "01641759045451756668"
     },
     "user_tz": 300
    },
    "id": "wsvcrtEC00aO",
    "outputId": "8400b1c1-79eb-4cc8-9326-15c541f04197"
   },
   "outputs": [],
   "source": [
    "# test behavior on a known double-note\n",
    "known_double_note = df_anes_procedure_cols.loc[df_anes_procedure_cols['anes_procedure_note_id_2260'] == '1188076153']\n",
    "known_double_note"
   ]
  },
  {
   "cell_type": "code",
   "execution_count": null,
   "metadata": {
    "colab": {
     "base_uri": "https://localhost:8080/",
     "height": 178
    },
    "executionInfo": {
     "elapsed": 8,
     "status": "ok",
     "timestamp": 1736531157077,
     "user": {
      "displayName": "Daniel Berenson",
      "userId": "01641759045451756668"
     },
     "user_tz": 300
    },
    "id": "bfpW-_GU1OMs",
    "outputId": "9accb36a-5455-4705-efe2-fecb239e3ab4"
   },
   "outputs": [],
   "source": [
    "df_anes_procedure_cols['is_worse_near_duplicate'].value_counts(dropna=False)"
   ]
  },
  {
   "cell_type": "code",
   "execution_count": null,
   "metadata": {},
   "outputs": [],
   "source": [
    "df_anes_procedure_cols.shape"
   ]
  },
  {
   "cell_type": "code",
   "execution_count": 48,
   "metadata": {
    "executionInfo": {
     "elapsed": 142,
     "status": "ok",
     "timestamp": 1736531157211,
     "user": {
      "displayName": "Daniel Berenson",
      "userId": "01641759045451756668"
     },
     "user_tz": 300
    },
    "id": "U3D_vdCFpPVn"
   },
   "outputs": [],
   "source": [
    "# Remove worse duplicates\n",
    "df_anes_procedure_cols = df_anes_procedure_cols[df_anes_procedure_cols['is_worse_near_duplicate']==0]"
   ]
  },
  {
   "cell_type": "code",
   "execution_count": null,
   "metadata": {},
   "outputs": [],
   "source": [
    "df_anes_procedure_cols.shape"
   ]
  },
  {
   "cell_type": "markdown",
   "metadata": {
    "id": "wtFesSAK1wsT"
   },
   "source": [
    "## Address cases where an epidural note followed by a spinal note is actually a planned CSE, not a failed catheter. Also address what 'epidural/intrathecal' really means.\n",
    "\n",
    "Secret CSEs are spinal and epidural within 5 mins\n",
    "\n",
    "Epidural/intrathecal notes are declared epidural unless ***"
   ]
  },
  {
   "cell_type": "code",
   "execution_count": 50,
   "metadata": {
    "executionInfo": {
     "elapsed": 2,
     "status": "ok",
     "timestamp": 1736531157211,
     "user": {
      "displayName": "Daniel Berenson",
      "userId": "01641759045451756668"
     },
     "user_tz": 300
    },
    "id": "oAlkUSFd15mb"
   },
   "outputs": [],
   "source": [
    "# Functions to label secret_CSE procedures\n",
    "\n",
    "# Compare two rows and return True if exactly one is an epidural, exactly one is a spinal,\n",
    "# and if their timestamps are within minute_offset\n",
    "def check_if_secret_CSE(row1, row2, minute_offset):\n",
    "  if abs(row1['best_timestamp'] - row2['best_timestamp']) < pd.Timedelta(minutes=minute_offset):\n",
    "    if row1['anes_procedure_type_2253'] == 'epidural/intrathecal' or row1['anes_procedure_type_2253'] == 'epidural':\n",
    "      if row2['anes_procedure_type_2253'] == 'spinal':\n",
    "        return True\n",
    "    if row2['anes_procedure_type_2253'] == 'epidural/intrathecal' or row2['anes_procedure_type_2253'] == 'epidural':\n",
    "      if row1['anes_procedure_type_2253'] == 'spinal':\n",
    "        return True\n",
    "  return False\n",
    "\n",
    "# Label secret_CSE notes within an encounter using the check_if_secret_CSE function\n",
    "def label_secret_CSE_notes(encounter):\n",
    "\n",
    "  indices = encounter.index.tolist()\n",
    "\n",
    "  for i in range(len(indices)):\n",
    "    base_idx = indices[i]\n",
    "    base_row = encounter.loc[base_idx]\n",
    "    is_secret_CSE = 0\n",
    "    secret_CSEs = [base_row['anes_procedure_note_id_2260']]\n",
    "\n",
    "    for j in range(len(indices)):\n",
    "      if i == j:\n",
    "        continue # don't identify self-duplicates\n",
    "      compare_idx = indices[j]\n",
    "      compare_row = encounter.loc[compare_idx]\n",
    "\n",
    "      if check_if_secret_CSE(base_row, compare_row, minute_offset = 5):\n",
    "        is_secret_CSE = 1\n",
    "        secret_CSEs.append(compare_row['anes_procedure_note_id_2260'])\n",
    "\n",
    "    encounter.at[base_idx, 'is_secret_CSE'] = is_secret_CSE\n",
    "    encounter.at[base_idx, 'secret_CSE_note_ids'] = str(sorted(secret_CSEs))\n",
    "\n",
    "  return encounter\n"
   ]
  },
  {
   "cell_type": "code",
   "execution_count": 51,
   "metadata": {
    "colab": {
     "base_uri": "https://localhost:8080/"
    },
    "executionInfo": {
     "elapsed": 105396,
     "status": "ok",
     "timestamp": 1736531262605,
     "user": {
      "displayName": "Daniel Berenson",
      "userId": "01641759045451756668"
     },
     "user_tz": 300
    },
    "id": "fUFcrD6XD55I",
    "outputId": "5ee4c703-2ed9-4c80-eeab-a4814c32ea2f"
   },
   "outputs": [],
   "source": [
    "# Label secret_CSE procedures\n",
    "# Takes ~2 mins\n",
    "\n",
    "df_anes_procedure_cols['is_secret_CSE'] = 0\n",
    "df_anes_procedure_cols['secret_CSE_note_ids'] = None\n",
    "df_anes_procedure_cols = df_anes_procedure_cols.groupby('anes_procedure_encounter_id_2273').apply(label_secret_CSE_notes, include_groups = False)\n",
    "df_anes_procedure_cols = df_anes_procedure_cols.reset_index('anes_procedure_encounter_id_2273')"
   ]
  },
  {
   "cell_type": "code",
   "execution_count": null,
   "metadata": {
    "colab": {
     "base_uri": "https://localhost:8080/",
     "height": 178
    },
    "executionInfo": {
     "elapsed": 27,
     "status": "ok",
     "timestamp": 1736531262606,
     "user": {
      "displayName": "Daniel Berenson",
      "userId": "01641759045451756668"
     },
     "user_tz": 300
    },
    "id": "ZuMTbsM8FEyp",
    "outputId": "5c5dce82-576e-4a0e-924a-708fa1f9426b"
   },
   "outputs": [],
   "source": [
    "df_anes_procedure_cols['is_secret_CSE'].value_counts()"
   ]
  },
  {
   "cell_type": "code",
   "execution_count": null,
   "metadata": {
    "colab": {
     "base_uri": "https://localhost:8080/",
     "height": 557
    },
    "executionInfo": {
     "elapsed": 25,
     "status": "ok",
     "timestamp": 1736531262606,
     "user": {
      "displayName": "Daniel Berenson",
      "userId": "01641759045451756668"
     },
     "user_tz": 300
    },
    "id": "eTslzEhqFQ0i",
    "outputId": "0fdc2f29-c26e-412e-cde0-1a23158a35ce"
   },
   "outputs": [],
   "source": [
    "df_anes_procedure_cols[df_anes_procedure_cols['is_secret_CSE'] == 1].head(10)"
   ]
  },
  {
   "cell_type": "code",
   "execution_count": 54,
   "metadata": {
    "executionInfo": {
     "elapsed": 24,
     "status": "ok",
     "timestamp": 1736531262606,
     "user": {
      "displayName": "Daniel Berenson",
      "userId": "01641759045451756668"
     },
     "user_tz": 300
    },
    "id": "cVHEDdpkITEk"
   },
   "outputs": [],
   "source": [
    "# Eliminate the separately-documented spinals that are really part of CSEs\n",
    "\n",
    "# Delete rows where procedure_type is spinal and is_secret_CSE is true\n",
    "df_anes_procedure_cols = df_anes_procedure_cols[~((df_anes_procedure_cols['anes_procedure_type_2253'] == 'spinal') & (df_anes_procedure_cols['is_secret_CSE'] == 1))]"
   ]
  },
  {
   "cell_type": "code",
   "execution_count": 55,
   "metadata": {
    "colab": {
     "base_uri": "https://localhost:8080/"
    },
    "executionInfo": {
     "elapsed": 24,
     "status": "ok",
     "timestamp": 1736531262606,
     "user": {
      "displayName": "Daniel Berenson",
      "userId": "01641759045451756668"
     },
     "user_tz": 300
    },
    "id": "1APs69qNJtY2",
    "outputId": "0e5eb7f6-c9ed-479a-99c5-414e37d3098c"
   },
   "outputs": [],
   "source": [
    "# Label true intrathecal catheters\n",
    "# NOTE: DOES NOT YET RECLASSIFY EPIDURAL/INTRATHECALS BY CSF ASPIRATION OR ANY OTHER METHOD\n",
    "\n",
    "df_anes_procedure_cols['is_intrathecal_catheter'] = (df_anes_procedure_cols['anes_procedure_type_2253'] == 'intrathecal').astype(int)"
   ]
  },
  {
   "cell_type": "code",
   "execution_count": 56,
   "metadata": {
    "colab": {
     "base_uri": "https://localhost:8080/"
    },
    "executionInfo": {
     "elapsed": 236,
     "status": "ok",
     "timestamp": 1736531262822,
     "user": {
      "displayName": "Daniel Berenson",
      "userId": "01641759045451756668"
     },
     "user_tz": 300
    },
    "id": "_3REoY6SKHwu",
    "outputId": "3f78d9e6-2e30-4187-b04b-5437fc7a5dd4"
   },
   "outputs": [],
   "source": [
    "# prompt: label true_procedure_type by reclassifying based on is_secret_CSE and is_intrathecal_catheter\n",
    "\n",
    "# Create the 'true_procedure_type' column based on the conditions\n",
    "df_anes_procedure_cols['true_procedure_type'] = np.where(\n",
    "    df_anes_procedure_cols['is_secret_CSE'] == True,'cse',\n",
    "    df_anes_procedure_cols['anes_procedure_type_2253'])\n",
    "\n",
    "# Update 'true_procedure_type' based on 'is_intrathecal_catheter'\n",
    "df_anes_procedure_cols.loc[\n",
    "    (df_anes_procedure_cols['true_procedure_type'].isin(['epidural/intrathecal', 'intrathecal'])) &\n",
    "    (df_anes_procedure_cols['is_intrathecal_catheter'] == True),\n",
    "    'true_procedure_type'] = 'intrathecal'\n",
    "\n",
    "df_anes_procedure_cols.loc[\n",
    "    (df_anes_procedure_cols['true_procedure_type'] == 'epidural/intrathecal') &\n",
    "    (df_anes_procedure_cols['is_intrathecal_catheter'] == False),\n",
    "    'true_procedure_type'] = 'epidural'"
   ]
  },
  {
   "cell_type": "code",
   "execution_count": null,
   "metadata": {},
   "outputs": [],
   "source": [
    "df['anes_procedure_type_2253'].value_counts()"
   ]
  },
  {
   "cell_type": "code",
   "execution_count": null,
   "metadata": {},
   "outputs": [],
   "source": [
    "df_anes_procedure_cols['true_procedure_type'].value_counts()"
   ]
  },
  {
   "cell_type": "code",
   "execution_count": null,
   "metadata": {
    "colab": {
     "base_uri": "https://localhost:8080/",
     "height": 0
    },
    "executionInfo": {
     "elapsed": 25,
     "status": "ok",
     "timestamp": 1736531262822,
     "user": {
      "displayName": "Daniel Berenson",
      "userId": "01641759045451756668"
     },
     "user_tz": 300
    },
    "id": "xMX_LrGBJUg9",
    "outputId": "448f07ea-ef57-4287-8afb-f2cc33f9a2dc"
   },
   "outputs": [],
   "source": [
    "df_anes_procedure_cols.head()"
   ]
  },
  {
   "cell_type": "markdown",
   "metadata": {
    "id": "Nlc5uOLquoP_"
   },
   "source": [
    "# Classify failures"
   ]
  },
  {
   "cell_type": "code",
   "execution_count": 60,
   "metadata": {
    "executionInfo": {
     "elapsed": 23,
     "status": "ok",
     "timestamp": 1736531262823,
     "user": {
      "displayName": "Daniel Berenson",
      "userId": "01641759045451756668"
     },
     "user_tz": 300
    },
    "id": "VglLLyHlvMy0"
   },
   "outputs": [],
   "source": [
    "df_anes_procedure_cols['is_neuraxial_catheter'] = (df_anes_procedure_cols['true_procedure_type'].isin(['cse', 'epidural', 'intrathecal'])).astype(int)\n",
    "df_anes_procedure_cols['is_spinal'] = (df_anes_procedure_cols['true_procedure_type'] == 'spinal').astype(int)\n",
    "df_anes_procedure_cols['is_airway'] = (df_anes_procedure_cols['true_procedure_type'] == 'airway').astype(int)"
   ]
  },
  {
   "cell_type": "code",
   "execution_count": 61,
   "metadata": {
    "id": "DmRHrn9durRv"
   },
   "outputs": [],
   "source": [
    "# Vectorized method to classify as successes or failures\n",
    "# takes ~10 mins\n",
    "\n",
    "def classify_encounter_failures(encounter):\n",
    "\n",
    "    # Identify rows where 'is_neuraxial_catheter' == 1\n",
    "    neuraxial_rows = encounter[encounter['is_neuraxial_catheter'] == 1]\n",
    "\n",
    "    # If no neuraxial catheter procedures, return encounter as is\n",
    "    if neuraxial_rows.empty:\n",
    "        return encounter\n",
    "\n",
    "    # Create a mask for failure-defining events within the encounter\n",
    "    # Failure-defining events are neuraxial catheters, spinals, and airways\n",
    "    failure_defining_event_mask = encounter[['is_neuraxial_catheter','is_spinal','is_airway']].any(axis=1)\n",
    "\n",
    "    # Get the indices of events\n",
    "    failure_defining_event_indices = encounter.index[failure_defining_event_mask]\n",
    "\n",
    "    # Iterate over neuraxial catheter rows\n",
    "    for idx in neuraxial_rows.index:\n",
    "        current_time = encounter.at[idx, 'best_timestamp']\n",
    "\n",
    "        # Find subsequent events\n",
    "        # This relies on correct ordering by best_timestamp\n",
    "        subsequent_failure_defining_events = encounter.loc[failure_defining_event_indices]\n",
    "        subsequent_failure_defining_events = subsequent_failure_defining_events[subsequent_failure_defining_events['best_timestamp'] > current_time]\n",
    "\n",
    "        # Initialize flags\n",
    "        has_subsequent_neuraxial_catheter = 0\n",
    "        has_subsequent_spinal = 0\n",
    "        has_subsequent_airway = 0\n",
    "        failed_catheter = 0\n",
    "        subsequent_proof_of_failure_note_id = None\n",
    "\n",
    "        # Check for subsequent procedures\n",
    "        if not subsequent_failure_defining_events.empty:\n",
    "            # Update flags based on any occurrence in subsequent events\n",
    "            has_subsequent_neuraxial_catheter = int((subsequent_failure_defining_events['is_neuraxial_catheter'] == 1).any())\n",
    "            has_subsequent_spinal = int((subsequent_failure_defining_events['is_spinal'] == 1).any())\n",
    "            has_subsequent_airway = int((subsequent_failure_defining_events['is_airway'] == 1).any())\n",
    "            failed_catheter = int(has_subsequent_neuraxial_catheter or has_subsequent_spinal or has_subsequent_airway)\n",
    "            subsequent_proof_of_failure_note_id = subsequent_failure_defining_events['anes_procedure_note_id_2260'].tolist()\n",
    "\n",
    "            encounter.at[idx, 'has_subsequent_neuraxial_catheter'] = has_subsequent_neuraxial_catheter\n",
    "            encounter.at[idx, 'has_subsequent_spinal'] = has_subsequent_spinal\n",
    "            encounter.at[idx, 'has_subsequent_airway'] = has_subsequent_airway\n",
    "            encounter.at[idx, 'failed_catheter'] = failed_catheter\n",
    "            encounter.at[idx, 'subsequent_proof_of_failure_note_id'] = str(subsequent_proof_of_failure_note_id)\n",
    "\n",
    "    return encounter\n",
    "\n",
    "df_anes_procedure_cols['has_subsequent_neuraxial_catheter'] = 0\n",
    "df_anes_procedure_cols['has_subsequent_spinal'] = 0\n",
    "df_anes_procedure_cols['has_subsequent_airway'] = 0\n",
    "df_anes_procedure_cols['failed_catheter'] = 0\n",
    "df_anes_procedure_cols['subsequent_proof_of_failure_note_id'] = None\n",
    "\n",
    "df_anes_procedure_cols = df_anes_procedure_cols.groupby('anes_procedure_encounter_id_2273').apply(classify_encounter_failures, include_groups = False)\n",
    "df_anes_procedure_cols = df_anes_procedure_cols.reset_index('anes_procedure_encounter_id_2273')"
   ]
  },
  {
   "cell_type": "code",
   "execution_count": null,
   "metadata": {
    "id": "XY63Lf9aV-cZ"
   },
   "outputs": [],
   "source": [
    "df_anes_procedure_cols.head(10)"
   ]
  },
  {
   "cell_type": "markdown",
   "metadata": {},
   "source": [
    "# Rebuild df by merging with df_anes_procedure_cols\n",
    "\n",
    "Note that rows have been eliminated from df_anes_procedure_cols in two steps: as is_worse_near_duplicate, and as is_secret_cse (note that only the spinal half of the is_secret_cse cases are removed since the epidural half become the CSEs)"
   ]
  },
  {
   "cell_type": "code",
   "execution_count": null,
   "metadata": {},
   "outputs": [],
   "source": [
    "df.shape"
   ]
  },
  {
   "cell_type": "code",
   "execution_count": null,
   "metadata": {},
   "outputs": [],
   "source": [
    "df_anes_procedure_cols.shape"
   ]
  },
  {
   "cell_type": "code",
   "execution_count": 65,
   "metadata": {
    "id": "gzPV1CsfnsJD"
   },
   "outputs": [],
   "source": [
    "# prompt: concatenate new columns from df_anes_procedure_cols into df. only bring the new columns, leave behind the matching ones. Select the new columns via code.\n",
    "\n",
    "# Identify new columns in df_anes_procedure_cols that are not in df\n",
    "new_cols = [col for col in df_anes_procedure_cols.columns if col not in df.columns]\n",
    "\n",
    "# Merge df with df_anes_procedure_cols on the index, only keeping rows that exist in both\n",
    "df = pd.merge(df, df_anes_procedure_cols[new_cols], left_index=True, right_index=True, how='inner')"
   ]
  },
  {
   "cell_type": "code",
   "execution_count": null,
   "metadata": {},
   "outputs": [],
   "source": [
    "df.shape"
   ]
  },
  {
   "cell_type": "code",
   "execution_count": 67,
   "metadata": {
    "id": "WqfMMOV8Do1r"
   },
   "outputs": [],
   "source": [
    "df['is_neuraxial_catheter'] = df['is_neuraxial_catheter'] == 1\n",
    "df['failed_catheter'] = df['failed_catheter'] == 1"
   ]
  },
  {
   "cell_type": "code",
   "execution_count": 68,
   "metadata": {},
   "outputs": [],
   "source": [
    "# Reorder columns to move 'is_neuraxial_catheter' and 'failed_catheter' to the front\n",
    "cols = ['is_neuraxial_catheter', 'failed_catheter'] + [col for col in df.columns if col not in ['is_neuraxial_catheter', 'failed_catheter']]\n",
    "df = df[cols]"
   ]
  },
  {
   "cell_type": "code",
   "execution_count": null,
   "metadata": {
    "id": "likLZC_lwNhJ"
   },
   "outputs": [],
   "source": [
    "df.head()"
   ]
  },
  {
   "cell_type": "code",
   "execution_count": null,
   "metadata": {
    "id": "vCec8U6S0QeF"
   },
   "outputs": [],
   "source": [
    "# test behavior on a known double-note\n",
    "known_double_note = df.loc[df['anes_procedure_note_id_2260'] == '1188076153']\n",
    "known_double_note"
   ]
  },
  {
   "cell_type": "code",
   "execution_count": null,
   "metadata": {
    "id": "PP0RDHaa0rmz"
   },
   "outputs": [],
   "source": [
    "df[df['failed_catheter'] == 1].head(10)"
   ]
  },
  {
   "cell_type": "code",
   "execution_count": 72,
   "metadata": {
    "id": "In0JgcPXBgtB"
   },
   "outputs": [],
   "source": [
    "known_failed_catheter_encounter_ids = ['3259099621','3081317750', '3081399139', '3081675427', '3081686082', '3081711691', '3081729928', '3081884584', '3081893356', '3082275619', '3082349091']"
   ]
  },
  {
   "cell_type": "code",
   "execution_count": null,
   "metadata": {
    "id": "3Xawf8qwCPXj"
   },
   "outputs": [],
   "source": [
    "df[df['anes_procedure_encounter_id_2273'].isin(known_failed_catheter_encounter_ids)]"
   ]
  },
  {
   "cell_type": "markdown",
   "metadata": {
    "id": "zPBvuAV6NRli"
   },
   "source": [
    "# Additional Data Cleaning and Feature Engineering"
   ]
  },
  {
   "cell_type": "markdown",
   "metadata": {},
   "source": [
    "## Count prior failed neuraxials in this encounter and failed and total across all encounters\n",
    "\n",
    "Takes ~4 mins for each"
   ]
  },
  {
   "cell_type": "code",
   "execution_count": 74,
   "metadata": {},
   "outputs": [],
   "source": [
    "df = df.sort_values(by='best_timestamp', ascending=True)"
   ]
  },
  {
   "cell_type": "code",
   "execution_count": 75,
   "metadata": {},
   "outputs": [],
   "source": [
    "# These are separate functions so that they can be applied to the DataFrame in a vectorized manner without needing to take the new_column_name as an argument,\n",
    "# which doesn't work well with the .apply() method\n",
    "\n",
    "def count_prior_failed_catheters_this_enc(group):\n",
    "    group['prior_failed_catheters_this_enc'] = (group['failed_catheter'].cumsum() - group['failed_catheter']).astype(float)\n",
    "    return group\n",
    "\n",
    "def count_prior_failed_catheters_all_enc(group):\n",
    "    group['prior_failed_catheters_all_enc'] = (group['failed_catheter'].cumsum() - group['failed_catheter']).astype(float)\n",
    "    return group\n",
    "\n",
    "def count_prior_all_catheters_all_enc(group):\n",
    "    group['prior_all_catheters_all_enc'] = (group['is_neuraxial_catheter'].cumsum() - group['is_neuraxial_catheter']).astype(float)\n",
    "    return group"
   ]
  },
  {
   "cell_type": "code",
   "execution_count": 76,
   "metadata": {},
   "outputs": [],
   "source": [
    "df = df.groupby('anes_procedure_encounter_id_2273').apply(count_prior_failed_catheters_this_enc, include_groups = False)\n",
    "df = df.reset_index('anes_procedure_encounter_id_2273')"
   ]
  },
  {
   "cell_type": "code",
   "execution_count": 77,
   "metadata": {},
   "outputs": [],
   "source": [
    "df = df.groupby('epic_pmrn').apply(count_prior_failed_catheters_all_enc, include_groups = False)\n",
    "df = df.reset_index('epic_pmrn')"
   ]
  },
  {
   "cell_type": "code",
   "execution_count": 78,
   "metadata": {},
   "outputs": [],
   "source": [
    "df = df.groupby('epic_pmrn').apply(count_prior_all_catheters_all_enc, include_groups = False)\n",
    "df = df.reset_index('epic_pmrn')"
   ]
  },
  {
   "cell_type": "code",
   "execution_count": 79,
   "metadata": {},
   "outputs": [],
   "source": [
    "df['prior_failed_catheters_prev_enc'] = df['prior_failed_catheters_all_enc'] - df['prior_failed_catheters_this_enc']"
   ]
  },
  {
   "cell_type": "code",
   "execution_count": null,
   "metadata": {},
   "outputs": [],
   "source": [
    "df[df['anes_procedure_encounter_id_2273'] == '3258959083']"
   ]
  },
  {
   "cell_type": "code",
   "execution_count": null,
   "metadata": {},
   "outputs": [],
   "source": [
    "df[df['anes_procedure_encounter_id_2273'] == '3147096491']"
   ]
  },
  {
   "cell_type": "code",
   "execution_count": null,
   "metadata": {},
   "outputs": [],
   "source": [
    "df[df['anes_procedure_encounter_id_2273'] == '3227352323']\n"
   ]
  },
  {
   "cell_type": "markdown",
   "metadata": {
    "id": "757vQkZucKbN"
   },
   "source": [
    "## Handle timeseries data (e.g., pain scores)"
   ]
  },
  {
   "cell_type": "code",
   "execution_count": null,
   "metadata": {
    "colab": {
     "background_save": true
    },
    "id": "VUtFAxcFdliC"
   },
   "outputs": [],
   "source": [
    "# Extracts the pain scores prior to the timestamp\n",
    "# Takes ~ 1 minute\n",
    "def get_pain_scores_prior_to_timestamp(row, best_timestamp_col=\"best_timestamp\"):\n",
    "    \"\"\"\n",
    "    Extract all pain scores that have timestamp < row[best_timestamp_col].\n",
    "\n",
    "    row: a single row of your DataFrame (a pd.Series)\n",
    "    best_timestamp_col: name of the column in your DataFrame that contains\n",
    "                       the 'best_timestamp' to compare against\n",
    "\n",
    "    Returns a list of 'prior' scores or NaN if none exist.\n",
    "    \"\"\"\n",
    "    # Extract the raw strings\n",
    "    times_str = row[\"timeseries_intrapartum_pain_score_datetime_2242\"]\n",
    "    scores_str = row[\"timeseries_intrapartum_pain_score_2242\"]\n",
    "\n",
    "    # If either is missing, return NaN\n",
    "    if pd.isna(times_str) or pd.isna(scores_str):\n",
    "        return np.nan\n",
    "\n",
    "    # Convert to lists\n",
    "    times_list = times_str.split(\"|\")\n",
    "    scores_list = scores_str.split(\"|\")\n",
    "\n",
    "    # Safely convert both times and best_timestamp to datetime\n",
    "    try:\n",
    "        times_dt = pd.to_datetime(times_list)\n",
    "        # This assumes your row also has a column called best_timestamp_col\n",
    "        best_dt = pd.to_datetime(row[best_timestamp_col])\n",
    "    except:\n",
    "        # If conversion fails, return NaN\n",
    "        return np.nan\n",
    "\n",
    "    # Filter out all scores whose timestamp is strictly less than best_timestamp\n",
    "    prior_scores = []\n",
    "    for t, s in zip(times_dt, scores_list):\n",
    "        if t < best_dt:\n",
    "            prior_scores.append(float(s))\n",
    "\n",
    "    # If no scores remain, return NaN, else return them joined or as list\n",
    "    return prior_scores if prior_scores else np.nan\n",
    "\n",
    "df['prior_pain_scores'] = df.apply(get_pain_scores_prior_to_timestamp, axis=1)"
   ]
  },
  {
   "cell_type": "code",
   "execution_count": 84,
   "metadata": {
    "colab": {
     "background_save": true
    },
    "id": "Dto2g0HfeCuC"
   },
   "outputs": [],
   "source": [
    "df[\"prior_pain_scores_max\"] = df[\"prior_pain_scores\"].apply(\n",
    "    lambda scores: max(map(float, scores)) if isinstance(scores, list) and scores else np.nan) / 10"
   ]
  },
  {
   "cell_type": "code",
   "execution_count": null,
   "metadata": {
    "colab": {
     "background_save": true
    },
    "id": "x6LMgIHofOYD"
   },
   "outputs": [],
   "source": [
    "df['prior_pain_scores_max'].head(50)"
   ]
  },
  {
   "cell_type": "markdown",
   "metadata": {
    "id": "W3n9mBjG2mKn"
   },
   "source": [
    "## Clean DPE and LOR_Depth"
   ]
  },
  {
   "cell_type": "code",
   "execution_count": 86,
   "metadata": {
    "id": "18FwO5sbNj3r"
   },
   "outputs": [],
   "source": [
    "# make 'dpe' True/False\n",
    "df['dpe'] = df['anes_procedure_dpe_2262'] == 'yes'"
   ]
  },
  {
   "cell_type": "code",
   "execution_count": 87,
   "metadata": {},
   "outputs": [],
   "source": [
    "df['true_procedure_type_incl_dpe'] = df['true_procedure_type']\n",
    "df.loc[df['dpe'] == True, 'true_procedure_type_incl_dpe'] = 'dpe'"
   ]
  },
  {
   "cell_type": "code",
   "execution_count": 88,
   "metadata": {
    "colab": {
     "background_save": true
    },
    "id": "7ldb0bDxNTGo"
   },
   "outputs": [],
   "source": [
    "# make 'lor_depth' numeric\n",
    "df['lor_depth'] = df['anes_procedure_lor_depth_2265'].replace('', np.nan).astype(float)"
   ]
  },
  {
   "cell_type": "code",
   "execution_count": null,
   "metadata": {
    "colab": {
     "background_save": true
    },
    "id": "ZuSyUaAeN4r1"
   },
   "outputs": [],
   "source": [
    "# Code to evaluate suspiciously high LORs\n",
    "# For these, if we divide LOR by 10, the the catheter is taped around 4-5 cm deeper\n",
    "# So most likely these suspiciously high LORs are missing decimal points\n",
    "high_LORs = df.sort_values(by='lor_depth',ascending=False).head(100)['lor_depth']\n",
    "print(high_LORs.to_list())\n",
    "plt.hist(high_LORs)\n",
    "\n",
    "print(df.sort_values(by='lor_depth',ascending=False).head(100)['anes_procedure_catheter_depth_2266'].to_list())"
   ]
  },
  {
   "cell_type": "code",
   "execution_count": 90,
   "metadata": {
    "colab": {
     "background_save": true
    },
    "id": "7YS3I4MEN8OG"
   },
   "outputs": [],
   "source": [
    "# prompt: lor_depth = lor_depth / 10 if lor_depth > 20\n",
    "\n",
    "df['lor_depth'] = np.where(df['lor_depth'] > 20, df['lor_depth'] / 10, df['lor_depth'])"
   ]
  },
  {
   "cell_type": "code",
   "execution_count": null,
   "metadata": {
    "colab": {
     "background_save": true
    },
    "id": "EALlbR6-OUaQ"
   },
   "outputs": [],
   "source": [
    "# Code to evaluate suspiciously high LORs\n",
    "high_LORs = df.sort_values(by='lor_depth',ascending=False).head(100)['lor_depth']\n",
    "print(high_LORs.to_list())\n",
    "plt.hist(high_LORs)"
   ]
  },
  {
   "cell_type": "markdown",
   "metadata": {
    "id": "mjq02Q_U2ucI"
   },
   "source": [
    "## Make numerical columns numerical"
   ]
  },
  {
   "cell_type": "code",
   "execution_count": 92,
   "metadata": {
    "id": "RH4BDg1__d1h"
   },
   "outputs": [],
   "source": [
    "# prompt: set these columns to dtype float: bmi_end_pregnancy_2044, maternal_weight_end_pregnancy_2045, maternal_height_2046,gravidity_2047,parity_2048\n",
    "\n",
    "# Convert specified columns to float dtype\n",
    "columns_to_convert = ['gestational_age_2052','bmi_end_pregnancy_2044', 'maternal_weight_end_pregnancy_2045', 'maternal_height_2046', 'gravidity_2047', 'parity_2048','baby_weight_2196','bmi_before_pregnancy_2161','secs_rom_thru_delivery_2197']\n",
    "\n",
    "for col in columns_to_convert:\n",
    "    if col in df.columns:\n",
    "        try:\n",
    "            df[col] = pd.to_numeric(df[col], errors='coerce').astype(float)\n",
    "        except KeyError:\n",
    "            print(f\"Column '{col}' not found in the DataFrame.\")\n",
    "    else:\n",
    "        print(f\"Column '{col}' not found in the DataFrame.\")"
   ]
  },
  {
   "cell_type": "markdown",
   "metadata": {},
   "source": [
    "## Calculate and plausibilify elapsed times"
   ]
  },
  {
   "cell_type": "code",
   "execution_count": null,
   "metadata": {},
   "outputs": [],
   "source": [
    "df['rom_thru_delivery_hours'] = df['secs_rom_thru_delivery_2197'] / 3600\n",
    "df['rom_thru_delivery_hours'].describe(percentiles=[0.01,0.05,0.25,0.5,0.75,0.95,0.98,0.99])"
   ]
  },
  {
   "cell_type": "code",
   "execution_count": 94,
   "metadata": {
    "id": "gkTCwVcyOtX3"
   },
   "outputs": [],
   "source": [
    "# If ROM through Delivery is more than 30 days, assume erroneous and make it NaN\n",
    "df['rom_thru_delivery_hours'] = np.where(df['rom_thru_delivery_hours'] <= 30*24, df['rom_thru_delivery_hours'],np.nan)"
   ]
  },
  {
   "cell_type": "code",
   "execution_count": null,
   "metadata": {},
   "outputs": [],
   "source": [
    "df['maternal_age_years'] = (df['delivery_datetime'] - df['maternal_dob']).dt.days / 365.25\n",
    "df['maternal_age_years'].describe()"
   ]
  },
  {
   "cell_type": "code",
   "execution_count": 96,
   "metadata": {},
   "outputs": [],
   "source": [
    "df['gestational_age_weeks'] = df['gestational_age_2052'] / 7"
   ]
  },
  {
   "cell_type": "code",
   "execution_count": 97,
   "metadata": {},
   "outputs": [],
   "source": [
    "df['placement_to_delivery_hours'] = (df['delivery_datetime'] - df['best_timestamp']).dt.total_seconds() / 3600"
   ]
  },
  {
   "cell_type": "code",
   "execution_count": null,
   "metadata": {},
   "outputs": [],
   "source": [
    "df[df['true_procedure_type'] == 'epidural']['placement_to_delivery_hours'].describe(percentiles=[0.01,0.02,0.05,0.10,0.15,0.25,0.2,0.5,0.75,0.95,0.98,0.99])"
   ]
  },
  {
   "cell_type": "code",
   "execution_count": 99,
   "metadata": {},
   "outputs": [],
   "source": [
    "df['placement_to_delivery_hours'] = np.where((df['placement_to_delivery_hours'] > -1) & (df['placement_to_delivery_hours'] <= 7*24),\n",
    "                                             df['placement_to_delivery_hours'], np.nan)"
   ]
  },
  {
   "cell_type": "code",
   "execution_count": null,
   "metadata": {},
   "outputs": [],
   "source": [
    "df[df['true_procedure_type'] == 'epidural']['placement_to_delivery_hours'].describe(percentiles=[0.01,0.02,0.05,0.10,0.15,0.25,0.2,0.5,0.75,0.95,0.98,0.99])"
   ]
  },
  {
   "cell_type": "code",
   "execution_count": null,
   "metadata": {},
   "outputs": [],
   "source": [
    "df.loc[df['placement_to_delivery_hours'].sort_values(ascending=True).head().index,:][['anes_procedure_note_id_2260','anes_procedure_type_2253','placement_to_delivery_hours','delivery_datetime','best_timestamp']]"
   ]
  },
  {
   "cell_type": "code",
   "execution_count": null,
   "metadata": {},
   "outputs": [],
   "source": [
    "df.loc[df['placement_to_delivery_hours'].sort_values(ascending=False).head().index,:]"
   ]
  },
  {
   "cell_type": "markdown",
   "metadata": {},
   "source": [
    "From the above analyses, procedures where many days elapse between placement and delivery are NOT labor analgesia procedures. They can be totally unrelated procedures like knee surgery, or obstetrical procedures like ECVs, or (rarely) analgesia for false labor. In the latter case, if labor does not progress and the patient returns to antepartum, the anesthesia encounter will termiante and a new encounter will be used for subsequent labor. In that case, an epidural placed in the second encounter will NOT prove failure of the first since it will have a different encounter_id.\n",
    "\n",
    "For these reasons, I eliminate rows where there is more than 7 days between placement and delivery.\n",
    "\n",
    "Due to the UTC bug discussed above, a true 1859 EPL followed by 1900 delivery would be translated to 2359 EPL AFTER 0000 delivery (without the delivery_date incrementing appropriately)\n",
    "\n",
    "A more thorough algorithm could look at the timing of Anesthesia Stop compared to delivery, and/or confirm that the title of the anesthesia encounter is Labor Epidural or Cesarean Section."
   ]
  },
  {
   "cell_type": "code",
   "execution_count": null,
   "metadata": {},
   "outputs": [],
   "source": [
    "df.shape"
   ]
  },
  {
   "cell_type": "code",
   "execution_count": null,
   "metadata": {},
   "outputs": [],
   "source": [
    "df.dropna(subset=['placement_to_delivery_hours']).shape"
   ]
  },
  {
   "cell_type": "markdown",
   "metadata": {},
   "source": [
    "Include other limits on plausible data for each feature"
   ]
  },
  {
   "cell_type": "markdown",
   "metadata": {
    "id": "-rdMZOcI2xZH"
   },
   "source": [
    "## Handle proceduralist names"
   ]
  },
  {
   "cell_type": "code",
   "execution_count": 105,
   "metadata": {
    "colab": {
     "background_save": true
    },
    "id": "K44x6YG-9GCD"
   },
   "outputs": [],
   "source": [
    "# Function to regulate names\n",
    "def regulate_name(name):\n",
    "\n",
    "    # Remove degrees and titles\n",
    "    name = re.sub(r',?\\s*(md|do|mbbs|phd|ms|mba|mph|msc|crna)\\b', '', name, flags=re.IGNORECASE)\n",
    "\n",
    "    # Split last name and first name if comma exists\n",
    "    if ',' in name:\n",
    "        last, first = name.split(',', 1)\n",
    "        name = f\"{first.strip()} {last.strip()}\"\n",
    "\n",
    "    # Remove extra spaces\n",
    "    name = re.sub(r'\\s+', ' ', name).strip()\n",
    "\n",
    "    # Remove middle names\n",
    "    parts = name.split()\n",
    "    if len(parts) > 2 :\n",
    "      name = f\"{parts[0]} {parts[-1]}\"\n",
    "\n",
    "    # Capitalize each part of the name\n",
    "    name = name.title()\n",
    "\n",
    "    return name\n",
    "\n",
    "# Apply the function to regulate names\n",
    "df['Regulated_Anesthesiologist_Name'] = df['anes_procedure_anesthesiologist_2255'].dropna().apply(regulate_name)\n",
    "df['Regulated_Resident_Name'] = df['anes_procedure_resident_2256'].dropna().apply(regulate_name)"
   ]
  },
  {
   "cell_type": "code",
   "execution_count": 106,
   "metadata": {
    "colab": {
     "background_save": true
    },
    "id": "oXOr9Udky9qK"
   },
   "outputs": [],
   "source": [
    "# prompt: set all blank Regulated_Anesthesiologist_Name and Regulated_Resident_Name to NaN\n",
    "\n",
    "df['Regulated_Anesthesiologist_Name'] = df['Regulated_Anesthesiologist_Name'].replace('', np.nan)\n",
    "df['Regulated_Resident_Name'] = df['Regulated_Resident_Name'].replace('', np.nan)"
   ]
  },
  {
   "cell_type": "code",
   "execution_count": 107,
   "metadata": {
    "colab": {
     "background_save": true
    },
    "id": "Lm5KJJXfZaPD"
   },
   "outputs": [],
   "source": [
    "# prompt: For each catheter, count how many (i.e., earlier best_timestamp) catheters were done by that provider (including the current one)\n",
    "\n",
    "df = df.sort_values('best_timestamp')\n",
    "\n",
    "df['current_anesthesiologist_catheter_count'] = (\n",
    "    df.groupby('Regulated_Anesthesiologist_Name')['is_neuraxial_catheter']\n",
    "      .cumsum()\n",
    ")\n",
    "\n",
    "df['current_resident_catheter_count'] = (\n",
    "    df.groupby('Regulated_Resident_Name')['is_neuraxial_catheter']\n",
    "      .cumsum()\n",
    ")"
   ]
  },
  {
   "cell_type": "code",
   "execution_count": 108,
   "metadata": {
    "id": "czc7KflO5Laq"
   },
   "outputs": [],
   "source": [
    "df['highly_experienced_anesthesiologist'] = np.where(df['current_anesthesiologist_catheter_count'] > 500, 'yes',\n",
    "                                                    np.where(df['current_anesthesiologist_catheter_count'] <= 500, 'no', 'none'))"
   ]
  },
  {
   "cell_type": "code",
   "execution_count": 109,
   "metadata": {
    "id": "_Flgn1iczuHP"
   },
   "outputs": [],
   "source": [
    "df['moderately_experienced_anesthesiologist'] = np.where(df['current_anesthesiologist_catheter_count'] > 100, 'yes',\n",
    "                                                        np.where(df['current_anesthesiologist_catheter_count'] <= 100, 'no', 'none'))"
   ]
  },
  {
   "cell_type": "code",
   "execution_count": 110,
   "metadata": {
    "id": "EOo7CtAq5Y6X"
   },
   "outputs": [],
   "source": [
    "# prompt: set df['highly_experienced_resident'] to 1 if current_resident_catheter_count > 50, to 0 if <= 50, and to -1 if NaN\n",
    "\n",
    "df['highly_experienced_resident'] = np.where(df['current_resident_catheter_count'] > 50, 'yes',\n",
    "                                                    np.where(df['current_resident_catheter_count'] <= 50, 'no', 'none'))"
   ]
  },
  {
   "cell_type": "markdown",
   "metadata": {
    "id": "gqbNsz2U26MN"
   },
   "source": [
    "## Feature engineering on categorical variables"
   ]
  },
  {
   "cell_type": "code",
   "execution_count": 111,
   "metadata": {
    "id": "Cd-k3VRq4r1e"
   },
   "outputs": [],
   "source": [
    "df['has_scoliosis'] = df['icd_scoliosis_2053'] == True"
   ]
  },
  {
   "cell_type": "code",
   "execution_count": 112,
   "metadata": {
    "id": "tsUb1icS5IAj"
   },
   "outputs": [],
   "source": [
    "df['has_dorsalgia'] = df['icd_dorsalgia_2104'] == True"
   ]
  },
  {
   "cell_type": "code",
   "execution_count": 113,
   "metadata": {
    "id": "zKT4Wd683p7p"
   },
   "outputs": [],
   "source": [
    "# prompt: create a column \"has_back_problems\" that is 1 where any of the following are True, else 0. Handle NaN.\n",
    "\n",
    "# Define the columns related to back problems\n",
    "back_problem_cols = [\n",
    "    'icd_scoliosis_2053',\n",
    "    'icd_spinal_fusion_2056',\n",
    "    'icd_congenital_deformity_spine_2059',\n",
    "    'icd_ra_and_sctds_2086',\n",
    "    'icd_kyphosis_and_lordosis_2089',\n",
    "    'icd_spinal_osteochondrosis_2092',\n",
    "    'icd_spondylopathies_and_deforming_dorsopathies_2095',\n",
    "    'icd_intervertebral_disc_disorders_2098',\n",
    "    'icd_ehlers_minus_danlos_2101',\n",
    "]\n",
    "\n",
    "# Note that spondyolopathies_and_deforming_dorsopathies are by far the biggest contributors\n",
    "\n",
    "# Create the 'has_back_problems' column\n",
    "df['has_back_problems'] = df[back_problem_cols].any(axis=1)"
   ]
  },
  {
   "cell_type": "code",
   "execution_count": 114,
   "metadata": {
    "id": "zLsKQUhDDGtI"
   },
   "outputs": [],
   "source": [
    "df['maternal_race'] = np.select(\n",
    "    [\n",
    "        df['maternal_race_2111'] == 'White',\n",
    "        df['maternal_race_2111'] == 'Asian',\n",
    "        df['maternal_race_2111'] == 'Black'\n",
    "    ],\n",
    "    [\n",
    "        'White',\n",
    "        'Asian',\n",
    "        'Black'\n",
    "    ],\n",
    "    default='Other/Unknown'\n",
    ")"
   ]
  },
  {
   "cell_type": "code",
   "execution_count": null,
   "metadata": {},
   "outputs": [],
   "source": [
    "df['maternal_ethnicity_2112'].value_counts(dropna=False)"
   ]
  },
  {
   "cell_type": "code",
   "execution_count": 116,
   "metadata": {},
   "outputs": [],
   "source": [
    "# Create a new column for maternal ethnicity, using Regex to look at the start of each line to find \"Hispanic\" or \"Not Hispanic\" (to avoid concatenations like \"Hispanic|Hispanic\")\n",
    "df['maternal_ethnicity'] = np.where(df['maternal_ethnicity_2112'].str.contains(r'^Hispanic', regex=True), 'Hispanic', np.where(df['maternal_ethnicity_2112'].str.contains(r'^Not Hispanic', regex=True), 'Non-Hispanic', 'Unknown'))"
   ]
  },
  {
   "cell_type": "code",
   "execution_count": 117,
   "metadata": {
    "id": "5av_qh2lmXoe"
   },
   "outputs": [],
   "source": [
    "composite_social_columns = [\n",
    "    \"drug_abuse_during_parent_2144\",\n",
    "    \"high_risk_social_problems_parent_2154\",\n",
    "    \"high_risk_insufficient_antenatal_care_parent_2157\",\n",
    "    \"icd_major_mental_health_disorder_2178\",\n",
    "    \"education_problems_2203\",\n",
    "    \"employment_problems_2206\",\n",
    "    \"adverse_occupational_2209\",\n",
    "    \"housing_problems_2212\",\n",
    "    \"adjustment_problems_2215\",\n",
    "    \"relationship_problems_2218\",\n",
    "    \"other_psychosocial_2221\",\n",
    "    \"smoker_during_pregnancy_parent_2117\",\n",
    "    \"drug_abuse_before_parent_2142\",\n",
    "    \"alcohol_during_parent_2147\",\n",
    "]\n",
    "\n",
    "df['composite_psychosocial_problems'] = df[composite_social_columns].any(axis=1)"
   ]
  },
  {
   "cell_type": "code",
   "execution_count": 118,
   "metadata": {
    "id": "nf7G1is51Ipc"
   },
   "outputs": [],
   "source": [
    "# prompt: create column 'only_private_insurance' for any row where public_insurance_2114 does NOT contains the string \"public\", ignore case\n",
    "\n",
    "# Assuming 'df' is your DataFrame.\n",
    "df['only_private_insurance'] = ~df['public_insurance_2114'].str.contains('public', case=False, na=False)"
   ]
  },
  {
   "cell_type": "code",
   "execution_count": 119,
   "metadata": {
    "id": "Vmdv_72612D3"
   },
   "outputs": [],
   "source": [
    "# prompt: create a column maternal_language_english for any row where maternal_language is english\n",
    "\n",
    "# Assuming 'df' is your DataFrame.\n",
    "df['maternal_language_english'] = df['maternal_language_2113'] == 'english'"
   ]
  },
  {
   "cell_type": "code",
   "execution_count": 120,
   "metadata": {
    "id": "IbQIty854NCO"
   },
   "outputs": [],
   "source": [
    "# prompt: create a column marital_status_married_or_partner for any row where marital_status_2184 is 'married' or 'partner'\n",
    "\n",
    "# Assuming 'df' is your DataFrame.\n",
    "df['marital_status_married_or_partner'] = df['marital_status_2184'].apply(lambda x: True if x in ['married', 'partner'] else False)"
   ]
  },
  {
   "cell_type": "code",
   "execution_count": 121,
   "metadata": {
    "id": "S1gl61Vo5z9D"
   },
   "outputs": [],
   "source": [
    "# prompt: create a column country_of_origin_USA that is country_of_origin_2186 == united states\n",
    "\n",
    "# Assuming 'df' is your DataFrame.\n",
    "df['country_of_origin_USA'] = df['country_of_origin_2186'] == 'united states'"
   ]
  },
  {
   "cell_type": "code",
   "execution_count": 122,
   "metadata": {
    "id": "RDTPeP9U6VUZ"
   },
   "outputs": [],
   "source": [
    "# prompt: create a column employment_status_fulltime that is employment_status_2187 == full time\n",
    "\n",
    "df['employment_status_fulltime'] = df['employment_status_2187'] == 'full time'"
   ]
  },
  {
   "cell_type": "code",
   "execution_count": 123,
   "metadata": {},
   "outputs": [],
   "source": [
    "composite_SES_columns = [\n",
    "    \"only_private_insurance\",\n",
    "    \"maternal_language_english\",\n",
    "    \"marital_status_married_or_partner\",\n",
    "    \"country_of_origin_USA\",\n",
    "    \"employment_status_fulltime\",\n",
    "]\n",
    "df['composite_SES_advantage'] = df[composite_SES_columns].all(axis=1)"
   ]
  },
  {
   "cell_type": "code",
   "execution_count": 124,
   "metadata": {
    "colab": {
     "background_save": true
    },
    "id": "jR7Kx62O8BNX"
   },
   "outputs": [],
   "source": [
    "# prompt: create a column epidural_needle_type based on anes_procedure_epidural_needle_2263 that can have values \"tuohy\",\"weiss\", or \"other\"\n",
    "\n",
    "# Create the 'epidural_needle_type' column based on 'anes_procedure_epidural_needle_2263'\n",
    "df['epidural_needle_type'] = df['anes_procedure_epidural_needle_2263'].map({\n",
    "    'tuohy': 'tuohy',\n",
    "    'weiss': 'weiss',\n",
    "}).fillna('other')"
   ]
  },
  {
   "cell_type": "code",
   "execution_count": 125,
   "metadata": {
    "id": "g5Kp4dAM8pQ7"
   },
   "outputs": [],
   "source": [
    "# prompt: create a column paresthesias_present that is anes_procedure_paresthesias_2270 either \"transient\" or \"yes\"\n",
    "\n",
    "# Create the 'paresthesias_present' column\n",
    "df['paresthesias_present'] = df['anes_procedure_paresthesias_2270'].apply(lambda x: True if x == 'yes' or x == 'transient' else False)"
   ]
  },
  {
   "cell_type": "code",
   "execution_count": 126,
   "metadata": {},
   "outputs": [],
   "source": [
    "df['delivery_site'] = np.where(df['delivery_site_2188'] == 'mgb', np.nan, df['delivery_site_2188'])"
   ]
  },
  {
   "cell_type": "code",
   "execution_count": null,
   "metadata": {},
   "outputs": [],
   "source": [
    "df['delivery_site'].value_counts(dropna=False)"
   ]
  },
  {
   "cell_type": "code",
   "execution_count": 128,
   "metadata": {},
   "outputs": [],
   "source": [
    "df['delivery_site_bwh'] = df['delivery_site'] == 'bwh'"
   ]
  },
  {
   "cell_type": "code",
   "execution_count": 129,
   "metadata": {},
   "outputs": [],
   "source": [
    "df['labor_induction'] = df[[\n",
    "    'induction_oxytocin_2189','induction_cervical_balloon_2190','induction_misoprostol_2191','induction_arom_2192','induction_foley_easy_2193']].any(axis=1)"
   ]
  },
  {
   "cell_type": "code",
   "execution_count": null,
   "metadata": {},
   "outputs": [],
   "source": [
    "df['fetal_presentation_position_2247'].value_counts(dropna=False)"
   ]
  },
  {
   "cell_type": "code",
   "execution_count": 131,
   "metadata": {},
   "outputs": [],
   "source": [
    "df['position_posterior_or_transverse'] = (df['fetal_presentation_position_2247'] == 'posterior') | (df['fetal_presentation_position_2247'] == 'transverse')"
   ]
  },
  {
   "cell_type": "code",
   "execution_count": null,
   "metadata": {},
   "outputs": [],
   "source": [
    "df['position_posterior_or_transverse'].value_counts(dropna=False)"
   ]
  },
  {
   "cell_type": "code",
   "execution_count": null,
   "metadata": {},
   "outputs": [],
   "source": [
    "df['fetal_presentation_category_2243'].value_counts(dropna=False)"
   ]
  },
  {
   "cell_type": "code",
   "execution_count": 134,
   "metadata": {},
   "outputs": [],
   "source": [
    "df['presentation_cephalic'] = df['fetal_presentation_category_2243'] == 'cephalic'"
   ]
  },
  {
   "cell_type": "code",
   "execution_count": null,
   "metadata": {},
   "outputs": [],
   "source": [
    "df['presentation_cephalic'].value_counts(dropna=False)"
   ]
  },
  {
   "cell_type": "markdown",
   "metadata": {},
   "source": [
    "## Create a new unique identifier based on epic_pmrn"
   ]
  },
  {
   "cell_type": "code",
   "execution_count": 136,
   "metadata": {},
   "outputs": [],
   "source": [
    "# Define identifier range (6-digit numbers)\n",
    "id_len = 8\n",
    "min_id, max_id = 10**(id_len-1), 10**id_len - 1\n",
    "\n",
    "# Create mapping of unique MRNs to unique random identifiers\n",
    "unique_mrns = df['epic_pmrn'].unique()\n",
    "mapping = dict(zip(unique_mrns, random.sample(range(min_id, max_id+1), len(unique_mrns))))\n",
    "\n",
    "# Map to a new column in DataFrame\n",
    "df['unique_pt_id'] = df['epic_pmrn'].map(mapping)"
   ]
  },
  {
   "cell_type": "markdown",
   "metadata": {
    "id": "B5mjv9mmfl2r"
   },
   "source": [
    "# Save processed data prior to analysis"
   ]
  },
  {
   "cell_type": "code",
   "execution_count": 137,
   "metadata": {
    "id": "LAF1Cqkc04aE"
   },
   "outputs": [],
   "source": [
    "complete_data = df.copy()"
   ]
  },
  {
   "cell_type": "code",
   "execution_count": 138,
   "metadata": {
    "id": "SWdKTtPTflV9"
   },
   "outputs": [],
   "source": [
    "# Save the DataFrame to a pickle file\n",
    "complete_data.to_pickle(my_computer_fpath + \"processed_merlin_data.pkl\")"
   ]
  },
  {
   "cell_type": "code",
   "execution_count": 139,
   "metadata": {
    "id": "3AIT25V7f_vj"
   },
   "outputs": [],
   "source": [
    "# prompt: Import libraries and open CSV\n",
    "\n",
    "import pandas as pd\n",
    "import numpy as np\n",
    "import re\n",
    "import datetime\n",
    "import matplotlib.pyplot as plt\n",
    "import random\n"
   ]
  },
  {
   "cell_type": "code",
   "execution_count": null,
   "metadata": {
    "id": "2pxsgBzbfzOz"
   },
   "outputs": [],
   "source": [
    "# Load the pickled DataFrame\n",
    "complete_data = pd.read_pickle(my_computer_fpath + \"processed_merlin_data.pkl\")\n",
    "\n",
    "# Now you can work with the DataFrame\n",
    "complete_data.head()"
   ]
  },
  {
   "cell_type": "code",
   "execution_count": 141,
   "metadata": {
    "id": "zwIzc7441Cot"
   },
   "outputs": [],
   "source": [
    "df = complete_data.copy()"
   ]
  },
  {
   "cell_type": "markdown",
   "metadata": {
    "id": "KddNYcoUiEWD"
   },
   "source": [
    "# Reduce Table to Chosen Features"
   ]
  },
  {
   "cell_type": "code",
   "execution_count": null,
   "metadata": {
    "id": "wouftr6X4Z57"
   },
   "outputs": [],
   "source": [
    "# prompt: print all columns as a list and make it easy to read over multiple lines\n",
    "\n",
    "# Assuming 'df' is your DataFrame (as defined in the provided code)\n",
    "all_columns = df.columns.tolist()\n",
    "\n",
    "# Print the list of columns, formatted for readability\n",
    "print(\"Columns of the DataFrame:\")\n",
    "for i, col in enumerate(all_columns):\n",
    "    print(f\"{i+1}. {col} ||| {df[col].dtype}\")"
   ]
  },
  {
   "cell_type": "code",
   "execution_count": 143,
   "metadata": {
    "id": "EFrTx2-X-Jyx"
   },
   "outputs": [],
   "source": [
    "chosen_features = [\n",
    "#    \"id\",\n",
    "    \"unique_pt_id\",\n",
    "    \"anes_procedure_encounter_id_2273\",\n",
    "    \"gestational_age_weeks\",\n",
    "    \"delivery_site\",\n",
    "    \"delivery_site_bwh\",\n",
    "    \"baby_weight_2196\",\n",
    "    \"rom_thru_delivery_hours\",\n",
    "    \"fetal_presentation_category_2243\",\n",
    "    \"fetal_presentation_position_2247\",\n",
    "    \"bmi_end_pregnancy_2044\",\n",
    "    \"maternal_weight_end_pregnancy_2045\",\n",
    "    \"bmi_before_pregnancy_2161\",\n",
    "#    \"zipcode_2185\",\n",
    "    \"gravidity_2047\",\n",
    "    \"parity_2048\",\n",
    "#    \"anes_procedure_note_text_2271\",\n",
    "#    \"best_timestamp\",\n",
    "#    \"true_procedure_type\",\n",
    "    \"is_neuraxial_catheter\",\n",
    "    \"failed_catheter\",\n",
    "#    \"dpe\",\n",
    "    \"lor_depth\",\n",
    "    \"current_resident_catheter_count\",\n",
    "    \"highly_experienced_anesthesiologist\",\n",
    "    \"highly_experienced_resident\",\n",
    "    \"current_anesthesiologist_catheter_count\",\n",
    "    \"moderately_experienced_anesthesiologist\",\n",
    "    \"has_scoliosis\",\n",
    "    \"has_dorsalgia\",\n",
    "    \"has_back_problems\",\n",
    "    \"maternal_race\",\n",
    "    \"maternal_ethnicity\",\n",
    " #   \"prior_pain_scores\",\n",
    "    \"prior_pain_scores_max\",\n",
    "    \"composite_psychosocial_problems\",\n",
    "    \"only_private_insurance\",\n",
    "    \"maternal_language_english\",\n",
    "    \"marital_status_married_or_partner\",\n",
    "    \"country_of_origin_USA\",\n",
    "    \"employment_status_fulltime\",\n",
    "    \"composite_SES_advantage\",\n",
    "    \"epidural_needle_type\",\n",
    "    \"paresthesias_present\",\n",
    "    \"number_of_neuraxial_attempts\",\n",
    "    \"prior_failed_catheters_this_enc\",\n",
    "    \"prior_failed_catheters_prev_enc\",\n",
    "    \"prior_all_catheters_all_enc\",\n",
    "    \"true_procedure_type_incl_dpe\",\n",
    "    \"maternal_age_years\",\n",
    "    \"placement_to_delivery_hours\",\n",
    "    \"labor_induction\",\n",
    "    \"position_posterior_or_transverse\",\n",
    "    \"presentation_cephalic\"\n",
    "]"
   ]
  },
  {
   "cell_type": "code",
   "execution_count": 144,
   "metadata": {
    "id": "Nr0wa_Zq-RfA"
   },
   "outputs": [],
   "source": [
    "df = df[chosen_features]"
   ]
  },
  {
   "cell_type": "code",
   "execution_count": null,
   "metadata": {},
   "outputs": [],
   "source": [
    "df = df.replace({True: 1, False: 0})"
   ]
  },
  {
   "cell_type": "code",
   "execution_count": null,
   "metadata": {
    "id": "pIr75B_tGNEV"
   },
   "outputs": [],
   "source": [
    "# prompt: print all columns as a list and make it easy to read over multiple lines\n",
    "\n",
    "all_columns = df.columns.tolist()\n",
    "\n",
    "# Print the list of columns, formatted for readability\n",
    "print(\"Columns of the DataFrame:\")\n",
    "for i, col in enumerate(all_columns):\n",
    "    print(f\"{i+1}. {col} ||| {df[col].dtype}\")"
   ]
  },
  {
   "cell_type": "markdown",
   "metadata": {},
   "source": [
    "# Download"
   ]
  },
  {
   "cell_type": "code",
   "execution_count": 148,
   "metadata": {},
   "outputs": [],
   "source": [
    "df.to_csv(my_computer_fpath + 'processed_merlin_data.csv', index=False)"
   ]
  }
 ],
 "metadata": {
  "colab": {
   "authorship_tag": "ABX9TyNKPV6NaW7+ZRxbDtLw/frD",
   "provenance": [],
   "toc_visible": true
  },
  "kernelspec": {
   "display_name": "Python 3",
   "name": "python3"
  },
  "language_info": {
   "codemirror_mode": {
    "name": "ipython",
    "version": 3
   },
   "file_extension": ".py",
   "mimetype": "text/x-python",
   "name": "python",
   "nbconvert_exporter": "python",
   "pygments_lexer": "ipython3",
   "version": "3.13.1"
  }
 },
 "nbformat": 4,
 "nbformat_minor": 0
}
