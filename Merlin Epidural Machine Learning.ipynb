{
 "cells": [
  {
   "cell_type": "markdown",
   "metadata": {},
   "source": [
    "# Imports and Load Data"
   ]
  },
  {
   "cell_type": "code",
   "execution_count": null,
   "metadata": {},
   "outputs": [],
   "source": [
    "import numpy as np\n",
    "import pandas as pd\n",
    "import matplotlib.pyplot as plt\n",
    "import seaborn as sns\n",
    "import statsmodels.formula.api as smf\n",
    "import modules.data_visualization_utils as dvu\n",
    "import modules.data_analysis_utils as dau\n",
    "import modules.shaply_utils as shu\n",
    "from importlib import reload\n",
    "import optuna\n",
    "import shap\n",
    "from sklearn.pipeline import Pipeline\n",
    "from sklearn.compose import ColumnTransformer\n",
    "from sklearn.feature_selection import SelectKBest, f_classif\n",
    "from sklearn.linear_model import LogisticRegression\n",
    "from sklearn.ensemble import RandomForestClassifier\n",
    "from xgboost import XGBClassifier\n",
    "from sklearn.preprocessing import StandardScaler, OneHotEncoder\n",
    "from sklearn.model_selection import cross_val_score, GroupShuffleSplit\n",
    "from sklearn.metrics import classification_report, confusion_matrix, roc_auc_score\n",
    "\n",
    "# my_computer_fpath = \"C:\\\\Users\\\\dfber\\\\OneDrive - Mass General Brigham\\\\Epidural project\\\\Data\\\\\"\n",
    "my_computer_fpath = \"C:\\\\Users\\\\User\\\\OneDrive - Mass General Brigham\\\\Epidural project\\\\Data\\\\\""
   ]
  },
  {
   "cell_type": "code",
   "execution_count": null,
   "metadata": {},
   "outputs": [],
   "source": [
    "df = pd.read_csv(my_computer_fpath + 'processed_and_imputed_merlin_data.csv') "
   ]
  },
  {
   "cell_type": "markdown",
   "metadata": {},
   "source": [
    "# Reduce to key features"
   ]
  },
  {
   "cell_type": "code",
   "execution_count": null,
   "metadata": {},
   "outputs": [],
   "source": [
    "df = dau.reduce_cols(df)"
   ]
  },
  {
   "cell_type": "code",
   "execution_count": null,
   "metadata": {},
   "outputs": [],
   "source": [
    "# Assume 'df' is your DataFrame with columns:\n",
    "#   - Outcome: 'failed_catheter'\n",
    "#   - Group ID: 'unique_pt_id' (vs 'anes_procedure_encounter_id_2273')\n",
    "# Remove the group column from the features.\n",
    "# Remove the outcome columns from the features.\n",
    "X = df.drop(columns=[\"unique_pt_id\", \"anes_procedure_encounter_id_2273\", \"failed_catheter\", \"has_subsequent_neuraxial_catheter\", \"has_subsequent_spinal\", \"has_subsequent_airway\", \"placement_to_delivery_hours\", \"rom_thru_delivery_hours\"], errors='ignore')\n",
    "y = df[\"failed_catheter\"]\n",
    "groups = df[\"unique_pt_id\"]"
   ]
  },
  {
   "cell_type": "markdown",
   "metadata": {},
   "source": [
    "# ML Trials"
   ]
  },
  {
   "cell_type": "code",
   "execution_count": null,
   "metadata": {},
   "outputs": [],
   "source": [
    "# Identify categorical and numerical columns\n",
    "categorical_cols = X.select_dtypes(include=[\"object\", \"category\"]).columns.tolist()\n",
    "numeric_cols = X.select_dtypes(exclude=[\"object\", \"category\"]).columns.tolist()\n",
    "\n",
    "# Define a preprocessor to scale numeric features and one-hot encode categorical features.\n",
    "preprocessor = ColumnTransformer(\n",
    "    transformers=[\n",
    "        (\"num\", StandardScaler(), numeric_cols),\n",
    "        (\"cat\", OneHotEncoder(handle_unknown=\"ignore\"), categorical_cols)\n",
    "    ]\n",
    ")\n",
    "\n",
    "# Group-based Train/Test Split: ensure that data from a given patient is only in train or test.\n",
    "gss = GroupShuffleSplit(n_splits=1, test_size=0.2, random_state=42)\n",
    "train_idx, test_idx = next(gss.split(X, y, groups=groups))\n",
    "X_train, X_test = X.iloc[train_idx], X.iloc[test_idx]\n",
    "y_train, y_test = y.iloc[train_idx], y.iloc[test_idx]\n",
    "\n",
    "def objective(trial):\n",
    "    # Optimize the number of top features to select.\n",
    "    # (Here we use the original number of features as an approximation.)\n",
    "    k = trial.suggest_int(\"k\", 1, X_train.shape[1])\n",
    "    \n",
    "    # Choose classifier type.\n",
    "    # classifier_name = trial.suggest_categorical(\"classifier\", [\"logistic\", \"random_forest\", \"xgboost\"])\n",
    "    classifier_name = trial.suggest_categorical(\"classifier\", [\"xgboost\"])\n",
    "    \n",
    "    if classifier_name == \"logistic\":\n",
    "        C = trial.suggest_float(\"C\", 1e-3, 1e2, log=True)\n",
    "        penalty = trial.suggest_categorical(\"penalty\", [\"l1\", \"l2\"])\n",
    "        model = LogisticRegression(solver=\"liblinear\", C=C, penalty=penalty, random_state=42)\n",
    "        \n",
    "    elif classifier_name == \"random_forest\":\n",
    "        n_estimators = trial.suggest_int(\"rf_n_estimators\", 50, 300)\n",
    "        max_depth = trial.suggest_int(\"rf_max_depth\", 3, 20)\n",
    "        model = RandomForestClassifier(n_estimators=n_estimators, max_depth=max_depth, random_state=42)\n",
    "        \n",
    "    elif classifier_name == \"xgboost\":\n",
    "        n_estimators = trial.suggest_int(\"xgb_n_estimators\", 50, 300)\n",
    "        max_depth = trial.suggest_int(\"xgb_max_depth\", 3, 20)\n",
    "        learning_rate = trial.suggest_float(\"xgb_learning_rate\", 0.01, 0.3, log=True)\n",
    "        model = XGBClassifier(\n",
    "            n_estimators=n_estimators, \n",
    "            max_depth=max_depth, \n",
    "            learning_rate=learning_rate, \n",
    "            random_state=42, \n",
    "            use_label_encoder=False, \n",
    "            eval_metric=\"logloss\"\n",
    "        )\n",
    "        \n",
    "    # Build a pipeline with preprocessing, feature selection, and the classifier.\n",
    "    pipeline = Pipeline([\n",
    "        (\"preprocessor\", preprocessor),\n",
    "        (\"select\", SelectKBest(score_func=f_classif, k=k)),\n",
    "        (\"clf\", model)\n",
    "    ])\n",
    "    \n",
    "    # Use 5-fold cross-validation (ROC AUC) on the training set.\n",
    "    score = cross_val_score(pipeline, X_train, y_train, cv=5, scoring=\"roc_auc\").mean()\n",
    "    return score\n",
    "\n",
    "# Run an Optuna study to maximize ROC AUC.\n",
    "study = optuna.create_study(direction=\"maximize\")\n",
    "study.optimize(objective, n_trials=1)\n",
    "\n",
    "print(\"Best trial:\")\n",
    "trial = study.best_trial\n",
    "print(f\"  Best AUC: {trial.value}\")\n",
    "for key, value in trial.params.items():\n",
    "    print(f\"    {key}: {value}\")\n",
    "\n",
    "# Reconstruct the best pipeline using the optimal parameters.\n",
    "best_classifier = trial.params[\"classifier\"]\n",
    "\n"
   ]
  },
  {
   "cell_type": "markdown",
   "metadata": {},
   "source": [
    "Best trial among 500 XBBoost trials:  \n",
    "  Best AUC: 0.6987792467838857  \n",
    "    k: 33  \n",
    "    classifier: xgboost  \n",
    "    xgb_n_estimators: 194  \n",
    "    xgb_max_depth: 4  \n",
    "    xgb_learning_rate: 0.04024859747455368  "
   ]
  },
  {
   "cell_type": "markdown",
   "metadata": {},
   "source": [
    "# Manually enter the saved hyperparameters"
   ]
  },
  {
   "cell_type": "code",
   "execution_count": null,
   "metadata": {},
   "outputs": [],
   "source": [
    "trial.params = {\n",
    "    \"k\": 33,\n",
    "    \"classifier\": \"xgboost\",\n",
    "    \"xgb_n_estimators\": 194,\n",
    "    \"xgb_max_depth\": 4,\n",
    "    \"xgb_learning_rate\": 0.04024859747455368,\n",
    "}\n",
    "best_classifier = trial.params[\"classifier\"]"
   ]
  },
  {
   "cell_type": "markdown",
   "metadata": {},
   "source": [
    "# Display info for best trial"
   ]
  },
  {
   "cell_type": "code",
   "execution_count": null,
   "metadata": {},
   "outputs": [],
   "source": [
    "reload(dvu)"
   ]
  },
  {
   "cell_type": "code",
   "execution_count": null,
   "metadata": {},
   "outputs": [],
   "source": [
    "if best_classifier == \"logistic\":\n",
    "    best_model = LogisticRegression(\n",
    "        solver=\"liblinear\",\n",
    "        C=trial.params[\"C\"],\n",
    "        penalty=trial.params[\"penalty\"],\n",
    "        random_state=42\n",
    "    )\n",
    "elif best_classifier == \"random_forest\":\n",
    "    best_model = RandomForestClassifier(\n",
    "        n_estimators=trial.params[\"rf_n_estimators\"],\n",
    "        max_depth=trial.params[\"rf_max_depth\"],\n",
    "        random_state=42\n",
    "    )\n",
    "elif best_classifier == \"xgboost\":\n",
    "    best_model = XGBClassifier(\n",
    "        n_estimators=trial.params[\"xgb_n_estimators\"],\n",
    "        max_depth=trial.params[\"xgb_max_depth\"],\n",
    "        learning_rate=trial.params[\"xgb_learning_rate\"],\n",
    "        random_state=42,\n",
    "        use_label_encoder=False,\n",
    "        eval_metric=\"logloss\"\n",
    "    )\n",
    "\n",
    "final_pipeline = Pipeline([\n",
    "    (\"preprocessor\", preprocessor),\n",
    "    (\"select\", SelectKBest(score_func=f_classif, k=trial.params[\"k\"])),\n",
    "    (\"clf\", best_model)\n",
    "])\n",
    "final_pipeline.fit(X_train, y_train)\n",
    "\n",
    "# Evaluate the final model on the test set.\n",
    "y_pred = final_pipeline.predict(X_test)\n",
    "y_proba = final_pipeline.predict_proba(X_test)[:, 1]\n",
    "\n",
    "print(\"\\nClassification Report:\")\n",
    "print(classification_report(y_test, y_pred))\n",
    "print(\"Confusion Matrix:\")\n",
    "print(confusion_matrix(y_test, y_pred))\n",
    "test_auc = roc_auc_score(y_test, y_proba)\n",
    "print(\"Test AUC:\", test_auc)\n",
    "\n",
    "dvu.plot_roc_curve(y_test, y_proba, test_auc)"
   ]
  },
  {
   "cell_type": "markdown",
   "metadata": {},
   "source": [
    "# Compare to ordinary logistic regression"
   ]
  },
  {
   "cell_type": "code",
   "execution_count": null,
   "metadata": {},
   "outputs": [],
   "source": [
    "X_train_logistic, X_test_logistic, y_train_logistic, y_test_logistic = dau.preprocess_data(data=df.copy())\n",
    "logistic_model = dau.do_logistic_regression(X_train_logistic, X_test_logistic, y_train_logistic, y_test_logistic)\n",
    "y_pred_logistic = logistic_model.predict(X_test_logistic)\n",
    "y_pred_prob_logistic = logistic_model.predict_proba(X_test_logistic)[:, 1]"
   ]
  },
  {
   "cell_type": "code",
   "execution_count": null,
   "metadata": {},
   "outputs": [],
   "source": [
    "reload(dvu)"
   ]
  },
  {
   "cell_type": "code",
   "execution_count": null,
   "metadata": {},
   "outputs": [],
   "source": []
  },
  {
   "cell_type": "code",
   "execution_count": null,
   "metadata": {},
   "outputs": [],
   "source": [
    "dvu.plot_roc_curve([y_test, y_test_logistic], [y_proba, y_pred_prob_logistic], [test_auc, roc_auc_score(y_test, y_pred_prob_logistic)], labels=['XGBoost','Logistic Regression'])"
   ]
  },
  {
   "cell_type": "markdown",
   "metadata": {},
   "source": [
    "# Shapley analysis"
   ]
  },
  {
   "cell_type": "code",
   "execution_count": null,
   "metadata": {},
   "outputs": [],
   "source": [
    "reload(dau)\n",
    "reload(dvu)"
   ]
  },
  {
   "cell_type": "code",
   "execution_count": null,
   "metadata": {},
   "outputs": [],
   "source": [
    "# -------------------------------\n",
    "# SHAP Analysis for Model Interpretability\n",
    "# -------------------------------\n",
    "# Get feature names after preprocessing.\n",
    "# (Requires scikit-learn 1.0+)\n",
    "feature_names_num = numeric_cols\n",
    "feature_names_cat = final_pipeline.named_steps[\"preprocessor\"].transformers_[1][1]\\\n",
    "                    .get_feature_names_out(categorical_cols)\n",
    "all_feature_names = np.concatenate([feature_names_num, feature_names_cat])\n",
    "\n",
    "# Retrieve indices of the selected features from SelectKBest.\n",
    "selected_mask = final_pipeline.named_steps[\"select\"].get_support()\n",
    "selected_feature_names = all_feature_names[selected_mask]\n",
    "renamed_feature_names = dau.rename_feature_names_onehot_nodrop(selected_feature_names)\n",
    "\n",
    "# Transform training and test data for SHAP analysis.\n",
    "X_train_preprocessed = final_pipeline.named_steps[\"preprocessor\"].transform(X_train)\n",
    "X_train_transformed = final_pipeline.named_steps[\"select\"].transform(X_train_preprocessed)\n",
    "\n",
    "X_test_preprocessed = final_pipeline.named_steps[\"preprocessor\"].transform(X_test)\n",
    "X_test_transformed = final_pipeline.named_steps[\"select\"].transform(X_test_preprocessed)\n",
    "\n",
    "# Choose the appropriate SHAP explainer based on the classifier.\n",
    "if best_classifier == \"logistic\":\n",
    "    explainer = shap.LinearExplainer(\n",
    "        final_pipeline.named_steps[\"clf\"], \n",
    "        X_train_transformed,\n",
    "        feature_perturbation=\"interventional\"\n",
    "    )\n",
    "else:\n",
    "    explainer = shap.TreeExplainer(final_pipeline.named_steps[\"clf\"])\n",
    "\n",
    "# Calculate SHAP values on the test set.\n",
    "shap_values = explainer.shap_values(X_test_transformed)"
   ]
  },
  {
   "cell_type": "code",
   "execution_count": null,
   "metadata": {},
   "outputs": [],
   "source": [
    "shu.plot_shapley(shap_values, X_test_transformed, feature_names=renamed_feature_names)"
   ]
  },
  {
   "cell_type": "code",
   "execution_count": null,
   "metadata": {},
   "outputs": [],
   "source": []
  }
 ],
 "metadata": {
  "kernelspec": {
   "display_name": "Python 3",
   "language": "python",
   "name": "python3"
  },
  "language_info": {
   "codemirror_mode": {
    "name": "ipython",
    "version": 3
   },
   "file_extension": ".py",
   "mimetype": "text/x-python",
   "name": "python",
   "nbconvert_exporter": "python",
   "pygments_lexer": "ipython3",
   "version": "3.11.11"
  }
 },
 "nbformat": 4,
 "nbformat_minor": 2
}
